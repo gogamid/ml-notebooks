{
  "cells": [
    {
      "cell_type": "markdown",
      "metadata": {
        "id": "view-in-github",
        "colab_type": "text"
      },
      "source": [
        "<a href=\"https://colab.research.google.com/github/gogamid/ml-notebooks/blob/main/sccl-experiments/ewc_avalanche.ipynb\" target=\"_parent\"><img src=\"https://colab.research.google.com/assets/colab-badge.svg\" alt=\"Open In Colab\"/></a>"
      ]
    },
    {
      "cell_type": "code",
      "execution_count": null,
      "metadata": {
        "id": "680qbtL3G81i"
      },
      "outputs": [],
      "source": [
        "%pip install git+https://github.com/ContinualAI/avalanche.git"
      ]
    },
    {
      "cell_type": "code",
      "execution_count": 4,
      "metadata": {
        "colab": {
          "base_uri": "https://localhost:8080/",
          "height": 1000,
          "referenced_widgets": [
            "d2ef6a7e6e53488db3f36f122a5e02dd",
            "20100862077c427b9ff694caa5d1254c",
            "6332a6d4d96e4fa89a9d67cc8e4086db",
            "f13fd43ee144469abc7d57658d815aaf",
            "513dec47f86645e3aa3cc0e2a81176c7",
            "84527b30e10f405f9442568b78630200",
            "9130bb8608b746afb0e75cf055f4c2a5",
            "6bd4a2f1c8884d1589aa8f4fed9f725b",
            "2ee0a110d4e64642a884bf5904d3ce5c",
            "d2935e712d9c446bbd89c2a67eede1a2",
            "4e13f3a6bb974346ba9737ec7f88c353",
            "f644adfce27349d595c16f3833268fb5",
            "0e36d300c61544a58c2a73dd83e9f20c",
            "5b6e3991965b4610847b165843dab23d",
            "73c91dcd4d4c47048155764b2c7a55f8",
            "0056e4c9369a4868819b7dff3c77b196"
          ]
        },
        "id": "-yjX1rls_2Iz",
        "outputId": "31977ee2-c997-4da9-9195-6181a2bde6e4"
      },
      "outputs": [
        {
          "output_type": "display_data",
          "data": {
            "text/plain": [
              "<IPython.core.display.HTML object>"
            ],
            "text/html": [
              "Finishing last run (ID:9cyc8wex) before initializing another..."
            ]
          },
          "metadata": {}
        },
        {
          "output_type": "display_data",
          "data": {
            "text/plain": [
              "VBox(children=(Label(value='0.001 MB of 0.018 MB uploaded\\r'), FloatProgress(value=0.06638550452983442, max=1.…"
            ],
            "application/vnd.jupyter.widget-view+json": {
              "version_major": 2,
              "version_minor": 0,
              "model_id": "d2ef6a7e6e53488db3f36f122a5e02dd"
            }
          },
          "metadata": {}
        },
        {
          "output_type": "display_data",
          "data": {
            "text/plain": [
              "<IPython.core.display.HTML object>"
            ],
            "text/html": [
              "<style>\n",
              "    table.wandb td:nth-child(1) { padding: 0 10px; text-align: left ; width: auto;} td:nth-child(2) {text-align: left ; width: 100%}\n",
              "    .wandb-row { display: flex; flex-direction: row; flex-wrap: wrap; justify-content: flex-start; width: 100% }\n",
              "    .wandb-col { display: flex; flex-direction: column; flex-basis: 100%; flex: 1; padding: 10px; }\n",
              "    </style>\n",
              "<div class=\"wandb-row\"><div class=\"wandb-col\"><h3>Run history:</h3><br/><table class=\"wandb\"><tr><td>Top1_Acc_Exp/eval_phase/test_stream/Task000/Exp000</td><td>█▂▁▁▁</td></tr><tr><td>Top1_Acc_Exp/eval_phase/test_stream/Task000/Exp001</td><td>▁█▁▁▁</td></tr><tr><td>Top1_Acc_Exp/eval_phase/test_stream/Task000/Exp002</td><td>▁▁█▁▁</td></tr><tr><td>Top1_Acc_Exp/eval_phase/test_stream/Task000/Exp003</td><td>▁▁▁█▁</td></tr><tr><td>Top1_Acc_Exp/eval_phase/test_stream/Task000/Exp004</td><td>▁▁▁▁█</td></tr><tr><td>Top1_Acc_Stream/eval_phase/test_stream/Task000</td><td>▇█▁▄▃</td></tr><tr><td>TrainingExperience</td><td>▁▃▅▆█</td></tr></table><br/></div><div class=\"wandb-col\"><h3>Run summary:</h3><br/><table class=\"wandb\"><tr><td>Top1_Acc_Exp/eval_phase/test_stream/Task000/Exp000</td><td>0.0</td></tr><tr><td>Top1_Acc_Exp/eval_phase/test_stream/Task000/Exp001</td><td>0.0</td></tr><tr><td>Top1_Acc_Exp/eval_phase/test_stream/Task000/Exp002</td><td>0.0</td></tr><tr><td>Top1_Acc_Exp/eval_phase/test_stream/Task000/Exp003</td><td>0.01662</td></tr><tr><td>Top1_Acc_Exp/eval_phase/test_stream/Task000/Exp004</td><td>0.95915</td></tr><tr><td>Top1_Acc_Stream/eval_phase/test_stream/Task000</td><td>0.1935</td></tr><tr><td>TrainingExperience</td><td>4</td></tr></table><br/></div></div>"
            ]
          },
          "metadata": {}
        },
        {
          "output_type": "display_data",
          "data": {
            "text/plain": [
              "<IPython.core.display.HTML object>"
            ],
            "text/html": [
              " View run <strong style=\"color:#cdcd00\">ewc_split_mnist</strong> at: <a href='https://wandb.ai/gogamid/avalanche/runs/9cyc8wex' target=\"_blank\">https://wandb.ai/gogamid/avalanche/runs/9cyc8wex</a><br/>Synced 5 W&B file(s), 0 media file(s), 0 artifact file(s) and 0 other file(s)"
            ]
          },
          "metadata": {}
        },
        {
          "output_type": "display_data",
          "data": {
            "text/plain": [
              "<IPython.core.display.HTML object>"
            ],
            "text/html": [
              "Find logs at: <code>./wandb/run-20240113_164407-9cyc8wex/logs</code>"
            ]
          },
          "metadata": {}
        },
        {
          "output_type": "display_data",
          "data": {
            "text/plain": [
              "<IPython.core.display.HTML object>"
            ],
            "text/html": [
              "Successfully finished last run (ID:9cyc8wex). Initializing new run:<br/>"
            ]
          },
          "metadata": {}
        },
        {
          "output_type": "display_data",
          "data": {
            "text/plain": [
              "<IPython.core.display.HTML object>"
            ],
            "text/html": [
              "Tracking run with wandb version 0.16.2"
            ]
          },
          "metadata": {}
        },
        {
          "output_type": "display_data",
          "data": {
            "text/plain": [
              "<IPython.core.display.HTML object>"
            ],
            "text/html": [
              "Run data is saved locally in <code>/content/wandb/run-20240113_164718-p4t2p6m2</code>"
            ]
          },
          "metadata": {}
        },
        {
          "output_type": "display_data",
          "data": {
            "text/plain": [
              "<IPython.core.display.HTML object>"
            ],
            "text/html": [
              "Syncing run <strong><a href='https://wandb.ai/gogamid/avalanche/runs/p4t2p6m2' target=\"_blank\">ewc_split_mnist</a></strong> to <a href='https://wandb.ai/gogamid/avalanche' target=\"_blank\">Weights & Biases</a> (<a href='https://wandb.me/run' target=\"_blank\">docs</a>)<br/>"
            ]
          },
          "metadata": {}
        },
        {
          "output_type": "display_data",
          "data": {
            "text/plain": [
              "<IPython.core.display.HTML object>"
            ],
            "text/html": [
              " View project at <a href='https://wandb.ai/gogamid/avalanche' target=\"_blank\">https://wandb.ai/gogamid/avalanche</a>"
            ]
          },
          "metadata": {}
        },
        {
          "output_type": "display_data",
          "data": {
            "text/plain": [
              "<IPython.core.display.HTML object>"
            ],
            "text/html": [
              " View run at <a href='https://wandb.ai/gogamid/avalanche/runs/p4t2p6m2' target=\"_blank\">https://wandb.ai/gogamid/avalanche/runs/p4t2p6m2</a>"
            ]
          },
          "metadata": {}
        },
        {
          "output_type": "stream",
          "name": "stdout",
          "text": [
            "Starting experiment...\n",
            "Start of experience  0\n",
            "-- >> Start of training phase << --\n",
            "100%|██████████| 50/50 [00:02<00:00, 21.73it/s]\n",
            "Epoch 0 ended.\n",
            "100%|██████████| 50/50 [00:01<00:00, 25.40it/s]\n",
            "Epoch 1 ended.\n",
            "100%|██████████| 50/50 [00:01<00:00, 25.41it/s]\n",
            "Epoch 2 ended.\n",
            "100%|██████████| 50/50 [00:01<00:00, 25.81it/s]\n",
            "Epoch 3 ended.\n",
            "100%|██████████| 50/50 [00:02<00:00, 23.64it/s]\n",
            "Epoch 4 ended.\n",
            "100%|██████████| 50/50 [00:02<00:00, 16.67it/s]\n",
            "Epoch 5 ended.\n",
            "100%|██████████| 50/50 [00:01<00:00, 25.24it/s]\n",
            "Epoch 6 ended.\n",
            "100%|██████████| 50/50 [00:02<00:00, 24.84it/s]\n",
            "Epoch 7 ended.\n",
            "100%|██████████| 50/50 [00:02<00:00, 24.56it/s]\n",
            "Epoch 8 ended.\n",
            "100%|██████████| 50/50 [00:02<00:00, 24.62it/s]\n",
            "Epoch 9 ended.\n",
            "-- >> End of training phase << --\n",
            "Training completed\n",
            "Computing accuracy on the whole test set\n",
            "-- >> Start of eval phase << --\n",
            "-- Starting eval on experience 0 (Task 0) from test stream --\n",
            "100%|██████████| 17/17 [00:00<00:00, 34.30it/s]\n",
            "> Eval on experience 0 (Task 0) from test stream ended.\n",
            "\tTop1_Acc_Exp/eval_phase/test_stream/Task000/Exp000 = 0.9981\n",
            "-- Starting eval on experience 1 (Task 0) from test stream --\n",
            "100%|██████████| 16/16 [00:00<00:00, 33.86it/s]\n",
            "> Eval on experience 1 (Task 0) from test stream ended.\n",
            "\tTop1_Acc_Exp/eval_phase/test_stream/Task000/Exp001 = 0.0000\n",
            "-- Starting eval on experience 2 (Task 0) from test stream --\n",
            "100%|██████████| 15/15 [00:00<00:00, 36.11it/s]\n",
            "> Eval on experience 2 (Task 0) from test stream ended.\n",
            "\tTop1_Acc_Exp/eval_phase/test_stream/Task000/Exp002 = 0.0000\n",
            "-- Starting eval on experience 3 (Task 0) from test stream --\n",
            "100%|██████████| 16/16 [00:00<00:00, 35.22it/s]\n",
            "> Eval on experience 3 (Task 0) from test stream ended.\n",
            "\tTop1_Acc_Exp/eval_phase/test_stream/Task000/Exp003 = 0.0000\n",
            "-- Starting eval on experience 4 (Task 0) from test stream --\n",
            "100%|██████████| 16/16 [00:00<00:00, 35.28it/s]\n",
            "> Eval on experience 4 (Task 0) from test stream ended.\n",
            "\tTop1_Acc_Exp/eval_phase/test_stream/Task000/Exp004 = 0.0000\n",
            "-- >> End of eval phase << --\n",
            "\tTop1_Acc_Stream/eval_phase/test_stream/Task000 = 0.2111\n",
            "Start of experience  1\n",
            "-- >> Start of training phase << --\n",
            "100%|██████████| 48/48 [00:02<00:00, 20.04it/s]\n",
            "Epoch 0 ended.\n",
            "100%|██████████| 48/48 [00:02<00:00, 19.41it/s]\n",
            "Epoch 1 ended.\n",
            "100%|██████████| 48/48 [00:02<00:00, 21.06it/s]\n",
            "Epoch 2 ended.\n",
            "100%|██████████| 48/48 [00:02<00:00, 17.78it/s]\n",
            "Epoch 3 ended.\n",
            "100%|██████████| 48/48 [00:02<00:00, 21.00it/s]\n",
            "Epoch 4 ended.\n",
            "100%|██████████| 48/48 [00:02<00:00, 18.82it/s]\n",
            "Epoch 5 ended.\n",
            "100%|██████████| 48/48 [00:02<00:00, 21.32it/s]\n",
            "Epoch 6 ended.\n",
            "100%|██████████| 48/48 [00:01<00:00, 25.16it/s]\n",
            "Epoch 7 ended.\n",
            "100%|██████████| 48/48 [00:01<00:00, 25.18it/s]\n",
            "Epoch 8 ended.\n",
            "100%|██████████| 48/48 [00:01<00:00, 25.17it/s]\n",
            "Epoch 9 ended.\n",
            "-- >> End of training phase << --\n",
            "Training completed\n",
            "Computing accuracy on the whole test set\n",
            "-- >> Start of eval phase << --\n",
            "-- Starting eval on experience 0 (Task 0) from test stream --\n",
            "100%|██████████| 17/17 [00:00<00:00, 48.47it/s]\n",
            "> Eval on experience 0 (Task 0) from test stream ended.\n",
            "\tTop1_Acc_Exp/eval_phase/test_stream/Task000/Exp000 = 0.0222\n",
            "-- Starting eval on experience 1 (Task 0) from test stream --\n",
            "100%|██████████| 16/16 [00:00<00:00, 31.45it/s]\n",
            "> Eval on experience 1 (Task 0) from test stream ended.\n",
            "\tTop1_Acc_Exp/eval_phase/test_stream/Task000/Exp001 = 0.9589\n",
            "-- Starting eval on experience 2 (Task 0) from test stream --\n",
            "100%|██████████| 15/15 [00:00<00:00, 35.32it/s]\n",
            "> Eval on experience 2 (Task 0) from test stream ended.\n",
            "\tTop1_Acc_Exp/eval_phase/test_stream/Task000/Exp002 = 0.0000\n",
            "-- Starting eval on experience 3 (Task 0) from test stream --\n",
            "100%|██████████| 16/16 [00:00<00:00, 37.37it/s]\n",
            "> Eval on experience 3 (Task 0) from test stream ended.\n",
            "\tTop1_Acc_Exp/eval_phase/test_stream/Task000/Exp003 = 0.0000\n",
            "-- Starting eval on experience 4 (Task 0) from test stream --\n",
            "100%|██████████| 16/16 [00:00<00:00, 33.72it/s]\n",
            "> Eval on experience 4 (Task 0) from test stream ended.\n",
            "\tTop1_Acc_Exp/eval_phase/test_stream/Task000/Exp004 = 0.0000\n",
            "-- >> End of eval phase << --\n",
            "\tTop1_Acc_Stream/eval_phase/test_stream/Task000 = 0.2005\n",
            "Start of experience  2\n",
            "-- >> Start of training phase << --\n",
            "100%|██████████| 44/44 [00:02<00:00, 18.96it/s]\n",
            "Epoch 0 ended.\n",
            "100%|██████████| 44/44 [00:02<00:00, 21.00it/s]\n",
            "Epoch 1 ended.\n",
            "100%|██████████| 44/44 [00:01<00:00, 24.64it/s]\n",
            "Epoch 2 ended.\n",
            "100%|██████████| 44/44 [00:01<00:00, 25.17it/s]\n",
            "Epoch 3 ended.\n",
            "100%|██████████| 44/44 [00:01<00:00, 24.91it/s]\n",
            "Epoch 4 ended.\n",
            "100%|██████████| 44/44 [00:01<00:00, 24.44it/s]\n",
            "Epoch 5 ended.\n",
            "100%|██████████| 44/44 [00:02<00:00, 17.91it/s]\n",
            "Epoch 6 ended.\n",
            "100%|██████████| 44/44 [00:02<00:00, 18.43it/s]\n",
            "Epoch 7 ended.\n",
            "100%|██████████| 44/44 [00:01<00:00, 25.02it/s]\n",
            "Epoch 8 ended.\n",
            "100%|██████████| 44/44 [00:01<00:00, 24.16it/s]\n",
            "Epoch 9 ended.\n",
            "-- >> End of training phase << --\n",
            "Training completed\n",
            "Computing accuracy on the whole test set\n",
            "-- >> Start of eval phase << --\n",
            "-- Starting eval on experience 0 (Task 0) from test stream --\n",
            "100%|██████████| 17/17 [00:00<00:00, 47.92it/s]\n",
            "> Eval on experience 0 (Task 0) from test stream ended.\n",
            "\tTop1_Acc_Exp/eval_phase/test_stream/Task000/Exp000 = 0.0000\n",
            "-- Starting eval on experience 1 (Task 0) from test stream --\n",
            "100%|██████████| 16/16 [00:00<00:00, 44.97it/s]\n",
            "> Eval on experience 1 (Task 0) from test stream ended.\n",
            "\tTop1_Acc_Exp/eval_phase/test_stream/Task000/Exp001 = 0.0000\n",
            "-- Starting eval on experience 2 (Task 0) from test stream --\n",
            "100%|██████████| 15/15 [00:00<00:00, 46.00it/s]\n",
            "> Eval on experience 2 (Task 0) from test stream ended.\n",
            "\tTop1_Acc_Exp/eval_phase/test_stream/Task000/Exp002 = 0.9717\n",
            "-- Starting eval on experience 3 (Task 0) from test stream --\n",
            "100%|██████████| 16/16 [00:00<00:00, 47.92it/s]\n",
            "> Eval on experience 3 (Task 0) from test stream ended.\n",
            "\tTop1_Acc_Exp/eval_phase/test_stream/Task000/Exp003 = 0.0000\n",
            "-- Starting eval on experience 4 (Task 0) from test stream --\n",
            "100%|██████████| 16/16 [00:00<00:00, 47.16it/s]\n",
            "> Eval on experience 4 (Task 0) from test stream ended.\n",
            "\tTop1_Acc_Exp/eval_phase/test_stream/Task000/Exp004 = 0.0000\n",
            "-- >> End of eval phase << --\n",
            "\tTop1_Acc_Stream/eval_phase/test_stream/Task000 = 0.1821\n",
            "Start of experience  3\n",
            "-- >> Start of training phase << --\n",
            "100%|██████████| 48/48 [00:02<00:00, 22.42it/s]\n",
            "Epoch 0 ended.\n",
            "100%|██████████| 48/48 [00:02<00:00, 17.58it/s]\n",
            "Epoch 1 ended.\n",
            "100%|██████████| 48/48 [00:02<00:00, 20.24it/s]\n",
            "Epoch 2 ended.\n",
            "100%|██████████| 48/48 [00:01<00:00, 24.44it/s]\n",
            "Epoch 3 ended.\n",
            "100%|██████████| 48/48 [00:02<00:00, 23.99it/s]\n",
            "Epoch 4 ended.\n",
            "100%|██████████| 48/48 [00:01<00:00, 24.12it/s]\n",
            "Epoch 5 ended.\n",
            "100%|██████████| 48/48 [00:02<00:00, 23.33it/s]\n",
            "Epoch 6 ended.\n",
            "100%|██████████| 48/48 [00:02<00:00, 16.00it/s]\n",
            "Epoch 7 ended.\n",
            "100%|██████████| 48/48 [00:02<00:00, 23.62it/s]\n",
            "Epoch 8 ended.\n",
            "100%|██████████| 48/48 [00:02<00:00, 23.61it/s]\n",
            "Epoch 9 ended.\n",
            "-- >> End of training phase << --\n",
            "Training completed\n",
            "Computing accuracy on the whole test set\n",
            "-- >> Start of eval phase << --\n",
            "-- Starting eval on experience 0 (Task 0) from test stream --\n",
            "100%|██████████| 17/17 [00:00<00:00, 44.72it/s]\n",
            "> Eval on experience 0 (Task 0) from test stream ended.\n",
            "\tTop1_Acc_Exp/eval_phase/test_stream/Task000/Exp000 = 0.0000\n",
            "-- Starting eval on experience 1 (Task 0) from test stream --\n",
            "100%|██████████| 16/16 [00:00<00:00, 44.39it/s]\n",
            "> Eval on experience 1 (Task 0) from test stream ended.\n",
            "\tTop1_Acc_Exp/eval_phase/test_stream/Task000/Exp001 = 0.0000\n",
            "-- Starting eval on experience 2 (Task 0) from test stream --\n",
            "100%|██████████| 15/15 [00:00<00:00, 45.07it/s]\n",
            "> Eval on experience 2 (Task 0) from test stream ended.\n",
            "\tTop1_Acc_Exp/eval_phase/test_stream/Task000/Exp002 = 0.0005\n",
            "-- Starting eval on experience 3 (Task 0) from test stream --\n",
            "100%|██████████| 16/16 [00:00<00:00, 47.05it/s]\n",
            "> Eval on experience 3 (Task 0) from test stream ended.\n",
            "\tTop1_Acc_Exp/eval_phase/test_stream/Task000/Exp003 = 0.9879\n",
            "-- Starting eval on experience 4 (Task 0) from test stream --\n",
            "100%|██████████| 16/16 [00:00<00:00, 46.55it/s]\n",
            "> Eval on experience 4 (Task 0) from test stream ended.\n",
            "\tTop1_Acc_Exp/eval_phase/test_stream/Task000/Exp004 = 0.0000\n",
            "-- >> End of eval phase << --\n",
            "\tTop1_Acc_Stream/eval_phase/test_stream/Task000 = 0.1963\n",
            "Start of experience  4\n",
            "-- >> Start of training phase << --\n",
            "100%|██████████| 47/47 [00:01<00:00, 24.11it/s]\n",
            "Epoch 0 ended.\n",
            "100%|██████████| 47/47 [00:02<00:00, 18.80it/s]\n",
            "Epoch 1 ended.\n",
            "100%|██████████| 47/47 [00:02<00:00, 18.65it/s]\n",
            "Epoch 2 ended.\n",
            "100%|██████████| 47/47 [00:02<00:00, 21.25it/s]\n",
            "Epoch 3 ended.\n",
            "100%|██████████| 47/47 [00:01<00:00, 23.51it/s]\n",
            "Epoch 4 ended.\n",
            "100%|██████████| 47/47 [00:01<00:00, 24.29it/s]\n",
            "Epoch 5 ended.\n",
            "100%|██████████| 47/47 [00:01<00:00, 23.52it/s]\n",
            "Epoch 6 ended.\n",
            "100%|██████████| 47/47 [00:02<00:00, 20.44it/s]\n",
            "Epoch 7 ended.\n",
            "100%|██████████| 47/47 [00:02<00:00, 16.89it/s]\n",
            "Epoch 8 ended.\n",
            "100%|██████████| 47/47 [00:01<00:00, 23.89it/s]\n",
            "Epoch 9 ended.\n",
            "-- >> End of training phase << --\n",
            "Training completed\n",
            "Computing accuracy on the whole test set\n",
            "-- >> Start of eval phase << --\n",
            "-- Starting eval on experience 0 (Task 0) from test stream --\n",
            "100%|██████████| 17/17 [00:00<00:00, 44.98it/s]\n",
            "> Eval on experience 0 (Task 0) from test stream ended.\n",
            "\tTop1_Acc_Exp/eval_phase/test_stream/Task000/Exp000 = 0.0000\n",
            "-- Starting eval on experience 1 (Task 0) from test stream --\n",
            "100%|██████████| 16/16 [00:00<00:00, 46.34it/s]\n",
            "> Eval on experience 1 (Task 0) from test stream ended.\n",
            "\tTop1_Acc_Exp/eval_phase/test_stream/Task000/Exp001 = 0.0000\n",
            "-- Starting eval on experience 2 (Task 0) from test stream --\n",
            "100%|██████████| 15/15 [00:00<00:00, 45.29it/s]\n",
            "> Eval on experience 2 (Task 0) from test stream ended.\n",
            "\tTop1_Acc_Exp/eval_phase/test_stream/Task000/Exp002 = 0.0000\n",
            "-- Starting eval on experience 3 (Task 0) from test stream --\n",
            "100%|██████████| 16/16 [00:00<00:00, 45.20it/s]\n",
            "> Eval on experience 3 (Task 0) from test stream ended.\n",
            "\tTop1_Acc_Exp/eval_phase/test_stream/Task000/Exp003 = 0.0227\n",
            "-- Starting eval on experience 4 (Task 0) from test stream --\n",
            "100%|██████████| 16/16 [00:00<00:00, 49.01it/s]\n",
            "> Eval on experience 4 (Task 0) from test stream ended.\n",
            "\tTop1_Acc_Exp/eval_phase/test_stream/Task000/Exp004 = 0.9576\n",
            "-- >> End of eval phase << --\n",
            "\tTop1_Acc_Stream/eval_phase/test_stream/Task000 = 0.1944\n"
          ]
        },
        {
          "output_type": "display_data",
          "data": {
            "text/plain": [
              "VBox(children=(Label(value='0.001 MB of 0.041 MB uploaded\\r'), FloatProgress(value=0.029783055919207033, max=1…"
            ],
            "application/vnd.jupyter.widget-view+json": {
              "version_major": 2,
              "version_minor": 0,
              "model_id": "2ee0a110d4e64642a884bf5904d3ce5c"
            }
          },
          "metadata": {}
        },
        {
          "output_type": "display_data",
          "data": {
            "text/plain": [
              "<IPython.core.display.HTML object>"
            ],
            "text/html": [
              "W&B sync reduced upload amount by 10.5%             "
            ]
          },
          "metadata": {}
        },
        {
          "output_type": "display_data",
          "data": {
            "text/plain": [
              "<IPython.core.display.HTML object>"
            ],
            "text/html": [
              "<style>\n",
              "    table.wandb td:nth-child(1) { padding: 0 10px; text-align: left ; width: auto;} td:nth-child(2) {text-align: left ; width: 100%}\n",
              "    .wandb-row { display: flex; flex-direction: row; flex-wrap: wrap; justify-content: flex-start; width: 100% }\n",
              "    .wandb-col { display: flex; flex-direction: column; flex-basis: 100%; flex: 1; padding: 10px; }\n",
              "    </style>\n",
              "<div class=\"wandb-row\"><div class=\"wandb-col\"><h3>Run history:</h3><br/><table class=\"wandb\"><tr><td>Top1_Acc_Exp/eval_phase/test_stream/Task000/Exp000</td><td>█▁▁▁▁</td></tr><tr><td>Top1_Acc_Exp/eval_phase/test_stream/Task000/Exp001</td><td>▁█▁▁▁</td></tr><tr><td>Top1_Acc_Exp/eval_phase/test_stream/Task000/Exp002</td><td>▁▁█▁▁</td></tr><tr><td>Top1_Acc_Exp/eval_phase/test_stream/Task000/Exp003</td><td>▁▁▁█▁</td></tr><tr><td>Top1_Acc_Exp/eval_phase/test_stream/Task000/Exp004</td><td>▁▁▁▁█</td></tr><tr><td>Top1_Acc_Stream/eval_phase/test_stream/Task000</td><td>█▅▁▄▄</td></tr><tr><td>TrainingExperience</td><td>▁▃▅▆█</td></tr></table><br/></div><div class=\"wandb-col\"><h3>Run summary:</h3><br/><table class=\"wandb\"><tr><td>Top1_Acc_Exp/eval_phase/test_stream/Task000/Exp000</td><td>0.0</td></tr><tr><td>Top1_Acc_Exp/eval_phase/test_stream/Task000/Exp001</td><td>0.0</td></tr><tr><td>Top1_Acc_Exp/eval_phase/test_stream/Task000/Exp002</td><td>0.0</td></tr><tr><td>Top1_Acc_Exp/eval_phase/test_stream/Task000/Exp003</td><td>0.02266</td></tr><tr><td>Top1_Acc_Exp/eval_phase/test_stream/Task000/Exp004</td><td>0.95764</td></tr><tr><td>Top1_Acc_Stream/eval_phase/test_stream/Task000</td><td>0.1944</td></tr><tr><td>TrainingExperience</td><td>4</td></tr></table><br/></div></div>"
            ]
          },
          "metadata": {}
        },
        {
          "output_type": "display_data",
          "data": {
            "text/plain": [
              "<IPython.core.display.HTML object>"
            ],
            "text/html": [
              " View run <strong style=\"color:#cdcd00\">ewc_split_mnist</strong> at: <a href='https://wandb.ai/gogamid/avalanche/runs/p4t2p6m2' target=\"_blank\">https://wandb.ai/gogamid/avalanche/runs/p4t2p6m2</a><br/> View job at <a href='https://wandb.ai/gogamid/avalanche/jobs/QXJ0aWZhY3RDb2xsZWN0aW9uOjEyOTk2MzE2Mg==/version_details/v1' target=\"_blank\">https://wandb.ai/gogamid/avalanche/jobs/QXJ0aWZhY3RDb2xsZWN0aW9uOjEyOTk2MzE2Mg==/version_details/v1</a><br/>Synced 5 W&B file(s), 0 media file(s), 4 artifact file(s) and 1 other file(s)"
            ]
          },
          "metadata": {}
        },
        {
          "output_type": "display_data",
          "data": {
            "text/plain": [
              "<IPython.core.display.HTML object>"
            ],
            "text/html": [
              "Find logs at: <code>./wandb/run-20240113_164718-p4t2p6m2/logs</code>"
            ]
          },
          "metadata": {}
        }
      ],
      "source": [
        "import torch\n",
        "import wandb\n",
        "from torch.nn import CrossEntropyLoss\n",
        "from torch.optim import SGD\n",
        "from avalanche.benchmarks.classic import SplitMNIST\n",
        "from avalanche.evaluation.metrics import accuracy_metrics\n",
        "from avalanche.models import SimpleMLP\n",
        "from avalanche.logging import InteractiveLogger, TextLogger, WandBLogger\n",
        "from avalanche.training.plugins import EvaluationPlugin\n",
        "from avalanche.training import EWC\n",
        "\n",
        "device = torch.device(\"cuda\" if torch.cuda.is_available() else \"cpu\")\n",
        "\n",
        "scenario = SplitMNIST(n_experiences=5, fixed_class_order=[0,1,2,3,4,5,6,7,8,9])\n",
        "\n",
        "model = SimpleMLP(\n",
        "    num_classes=scenario.n_classes,\n",
        "    hidden_size=512,\n",
        "    hidden_layers=1,\n",
        "    drop_rate=0\n",
        ")\n",
        "\n",
        "loggers=[InteractiveLogger(),TextLogger(open('logSplitMNIST.txt', 'a'))]\n",
        "loggers.append(WandBLogger(project_name=\"avalanche\", run_name=\"ewc_split_mnist\"))\n",
        "\n",
        "\n",
        "eval_plugin = EvaluationPlugin(\n",
        "    accuracy_metrics(experience=True, stream=True),\n",
        "    loggers=loggers\n",
        ")\n",
        "cl_strategy = EWC(\n",
        "    model,\n",
        "    SGD(model.parameters(), lr=0.001),\n",
        "    CrossEntropyLoss(),\n",
        "    ewc_lambda=1,\n",
        "    mode=\"separate\",\n",
        "    decay_factor=None,\n",
        "    train_mb_size=256,\n",
        "    train_epochs=10,\n",
        "    eval_mb_size=128,\n",
        "    device=device,\n",
        "    evaluator=eval_plugin\n",
        ")\n",
        "\n",
        "# TRAINING LOOP\n",
        "print('Starting experiment...')\n",
        "results = []\n",
        "for experience in scenario.train_stream:\n",
        "    print(\"Start of experience \", experience.current_experience)\n",
        "    cl_strategy.train(experience)\n",
        "    print('Training completed')\n",
        "\n",
        "    print('Computing accuracy on the whole test set')\n",
        "    results.append(cl_strategy.eval(scenario.test_stream))\n",
        "wandb.finish()"
      ]
    }
  ],
  "metadata": {
    "accelerator": "GPU",
    "colab": {
      "gpuType": "T4",
      "provenance": [],
      "include_colab_link": true
    },
    "kernelspec": {
      "display_name": "Python 3",
      "name": "python3"
    },
    "language_info": {
      "name": "python"
    },
    "widgets": {
      "application/vnd.jupyter.widget-state+json": {
        "d2ef6a7e6e53488db3f36f122a5e02dd": {
          "model_module": "@jupyter-widgets/controls",
          "model_name": "VBoxModel",
          "model_module_version": "1.5.0",
          "state": {
            "_dom_classes": [],
            "_model_module": "@jupyter-widgets/controls",
            "_model_module_version": "1.5.0",
            "_model_name": "VBoxModel",
            "_view_count": null,
            "_view_module": "@jupyter-widgets/controls",
            "_view_module_version": "1.5.0",
            "_view_name": "VBoxView",
            "box_style": "",
            "children": [
              "IPY_MODEL_20100862077c427b9ff694caa5d1254c",
              "IPY_MODEL_6332a6d4d96e4fa89a9d67cc8e4086db"
            ],
            "layout": "IPY_MODEL_f13fd43ee144469abc7d57658d815aaf"
          }
        },
        "20100862077c427b9ff694caa5d1254c": {
          "model_module": "@jupyter-widgets/controls",
          "model_name": "LabelModel",
          "model_module_version": "1.5.0",
          "state": {
            "_dom_classes": [],
            "_model_module": "@jupyter-widgets/controls",
            "_model_module_version": "1.5.0",
            "_model_name": "LabelModel",
            "_view_count": null,
            "_view_module": "@jupyter-widgets/controls",
            "_view_module_version": "1.5.0",
            "_view_name": "LabelView",
            "description": "",
            "description_tooltip": null,
            "layout": "IPY_MODEL_513dec47f86645e3aa3cc0e2a81176c7",
            "placeholder": "​",
            "style": "IPY_MODEL_84527b30e10f405f9442568b78630200",
            "value": "0.019 MB of 0.019 MB uploaded\r"
          }
        },
        "6332a6d4d96e4fa89a9d67cc8e4086db": {
          "model_module": "@jupyter-widgets/controls",
          "model_name": "FloatProgressModel",
          "model_module_version": "1.5.0",
          "state": {
            "_dom_classes": [],
            "_model_module": "@jupyter-widgets/controls",
            "_model_module_version": "1.5.0",
            "_model_name": "FloatProgressModel",
            "_view_count": null,
            "_view_module": "@jupyter-widgets/controls",
            "_view_module_version": "1.5.0",
            "_view_name": "ProgressView",
            "bar_style": "",
            "description": "",
            "description_tooltip": null,
            "layout": "IPY_MODEL_9130bb8608b746afb0e75cf055f4c2a5",
            "max": 1,
            "min": 0,
            "orientation": "horizontal",
            "style": "IPY_MODEL_6bd4a2f1c8884d1589aa8f4fed9f725b",
            "value": 1
          }
        },
        "f13fd43ee144469abc7d57658d815aaf": {
          "model_module": "@jupyter-widgets/base",
          "model_name": "LayoutModel",
          "model_module_version": "1.2.0",
          "state": {
            "_model_module": "@jupyter-widgets/base",
            "_model_module_version": "1.2.0",
            "_model_name": "LayoutModel",
            "_view_count": null,
            "_view_module": "@jupyter-widgets/base",
            "_view_module_version": "1.2.0",
            "_view_name": "LayoutView",
            "align_content": null,
            "align_items": null,
            "align_self": null,
            "border": null,
            "bottom": null,
            "display": null,
            "flex": null,
            "flex_flow": null,
            "grid_area": null,
            "grid_auto_columns": null,
            "grid_auto_flow": null,
            "grid_auto_rows": null,
            "grid_column": null,
            "grid_gap": null,
            "grid_row": null,
            "grid_template_areas": null,
            "grid_template_columns": null,
            "grid_template_rows": null,
            "height": null,
            "justify_content": null,
            "justify_items": null,
            "left": null,
            "margin": null,
            "max_height": null,
            "max_width": null,
            "min_height": null,
            "min_width": null,
            "object_fit": null,
            "object_position": null,
            "order": null,
            "overflow": null,
            "overflow_x": null,
            "overflow_y": null,
            "padding": null,
            "right": null,
            "top": null,
            "visibility": null,
            "width": null
          }
        },
        "513dec47f86645e3aa3cc0e2a81176c7": {
          "model_module": "@jupyter-widgets/base",
          "model_name": "LayoutModel",
          "model_module_version": "1.2.0",
          "state": {
            "_model_module": "@jupyter-widgets/base",
            "_model_module_version": "1.2.0",
            "_model_name": "LayoutModel",
            "_view_count": null,
            "_view_module": "@jupyter-widgets/base",
            "_view_module_version": "1.2.0",
            "_view_name": "LayoutView",
            "align_content": null,
            "align_items": null,
            "align_self": null,
            "border": null,
            "bottom": null,
            "display": null,
            "flex": null,
            "flex_flow": null,
            "grid_area": null,
            "grid_auto_columns": null,
            "grid_auto_flow": null,
            "grid_auto_rows": null,
            "grid_column": null,
            "grid_gap": null,
            "grid_row": null,
            "grid_template_areas": null,
            "grid_template_columns": null,
            "grid_template_rows": null,
            "height": null,
            "justify_content": null,
            "justify_items": null,
            "left": null,
            "margin": null,
            "max_height": null,
            "max_width": null,
            "min_height": null,
            "min_width": null,
            "object_fit": null,
            "object_position": null,
            "order": null,
            "overflow": null,
            "overflow_x": null,
            "overflow_y": null,
            "padding": null,
            "right": null,
            "top": null,
            "visibility": null,
            "width": null
          }
        },
        "84527b30e10f405f9442568b78630200": {
          "model_module": "@jupyter-widgets/controls",
          "model_name": "DescriptionStyleModel",
          "model_module_version": "1.5.0",
          "state": {
            "_model_module": "@jupyter-widgets/controls",
            "_model_module_version": "1.5.0",
            "_model_name": "DescriptionStyleModel",
            "_view_count": null,
            "_view_module": "@jupyter-widgets/base",
            "_view_module_version": "1.2.0",
            "_view_name": "StyleView",
            "description_width": ""
          }
        },
        "9130bb8608b746afb0e75cf055f4c2a5": {
          "model_module": "@jupyter-widgets/base",
          "model_name": "LayoutModel",
          "model_module_version": "1.2.0",
          "state": {
            "_model_module": "@jupyter-widgets/base",
            "_model_module_version": "1.2.0",
            "_model_name": "LayoutModel",
            "_view_count": null,
            "_view_module": "@jupyter-widgets/base",
            "_view_module_version": "1.2.0",
            "_view_name": "LayoutView",
            "align_content": null,
            "align_items": null,
            "align_self": null,
            "border": null,
            "bottom": null,
            "display": null,
            "flex": null,
            "flex_flow": null,
            "grid_area": null,
            "grid_auto_columns": null,
            "grid_auto_flow": null,
            "grid_auto_rows": null,
            "grid_column": null,
            "grid_gap": null,
            "grid_row": null,
            "grid_template_areas": null,
            "grid_template_columns": null,
            "grid_template_rows": null,
            "height": null,
            "justify_content": null,
            "justify_items": null,
            "left": null,
            "margin": null,
            "max_height": null,
            "max_width": null,
            "min_height": null,
            "min_width": null,
            "object_fit": null,
            "object_position": null,
            "order": null,
            "overflow": null,
            "overflow_x": null,
            "overflow_y": null,
            "padding": null,
            "right": null,
            "top": null,
            "visibility": null,
            "width": null
          }
        },
        "6bd4a2f1c8884d1589aa8f4fed9f725b": {
          "model_module": "@jupyter-widgets/controls",
          "model_name": "ProgressStyleModel",
          "model_module_version": "1.5.0",
          "state": {
            "_model_module": "@jupyter-widgets/controls",
            "_model_module_version": "1.5.0",
            "_model_name": "ProgressStyleModel",
            "_view_count": null,
            "_view_module": "@jupyter-widgets/base",
            "_view_module_version": "1.2.0",
            "_view_name": "StyleView",
            "bar_color": null,
            "description_width": ""
          }
        },
        "2ee0a110d4e64642a884bf5904d3ce5c": {
          "model_module": "@jupyter-widgets/controls",
          "model_name": "VBoxModel",
          "model_module_version": "1.5.0",
          "state": {
            "_dom_classes": [],
            "_model_module": "@jupyter-widgets/controls",
            "_model_module_version": "1.5.0",
            "_model_name": "VBoxModel",
            "_view_count": null,
            "_view_module": "@jupyter-widgets/controls",
            "_view_module_version": "1.5.0",
            "_view_name": "VBoxView",
            "box_style": "",
            "children": [
              "IPY_MODEL_d2935e712d9c446bbd89c2a67eede1a2",
              "IPY_MODEL_4e13f3a6bb974346ba9737ec7f88c353"
            ],
            "layout": "IPY_MODEL_f644adfce27349d595c16f3833268fb5"
          }
        },
        "d2935e712d9c446bbd89c2a67eede1a2": {
          "model_module": "@jupyter-widgets/controls",
          "model_name": "LabelModel",
          "model_module_version": "1.5.0",
          "state": {
            "_dom_classes": [],
            "_model_module": "@jupyter-widgets/controls",
            "_model_module_version": "1.5.0",
            "_model_name": "LabelModel",
            "_view_count": null,
            "_view_module": "@jupyter-widgets/controls",
            "_view_module_version": "1.5.0",
            "_view_name": "LabelView",
            "description": "",
            "description_tooltip": null,
            "layout": "IPY_MODEL_0e36d300c61544a58c2a73dd83e9f20c",
            "placeholder": "​",
            "style": "IPY_MODEL_5b6e3991965b4610847b165843dab23d",
            "value": "0.080 MB of 0.080 MB uploaded (0.008 MB deduped)\r"
          }
        },
        "4e13f3a6bb974346ba9737ec7f88c353": {
          "model_module": "@jupyter-widgets/controls",
          "model_name": "FloatProgressModel",
          "model_module_version": "1.5.0",
          "state": {
            "_dom_classes": [],
            "_model_module": "@jupyter-widgets/controls",
            "_model_module_version": "1.5.0",
            "_model_name": "FloatProgressModel",
            "_view_count": null,
            "_view_module": "@jupyter-widgets/controls",
            "_view_module_version": "1.5.0",
            "_view_name": "ProgressView",
            "bar_style": "",
            "description": "",
            "description_tooltip": null,
            "layout": "IPY_MODEL_73c91dcd4d4c47048155764b2c7a55f8",
            "max": 1,
            "min": 0,
            "orientation": "horizontal",
            "style": "IPY_MODEL_0056e4c9369a4868819b7dff3c77b196",
            "value": 1
          }
        },
        "f644adfce27349d595c16f3833268fb5": {
          "model_module": "@jupyter-widgets/base",
          "model_name": "LayoutModel",
          "model_module_version": "1.2.0",
          "state": {
            "_model_module": "@jupyter-widgets/base",
            "_model_module_version": "1.2.0",
            "_model_name": "LayoutModel",
            "_view_count": null,
            "_view_module": "@jupyter-widgets/base",
            "_view_module_version": "1.2.0",
            "_view_name": "LayoutView",
            "align_content": null,
            "align_items": null,
            "align_self": null,
            "border": null,
            "bottom": null,
            "display": null,
            "flex": null,
            "flex_flow": null,
            "grid_area": null,
            "grid_auto_columns": null,
            "grid_auto_flow": null,
            "grid_auto_rows": null,
            "grid_column": null,
            "grid_gap": null,
            "grid_row": null,
            "grid_template_areas": null,
            "grid_template_columns": null,
            "grid_template_rows": null,
            "height": null,
            "justify_content": null,
            "justify_items": null,
            "left": null,
            "margin": null,
            "max_height": null,
            "max_width": null,
            "min_height": null,
            "min_width": null,
            "object_fit": null,
            "object_position": null,
            "order": null,
            "overflow": null,
            "overflow_x": null,
            "overflow_y": null,
            "padding": null,
            "right": null,
            "top": null,
            "visibility": null,
            "width": null
          }
        },
        "0e36d300c61544a58c2a73dd83e9f20c": {
          "model_module": "@jupyter-widgets/base",
          "model_name": "LayoutModel",
          "model_module_version": "1.2.0",
          "state": {
            "_model_module": "@jupyter-widgets/base",
            "_model_module_version": "1.2.0",
            "_model_name": "LayoutModel",
            "_view_count": null,
            "_view_module": "@jupyter-widgets/base",
            "_view_module_version": "1.2.0",
            "_view_name": "LayoutView",
            "align_content": null,
            "align_items": null,
            "align_self": null,
            "border": null,
            "bottom": null,
            "display": null,
            "flex": null,
            "flex_flow": null,
            "grid_area": null,
            "grid_auto_columns": null,
            "grid_auto_flow": null,
            "grid_auto_rows": null,
            "grid_column": null,
            "grid_gap": null,
            "grid_row": null,
            "grid_template_areas": null,
            "grid_template_columns": null,
            "grid_template_rows": null,
            "height": null,
            "justify_content": null,
            "justify_items": null,
            "left": null,
            "margin": null,
            "max_height": null,
            "max_width": null,
            "min_height": null,
            "min_width": null,
            "object_fit": null,
            "object_position": null,
            "order": null,
            "overflow": null,
            "overflow_x": null,
            "overflow_y": null,
            "padding": null,
            "right": null,
            "top": null,
            "visibility": null,
            "width": null
          }
        },
        "5b6e3991965b4610847b165843dab23d": {
          "model_module": "@jupyter-widgets/controls",
          "model_name": "DescriptionStyleModel",
          "model_module_version": "1.5.0",
          "state": {
            "_model_module": "@jupyter-widgets/controls",
            "_model_module_version": "1.5.0",
            "_model_name": "DescriptionStyleModel",
            "_view_count": null,
            "_view_module": "@jupyter-widgets/base",
            "_view_module_version": "1.2.0",
            "_view_name": "StyleView",
            "description_width": ""
          }
        },
        "73c91dcd4d4c47048155764b2c7a55f8": {
          "model_module": "@jupyter-widgets/base",
          "model_name": "LayoutModel",
          "model_module_version": "1.2.0",
          "state": {
            "_model_module": "@jupyter-widgets/base",
            "_model_module_version": "1.2.0",
            "_model_name": "LayoutModel",
            "_view_count": null,
            "_view_module": "@jupyter-widgets/base",
            "_view_module_version": "1.2.0",
            "_view_name": "LayoutView",
            "align_content": null,
            "align_items": null,
            "align_self": null,
            "border": null,
            "bottom": null,
            "display": null,
            "flex": null,
            "flex_flow": null,
            "grid_area": null,
            "grid_auto_columns": null,
            "grid_auto_flow": null,
            "grid_auto_rows": null,
            "grid_column": null,
            "grid_gap": null,
            "grid_row": null,
            "grid_template_areas": null,
            "grid_template_columns": null,
            "grid_template_rows": null,
            "height": null,
            "justify_content": null,
            "justify_items": null,
            "left": null,
            "margin": null,
            "max_height": null,
            "max_width": null,
            "min_height": null,
            "min_width": null,
            "object_fit": null,
            "object_position": null,
            "order": null,
            "overflow": null,
            "overflow_x": null,
            "overflow_y": null,
            "padding": null,
            "right": null,
            "top": null,
            "visibility": null,
            "width": null
          }
        },
        "0056e4c9369a4868819b7dff3c77b196": {
          "model_module": "@jupyter-widgets/controls",
          "model_name": "ProgressStyleModel",
          "model_module_version": "1.5.0",
          "state": {
            "_model_module": "@jupyter-widgets/controls",
            "_model_module_version": "1.5.0",
            "_model_name": "ProgressStyleModel",
            "_view_count": null,
            "_view_module": "@jupyter-widgets/base",
            "_view_module_version": "1.2.0",
            "_view_name": "StyleView",
            "bar_color": null,
            "description_width": ""
          }
        }
      }
    }
  },
  "nbformat": 4,
  "nbformat_minor": 0
}