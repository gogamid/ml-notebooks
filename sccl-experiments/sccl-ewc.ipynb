{
  "nbformat": 4,
  "nbformat_minor": 0,
  "metadata": {
    "colab": {
      "provenance": [],
      "gpuType": "T4",
      "mount_file_id": "1kDIFz3dSgjq5wh5rfU6XZcDS926xsSvK",
      "authorship_tag": "ABX9TyN57TKHVUNKFqm5aADYYRFK",
      "include_colab_link": true
    },
    "kernelspec": {
      "name": "python3",
      "display_name": "Python 3"
    },
    "language_info": {
      "name": "python"
    },
    "accelerator": "GPU"
  },
  "cells": [
    {
      "cell_type": "markdown",
      "metadata": {
        "id": "view-in-github",
        "colab_type": "text"
      },
      "source": [
        "<a href=\"https://colab.research.google.com/github/gogamid/ml-notebooks/blob/main/sccl-experiments/sccl-ewc.ipynb\" target=\"_parent\"><img src=\"https://colab.research.google.com/assets/colab-badge.svg\" alt=\"Open In Colab\"/></a>"
      ]
    },
    {
      "cell_type": "code",
      "execution_count": 1,
      "metadata": {
        "colab": {
          "base_uri": "https://localhost:8080/"
        },
        "id": "qq51ISlAz3L2",
        "outputId": "3a8568fe-141b-4c82-bae9-264af285b197"
      },
      "outputs": [
        {
          "output_type": "stream",
          "name": "stderr",
          "text": [
            "WARNING:tensorflow:From <ipython-input-1-967ef371126a>:2: is_gpu_available (from tensorflow.python.framework.test_util) is deprecated and will be removed in a future version.\n",
            "Instructions for updating:\n",
            "Use `tf.config.list_physical_devices('GPU')` instead.\n"
          ]
        },
        {
          "output_type": "execute_result",
          "data": {
            "text/plain": [
              "True"
            ]
          },
          "metadata": {},
          "execution_count": 1
        }
      ],
      "source": [
        "import tensorflow as tf\n",
        "tf.test.is_gpu_available(\n",
        "    cuda_only=True, min_cuda_compute_capability=(7,0)\n",
        ")"
      ]
    },
    {
      "cell_type": "code",
      "source": [
        "%pip install wandb"
      ],
      "metadata": {
        "colab": {
          "base_uri": "https://localhost:8080/"
        },
        "id": "UDJ8UZ49_OWa",
        "outputId": "e878ce4c-2371-41c8-90b3-e507292858bf"
      },
      "execution_count": 2,
      "outputs": [
        {
          "output_type": "stream",
          "name": "stdout",
          "text": [
            "Collecting wandb\n",
            "  Downloading wandb-0.16.2-py3-none-any.whl (2.2 MB)\n",
            "\u001b[2K     \u001b[90m━━━━━━━━━━━━━━━━━━━━━━━━━━━━━━━━━━━━━━━━\u001b[0m \u001b[32m2.2/2.2 MB\u001b[0m \u001b[31m9.6 MB/s\u001b[0m eta \u001b[36m0:00:00\u001b[0m\n",
            "\u001b[?25hRequirement already satisfied: Click!=8.0.0,>=7.1 in /usr/local/lib/python3.10/dist-packages (from wandb) (8.1.7)\n",
            "Collecting GitPython!=3.1.29,>=1.0.0 (from wandb)\n",
            "  Downloading GitPython-3.1.41-py3-none-any.whl (196 kB)\n",
            "\u001b[2K     \u001b[90m━━━━━━━━━━━━━━━━━━━━━━━━━━━━━━━━━━━━━━━━\u001b[0m \u001b[32m196.4/196.4 kB\u001b[0m \u001b[31m16.6 MB/s\u001b[0m eta \u001b[36m0:00:00\u001b[0m\n",
            "\u001b[?25hRequirement already satisfied: requests<3,>=2.0.0 in /usr/local/lib/python3.10/dist-packages (from wandb) (2.31.0)\n",
            "Requirement already satisfied: psutil>=5.0.0 in /usr/local/lib/python3.10/dist-packages (from wandb) (5.9.5)\n",
            "Collecting sentry-sdk>=1.0.0 (from wandb)\n",
            "  Downloading sentry_sdk-1.39.2-py2.py3-none-any.whl (254 kB)\n",
            "\u001b[2K     \u001b[90m━━━━━━━━━━━━━━━━━━━━━━━━━━━━━━━━━━━━━━━━\u001b[0m \u001b[32m254.1/254.1 kB\u001b[0m \u001b[31m19.5 MB/s\u001b[0m eta \u001b[36m0:00:00\u001b[0m\n",
            "\u001b[?25hCollecting docker-pycreds>=0.4.0 (from wandb)\n",
            "  Downloading docker_pycreds-0.4.0-py2.py3-none-any.whl (9.0 kB)\n",
            "Requirement already satisfied: PyYAML in /usr/local/lib/python3.10/dist-packages (from wandb) (6.0.1)\n",
            "Collecting setproctitle (from wandb)\n",
            "  Downloading setproctitle-1.3.3-cp310-cp310-manylinux_2_5_x86_64.manylinux1_x86_64.manylinux_2_17_x86_64.manylinux2014_x86_64.whl (30 kB)\n",
            "Requirement already satisfied: setuptools in /usr/local/lib/python3.10/dist-packages (from wandb) (67.7.2)\n",
            "Requirement already satisfied: appdirs>=1.4.3 in /usr/local/lib/python3.10/dist-packages (from wandb) (1.4.4)\n",
            "Requirement already satisfied: protobuf!=4.21.0,<5,>=3.19.0 in /usr/local/lib/python3.10/dist-packages (from wandb) (3.20.3)\n",
            "Requirement already satisfied: six>=1.4.0 in /usr/local/lib/python3.10/dist-packages (from docker-pycreds>=0.4.0->wandb) (1.16.0)\n",
            "Collecting gitdb<5,>=4.0.1 (from GitPython!=3.1.29,>=1.0.0->wandb)\n",
            "  Downloading gitdb-4.0.11-py3-none-any.whl (62 kB)\n",
            "\u001b[2K     \u001b[90m━━━━━━━━━━━━━━━━━━━━━━━━━━━━━━━━━━━━━━━━\u001b[0m \u001b[32m62.7/62.7 kB\u001b[0m \u001b[31m6.7 MB/s\u001b[0m eta \u001b[36m0:00:00\u001b[0m\n",
            "\u001b[?25hRequirement already satisfied: charset-normalizer<4,>=2 in /usr/local/lib/python3.10/dist-packages (from requests<3,>=2.0.0->wandb) (3.3.2)\n",
            "Requirement already satisfied: idna<4,>=2.5 in /usr/local/lib/python3.10/dist-packages (from requests<3,>=2.0.0->wandb) (3.6)\n",
            "Requirement already satisfied: urllib3<3,>=1.21.1 in /usr/local/lib/python3.10/dist-packages (from requests<3,>=2.0.0->wandb) (2.0.7)\n",
            "Requirement already satisfied: certifi>=2017.4.17 in /usr/local/lib/python3.10/dist-packages (from requests<3,>=2.0.0->wandb) (2023.11.17)\n",
            "Collecting smmap<6,>=3.0.1 (from gitdb<5,>=4.0.1->GitPython!=3.1.29,>=1.0.0->wandb)\n",
            "  Downloading smmap-5.0.1-py3-none-any.whl (24 kB)\n",
            "Installing collected packages: smmap, setproctitle, sentry-sdk, docker-pycreds, gitdb, GitPython, wandb\n",
            "Successfully installed GitPython-3.1.41 docker-pycreds-0.4.0 gitdb-4.0.11 sentry-sdk-1.39.2 setproctitle-1.3.3 smmap-5.0.1 wandb-0.16.2\n"
          ]
        }
      ]
    },
    {
      "cell_type": "code",
      "source": [
        "from google.colab import drive\n",
        "drive.mount('/content/drive')"
      ],
      "metadata": {
        "colab": {
          "base_uri": "https://localhost:8080/"
        },
        "id": "Y0qY1-Gm2rkH",
        "outputId": "684496c5-69c1-4254-c943-ebe8445f3a7b"
      },
      "execution_count": 3,
      "outputs": [
        {
          "output_type": "stream",
          "name": "stdout",
          "text": [
            "Drive already mounted at /content/drive; to attempt to forcibly remount, call drive.mount(\"/content/drive\", force_remount=True).\n"
          ]
        }
      ]
    },
    {
      "cell_type": "code",
      "source": [
        "import os\n",
        "import datetime\n",
        "\n",
        "\n",
        "os.environ['DATA'] = '/content/drive/MyDrive/sccl-logs/'\n",
        "os.environ['LOGS'] = '/content/drive/MyDrive/sccl-logs/' + datetime.datetime.now().strftime(\"%Y%m%d-%H%M%S\")\n",
        "os.environ['BASE'] = '/content/drive/Othercomputers/mbp'\n",
        "\n",
        "base_path = os.environ['BASE']\n",
        "python_path = f'/env/python:{base_path}/sccl/src/:{base_path}/sccl/src/cl_replay/architecture/ar/model/:{base_path}/sccl/src/cl_replay/architecture/ar/layer/'\n",
        "\n",
        "os.environ['PYTHONPATH'] = python_path\n",
        "os.environ['CUDA_HOME'] = '/usr/local/cuda'\n",
        "os.environ['LD_LIBRARY_PATH'] = '/usr/local/cuda/lib64'\n",
        "!echo $PYTHONPATH\n",
        "!echo $CUDA_HOME\n",
        "!echo $LD_LIBRARY_PATH"
      ],
      "metadata": {
        "colab": {
          "base_uri": "https://localhost:8080/"
        },
        "id": "A3D96mxZAUGQ",
        "outputId": "e900230f-1fe2-47e9-de92-fa7fa40f5c13"
      },
      "execution_count": 7,
      "outputs": [
        {
          "output_type": "stream",
          "name": "stdout",
          "text": [
            "/env/python:/content/drive/Othercomputers/mbp/sccl/src/:/content/drive/Othercomputers/mbp/sccl/src/cl_replay/architecture/ar/model/:/content/drive/Othercomputers/mbp/sccl/src/cl_replay/architecture/ar/layer/\n",
            "/usr/local/cuda\n",
            "/usr/local/cuda/lib64\n"
          ]
        }
      ]
    },
    {
      "cell_type": "code",
      "source": [
        "#!rm -rf /content/drive/MyDrive/sccl-logs/"
      ],
      "metadata": {
        "id": "vnL6s5V_Y0hb"
      },
      "execution_count": null,
      "outputs": []
    },
    {
      "cell_type": "code",
      "source": [
        "%cd /content/drive/Othercomputers/mbp/sccl/src"
      ],
      "metadata": {
        "colab": {
          "base_uri": "https://localhost:8080/"
        },
        "id": "pYV6swMgFHTH",
        "outputId": "2b415fca-fd56-452d-ddfb-5399111af4b3"
      },
      "execution_count": 8,
      "outputs": [
        {
          "output_type": "stream",
          "name": "stdout",
          "text": [
            "/content/drive/Othercomputers/mbp/sccl/src\n"
          ]
        }
      ]
    },
    {
      "cell_type": "code",
      "source": [
        "ewc = f'''\n",
        "python3 -m cl_replay.architecture.wip.Experiment_EWC \\\n",
        "    --exp_id EWCTEMPLATE \\\n",
        "    --ml_paradigm supervised \\\n",
        "    --num_tasks 5 \\\n",
        "    --T1 0 1 --T2 2 3 --T3 4 5 --T4 6 7 --T5 8 9 \\\n",
        "    --log_level DEBUG \\\n",
        "    --dataset_name MNIST \\\n",
        "    --dataset_type tf \\\n",
        "    --renormalize01 yes \\\n",
        "    --dataset_load tfds \\\n",
        "    --dataset_dir $DATA/ \\\n",
        "    --vis_path $LOGS/vis \\\n",
        "    --ckpt_dir $LOGS/ckpt \\\n",
        "    --results_dir $LOGS/results \\\n",
        "    --global_callbacks Log_Metrics \\\n",
        "    --log_path $LOGS/logs \\\n",
        "    --epochs 10 \\\n",
        "    --np_shuffle no \\\n",
        "    --wandb_active no \\\n",
        "    --load_task 0 \\\n",
        "    --save_All no\\\n",
        "    --model_type EWC \\\n",
        "    --mode ewc \\\n",
        "    --epsilon 0.001 \\\n",
        "    --lambda 1. \\\n",
        "    --hidden_layers 1 \\\n",
        "    --layer_size 512 \\\n",
        "    --full_eval yes\n",
        "'''\n",
        "!{ewc}"
      ],
      "metadata": {
        "id": "kF0QJn2PIe8d",
        "colab": {
          "base_uri": "https://localhost:8080/"
        },
        "outputId": "1ce629f0-b45b-446f-adfd-9f44c0775968"
      },
      "execution_count": 18,
      "outputs": [
        {
          "output_type": "stream",
          "name": "stdout",
          "text": [
            "2024-01-11 21:47:10.137139: E external/local_xla/xla/stream_executor/cuda/cuda_dnn.cc:9261] Unable to register cuDNN factory: Attempting to register factory for plugin cuDNN when one has already been registered\n",
            "2024-01-11 21:47:10.137191: E external/local_xla/xla/stream_executor/cuda/cuda_fft.cc:607] Unable to register cuFFT factory: Attempting to register factory for plugin cuFFT when one has already been registered\n",
            "2024-01-11 21:47:10.138490: E external/local_xla/xla/stream_executor/cuda/cuda_blas.cc:1515] Unable to register cuBLAS factory: Attempting to register factory for plugin cuBLAS when one has already been registered\n",
            "2024-01-11 21:47:11.235977: W tensorflow/compiler/tf2tensorrt/utils/py_utils.cc:38] TF-TRT Warning: Could not find TensorRT\n",
            "TF version: 2.15.0\n",
            "TF executing eagerly: True\n",
            "TF built with CUDA: True\n",
            "No valid gpu found\n",
            "\n",
            "TFDS LOADED!!!\n",
            "TRAIN: X -> <class 'tensorflow.python.framework.ops.EagerTensor'>, (60000, 28, 28, 1), Y -> <class 'tensorflow.python.framework.ops.EagerTensor'>, (60000,)\n",
            "TEST: X -> <class 'tensorflow.python.framework.ops.EagerTensor'>, (10000, 28, 28, 1), Y -> <class 'tensorflow.python.framework.ops.EagerTensor'>, (10000,)\n",
            "DIMs: [28,28,1], total classes: 10\n",
            "\n",
            "TFDS CONVERTED!!!\n",
            "TRAIN: X -> <class 'numpy.ndarray'>, (60000, 28, 28, 1), Y -> <class 'numpy.ndarray'>, (60000, 10)\n",
            "TEST: X -> <class 'numpy.ndarray'>, (10000, 28, 28, 1), Y -> <class 'numpy.ndarray'>, (10000, 10)\n",
            "DIMs: [28,28,1], total classes: 10\n",
            "raw train sample values: [0.0, 255.0]\n",
            "raw train sample values (after norm.): [0.0, 1.0]\n",
            "raw test sample values (after norm.): [0.0, 1.0]\n",
            "\u001b[97;20m21:47:17 - INFO    [Manager.py               :   44)]: loaded training callbacks: [<cl_replay.api.callback.Log_Metrics.Log_Metrics object at 0x7a4279606b00>]\u001b[0m\n",
            "\u001b[97;20m21:47:17 - INFO    [Manager.py               :   45)]: loaded eval callbacks: [<cl_replay.api.callback.Log_Metrics.Log_Metrics object at 0x7a4279606b00>]\u001b[0m\n",
            "\u001b[97;20m21:47:17 - INFO    [Experiment.py            :  161)]: \tLOADED DS FOR T1), CONTAINED CLASSES/PROPORTIONS: [0, 1], TRAIN SET SIZE: 12600\u001b[0m\n",
            "\u001b[97;20m21:47:17 - INFO    [Experiment.py            :  161)]: \tLOADED DS FOR T2), CONTAINED CLASSES/PROPORTIONS: [2, 3], TRAIN SET SIZE: 12000\u001b[0m\n",
            "\u001b[97;20m21:47:17 - INFO    [Experiment.py            :  161)]: \tLOADED DS FOR T3), CONTAINED CLASSES/PROPORTIONS: [4, 5], TRAIN SET SIZE: 11200\u001b[0m\n",
            "\u001b[97;20m21:47:17 - INFO    [Experiment.py            :  161)]: \tLOADED DS FOR T4), CONTAINED CLASSES/PROPORTIONS: [6, 7], TRAIN SET SIZE: 12100\u001b[0m\n",
            "\u001b[97;20m21:47:17 - INFO    [Experiment.py            :  161)]: \tLOADED DS FOR T5), CONTAINED CLASSES/PROPORTIONS: [8, 9], TRAIN SET SIZE: 11800\u001b[0m\n",
            "\u001b[93;20m21:47:17 - DEBUG   [Experiment.py            :  239)]: STARTING TRAINING @T1, TOTAL TASKS: 5....\u001b[0m\n",
            "Epoch 1/10\n",
            "118/118 [==============================] - 2s 9ms/step - loss: 169.1397 - categorical_accuracy: 0.7753\n",
            "Epoch 2/10\n",
            "118/118 [==============================] - 1s 9ms/step - loss: 156.3893 - categorical_accuracy: 0.8968\n",
            "Epoch 3/10\n",
            "118/118 [==============================] - 1s 9ms/step - loss: 146.5708 - categorical_accuracy: 0.9955\n",
            "Epoch 4/10\n",
            "118/118 [==============================] - 1s 10ms/step - loss: 146.3252 - categorical_accuracy: 0.9980\n",
            "Epoch 5/10\n",
            "118/118 [==============================] - 1s 9ms/step - loss: 146.2682 - categorical_accuracy: 0.9986\n",
            "Epoch 6/10\n",
            "118/118 [==============================] - 1s 6ms/step - loss: 146.2683 - categorical_accuracy: 0.9986\n",
            "Epoch 7/10\n",
            "118/118 [==============================] - 1s 6ms/step - loss: 146.2479 - categorical_accuracy: 0.9987\n",
            "Epoch 8/10\n",
            "118/118 [==============================] - 1s 6ms/step - loss: 146.2344 - categorical_accuracy: 0.9988\n",
            "Epoch 9/10\n",
            "118/118 [==============================] - 1s 6ms/step - loss: 146.2046 - categorical_accuracy: 0.9991\n",
            "Epoch 10/10\n",
            "118/118 [==============================] - 1s 6ms/step - loss: 146.2641 - categorical_accuracy: 0.9984\n",
            "\u001b[97;20m21:47:28 - INFO    [Experiment.py            :  286)]: ############################################## ALL TASKS TEST ##############################################\u001b[0m\n",
            "\u001b[97;20m21:47:28 - INFO    [Experiment.py            :  301)]: [TEST] -> DAll (test classes: 0,1,2,3,4,5,6,7,8,9)\u001b[0m\n",
            "100/100 - 0s - loss: 224.9834 - categorical_accuracy: 0.2114 - 481ms/epoch - 5ms/step\n",
            "\u001b[97;20m21:47:29 - INFO    [Experiment.py            :  301)]: [TEST] -> T1 (test classes: 0,1)\u001b[0m\n",
            "21/21 - 0s - loss: 146.2093 - categorical_accuracy: 0.9995 - 88ms/epoch - 4ms/step\n",
            "\u001b[93;20m21:47:29 - DEBUG   [EWC.py                   :  145)]: FM computation, current task=1\u001b[0m\n",
            "Epoch 1/10\n",
            "118/118 [==============================] - 1s 6ms/step - loss: 246.0323 - categorical_accuracy: 5.0847e-04\n",
            "Epoch 2/10\n",
            "118/118 [==============================] - 1s 6ms/step - loss: 197.6894 - categorical_accuracy: 0.4844\n",
            "Epoch 3/10\n",
            "118/118 [==============================] - 1s 6ms/step - loss: 196.6065 - categorical_accuracy: 0.4951\n",
            "Epoch 4/10\n",
            "118/118 [==============================] - 1s 6ms/step - loss: 196.6065 - categorical_accuracy: 0.4951\n",
            "Epoch 5/10\n",
            "118/118 [==============================] - 1s 7ms/step - loss: 196.6065 - categorical_accuracy: 0.4951\n",
            "Epoch 6/10\n",
            "118/118 [==============================] - 1s 9ms/step - loss: 196.6065 - categorical_accuracy: 0.4951\n",
            "Epoch 7/10\n",
            "118/118 [==============================] - 1s 9ms/step - loss: 196.6065 - categorical_accuracy: 0.4951\n",
            "Epoch 8/10\n",
            "118/118 [==============================] - 1s 9ms/step - loss: 196.6065 - categorical_accuracy: 0.4951\n",
            "Epoch 9/10\n",
            "118/118 [==============================] - 1s 9ms/step - loss: 196.6065 - categorical_accuracy: 0.4951\n",
            "Epoch 10/10\n",
            "118/118 [==============================] - 1s 8ms/step - loss: 196.6065 - categorical_accuracy: 0.4951\n",
            "\u001b[97;20m21:47:39 - INFO    [Experiment.py            :  286)]: ############################################## ALL TASKS TEST ##############################################\u001b[0m\n",
            "\u001b[97;20m21:47:39 - INFO    [Experiment.py            :  301)]: [TEST] -> DAll (test classes: 0,1,2,3,4,5,6,7,8,9)\u001b[0m\n",
            "100/100 - 0s - loss: 236.0146 - categorical_accuracy: 0.1010 - 354ms/epoch - 4ms/step\n",
            "\u001b[97;20m21:47:40 - INFO    [Experiment.py            :  301)]: [TEST] -> T1 (test classes: 0,1)\u001b[0m\n",
            "21/21 - 0s - loss: 246.1128 - categorical_accuracy: 0.0000e+00 - 87ms/epoch - 4ms/step\n",
            "\u001b[97;20m21:47:40 - INFO    [Experiment.py            :  301)]: [TEST] -> T2 (test classes: 2,3)\u001b[0m\n",
            "20/20 - 0s - loss: 197.7150 - categorical_accuracy: 0.4840 - 89ms/epoch - 4ms/step\n",
            "\u001b[93;20m21:47:40 - DEBUG   [EWC.py                   :  145)]: FM computation, current task=2\u001b[0m\n",
            "Epoch 1/10\n",
            "118/118 [==============================] - 1s 6ms/step - loss: 246.1150 - categorical_accuracy: 0.0000e+00\n",
            "Epoch 2/10\n",
            "118/118 [==============================] - 1s 6ms/step - loss: 246.1150 - categorical_accuracy: 0.0000e+00\n",
            "Epoch 3/10\n",
            "118/118 [==============================] - 1s 6ms/step - loss: 246.1150 - categorical_accuracy: 0.0000e+00\n",
            "Epoch 4/10\n",
            "118/118 [==============================] - 1s 6ms/step - loss: 246.1150 - categorical_accuracy: 0.0000e+00\n",
            "Epoch 5/10\n",
            "118/118 [==============================] - 1s 6ms/step - loss: 246.1150 - categorical_accuracy: 0.0000e+00\n",
            "Epoch 6/10\n",
            "118/118 [==============================] - 1s 6ms/step - loss: 246.1150 - categorical_accuracy: 0.0000e+00\n",
            "Epoch 7/10\n",
            "118/118 [==============================] - 1s 6ms/step - loss: 246.1150 - categorical_accuracy: 0.0000e+00\n",
            "Epoch 8/10\n",
            "118/118 [==============================] - 1s 6ms/step - loss: 234.3522 - categorical_accuracy: 0.1176\n",
            "Epoch 9/10\n",
            "118/118 [==============================] - 1s 6ms/step - loss: 200.7082 - categorical_accuracy: 0.4541\n",
            "Epoch 10/10\n",
            "118/118 [==============================] - 0s 3ms/step - loss: 153.7357 - categorical_accuracy: 0.9238\n",
            "\u001b[97;20m21:47:48 - INFO    [Experiment.py            :  286)]: ############################################## ALL TASKS TEST ##############################################\u001b[0m\n",
            "\u001b[97;20m21:47:48 - INFO    [Experiment.py            :  301)]: [TEST] -> DAll (test classes: 0,1,2,3,4,5,6,7,8,9)\u001b[0m\n",
            "100/100 - 0s - loss: 237.1950 - categorical_accuracy: 0.0892 - 366ms/epoch - 4ms/step\n",
            "\u001b[97;20m21:47:48 - INFO    [Experiment.py            :  301)]: [TEST] -> T1 (test classes: 0,1)\u001b[0m\n",
            "21/21 - 0s - loss: 246.1150 - categorical_accuracy: 0.0000e+00 - 89ms/epoch - 4ms/step\n",
            "\u001b[97;20m21:47:48 - INFO    [Experiment.py            :  301)]: [TEST] -> T2 (test classes: 2,3)\u001b[0m\n",
            "20/20 - 0s - loss: 246.1150 - categorical_accuracy: 0.0000e+00 - 197ms/epoch - 10ms/step\n",
            "\u001b[97;20m21:47:49 - INFO    [Experiment.py            :  301)]: [TEST] -> T3 (test classes: 4,5)\u001b[0m\n",
            "18/18 - 0s - loss: 200.6706 - categorical_accuracy: 0.4544 - 82ms/epoch - 5ms/step\n",
            "\u001b[93;20m21:47:49 - DEBUG   [EWC.py                   :  145)]: FM computation, current task=3\u001b[0m\n",
            "Epoch 1/10\n",
            "118/118 [==============================] - 1s 9ms/step - loss: 246.1150 - categorical_accuracy: 0.0000e+00\n",
            "Epoch 2/10\n",
            "118/118 [==============================] - 1s 10ms/step - loss: 246.1150 - categorical_accuracy: 0.0000e+00\n",
            "Epoch 3/10\n",
            "118/118 [==============================] - 1s 10ms/step - loss: 246.1150 - categorical_accuracy: 0.0000e+00\n",
            "Epoch 4/10\n",
            "118/118 [==============================] - 1s 8ms/step - loss: 246.1150 - categorical_accuracy: 0.0000e+00\n",
            "Epoch 5/10\n",
            "118/118 [==============================] - 1s 6ms/step - loss: 246.1150 - categorical_accuracy: 0.0000e+00\n",
            "Epoch 6/10\n",
            "118/118 [==============================] - 1s 6ms/step - loss: 246.1150 - categorical_accuracy: 0.0000e+00\n",
            "Epoch 7/10\n",
            "118/118 [==============================] - 1s 6ms/step - loss: 246.1150 - categorical_accuracy: 0.0000e+00\n",
            "Epoch 8/10\n",
            "118/118 [==============================] - 1s 6ms/step - loss: 246.1150 - categorical_accuracy: 0.0000e+00\n",
            "Epoch 9/10\n",
            "118/118 [==============================] - 1s 6ms/step - loss: 246.1150 - categorical_accuracy: 0.0000e+00\n",
            "Epoch 10/10\n",
            "118/118 [==============================] - 1s 6ms/step - loss: 246.1150 - categorical_accuracy: 0.0000e+00\n",
            "\u001b[97;20m21:47:59 - INFO    [Experiment.py            :  286)]: ############################################## ALL TASKS TEST ##############################################\u001b[0m\n",
            "\u001b[97;20m21:47:59 - INFO    [Experiment.py            :  301)]: [TEST] -> DAll (test classes: 0,1,2,3,4,5,6,7,8,9)\u001b[0m\n",
            "100/100 - 0s - loss: 237.1950 - categorical_accuracy: 0.0892 - 359ms/epoch - 4ms/step\n",
            "\u001b[97;20m21:47:59 - INFO    [Experiment.py            :  301)]: [TEST] -> T1 (test classes: 0,1)\u001b[0m\n",
            "21/21 - 0s - loss: 246.1150 - categorical_accuracy: 0.0000e+00 - 86ms/epoch - 4ms/step\n",
            "\u001b[97;20m21:48:00 - INFO    [Experiment.py            :  301)]: [TEST] -> T2 (test classes: 2,3)\u001b[0m\n",
            "20/20 - 0s - loss: 246.1150 - categorical_accuracy: 0.0000e+00 - 91ms/epoch - 5ms/step\n",
            "\u001b[97;20m21:48:00 - INFO    [Experiment.py            :  301)]: [TEST] -> T3 (test classes: 4,5)\u001b[0m\n",
            "18/18 - 0s - loss: 200.6706 - categorical_accuracy: 0.4544 - 80ms/epoch - 4ms/step\n",
            "\u001b[97;20m21:48:00 - INFO    [Experiment.py            :  301)]: [TEST] -> T4 (test classes: 6,7)\u001b[0m\n",
            "19/19 - 0s - loss: 246.1150 - categorical_accuracy: 0.0000e+00 - 81ms/epoch - 4ms/step\n",
            "\u001b[93;20m21:48:00 - DEBUG   [EWC.py                   :  145)]: FM computation, current task=4\u001b[0m\n",
            "Epoch 1/10\n",
            "118/118 [==============================] - 1s 6ms/step - loss: 246.1150 - categorical_accuracy: 0.0000e+00\n",
            "Epoch 2/10\n",
            "118/118 [==============================] - 1s 6ms/step - loss: 246.1150 - categorical_accuracy: 0.0000e+00\n",
            "Epoch 3/10\n",
            "118/118 [==============================] - 1s 6ms/step - loss: 246.1150 - categorical_accuracy: 0.0000e+00\n",
            "Epoch 4/10\n",
            "118/118 [==============================] - 1s 6ms/step - loss: 246.1150 - categorical_accuracy: 0.0000e+00\n",
            "Epoch 5/10\n",
            "118/118 [==============================] - 1s 7ms/step - loss: 246.1150 - categorical_accuracy: 0.0000e+00\n",
            "Epoch 6/10\n",
            "118/118 [==============================] - 1s 10ms/step - loss: 246.1150 - categorical_accuracy: 0.0000e+00\n",
            "Epoch 7/10\n",
            "118/118 [==============================] - 1s 9ms/step - loss: 209.6378 - categorical_accuracy: 0.3647\n",
            "Epoch 8/10\n",
            "118/118 [==============================] - 1s 9ms/step - loss: 195.6998 - categorical_accuracy: 0.5042\n",
            "Epoch 9/10\n",
            "118/118 [==============================] - 1s 9ms/step - loss: 195.6998 - categorical_accuracy: 0.5042\n",
            "Epoch 10/10\n",
            "118/118 [==============================] - 1s 8ms/step - loss: 195.6998 - categorical_accuracy: 0.5042\n",
            "\u001b[97;20m21:48:11 - INFO    [Experiment.py            :  286)]: ############################################## ALL TASKS TEST ##############################################\u001b[0m\n",
            "\u001b[97;20m21:48:11 - INFO    [Experiment.py            :  301)]: [TEST] -> DAll (test classes: 0,1,2,3,4,5,6,7,8,9)\u001b[0m\n",
            "100/100 - 0s - loss: 236.0250 - categorical_accuracy: 0.1009 - 359ms/epoch - 4ms/step\n",
            "\u001b[97;20m21:48:12 - INFO    [Experiment.py            :  301)]: [TEST] -> T1 (test classes: 0,1)\u001b[0m\n",
            "21/21 - 0s - loss: 246.1149 - categorical_accuracy: 0.0000e+00 - 88ms/epoch - 4ms/step\n",
            "\u001b[97;20m21:48:12 - INFO    [Experiment.py            :  301)]: [TEST] -> T2 (test classes: 2,3)\u001b[0m\n",
            "20/20 - 0s - loss: 246.1150 - categorical_accuracy: 0.0000e+00 - 83ms/epoch - 4ms/step\n",
            "\u001b[97;20m21:48:12 - INFO    [Experiment.py            :  301)]: [TEST] -> T3 (test classes: 4,5)\u001b[0m\n",
            "18/18 - 0s - loss: 246.1150 - categorical_accuracy: 0.0000e+00 - 75ms/epoch - 4ms/step\n",
            "\u001b[97;20m21:48:12 - INFO    [Experiment.py            :  301)]: [TEST] -> T4 (test classes: 6,7)\u001b[0m\n",
            "19/19 - 0s - loss: 246.1150 - categorical_accuracy: 0.0000e+00 - 84ms/epoch - 4ms/step\n",
            "\u001b[97;20m21:48:12 - INFO    [Experiment.py            :  301)]: [TEST] -> T5 (test classes: 8,9)\u001b[0m\n",
            "19/19 - 0s - loss: 197.3782 - categorical_accuracy: 0.4874 - 94ms/epoch - 5ms/step\n",
            "\u001b[93;20m21:48:13 - DEBUG   [EWC.py                   :  145)]: FM computation, current task=5\u001b[0m\n"
          ]
        }
      ]
    },
    {
      "cell_type": "code",
      "source": [],
      "metadata": {
        "id": "L5Z_lcxzhIyc"
      },
      "execution_count": null,
      "outputs": []
    }
  ]
}