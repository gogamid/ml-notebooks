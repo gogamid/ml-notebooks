{
  "cells": [
    {
      "cell_type": "markdown",
      "metadata": {
        "pycharm": {
          "name": "#%% md\n"
        },
        "id": "FRXOt6iAZ836"
      },
      "source": [
        "---\n",
        "description: Continual Learning Algorithms Prototyping Made Easy\n",
        "---\n",
        "# Training\n",
        "\n",
        "Welcome to the \"_Training_\" tutorial of the \"_From Zero to Hero_\" series. In this part we will present the functionalities offered by the `training` module.\n",
        "\n",
        "First, let's install Avalanche. You can skip this step if you have installed it already."
      ]
    },
    {
      "cell_type": "code",
      "execution_count": 1,
      "metadata": {
        "pycharm": {
          "name": "#%%\n"
        },
        "id": "6kCJIJgiZ838",
        "outputId": "c74d22f3-cd8b-436e-8370-3e038d3c7fe6",
        "colab": {
          "base_uri": "https://localhost:8080/"
        }
      },
      "outputs": [
        {
          "output_type": "stream",
          "name": "stdout",
          "text": [
            "Collecting avalanche-lib==0.4\n",
            "  Downloading avalanche_lib-0.4.0-py3-none-any.whl (894 kB)\n",
            "\u001b[2K     \u001b[90m━━━━━━━━━━━━━━━━━━━━━━━━━━━━━━━━━━━━━━━━\u001b[0m \u001b[32m894.6/894.6 kB\u001b[0m \u001b[31m8.1 MB/s\u001b[0m eta \u001b[36m0:00:00\u001b[0m\n",
            "\u001b[?25hCollecting typing-extensions==4.4.0 (from avalanche-lib==0.4)\n",
            "  Downloading typing_extensions-4.4.0-py3-none-any.whl (26 kB)\n",
            "Requirement already satisfied: psutil in /usr/local/lib/python3.10/dist-packages (from avalanche-lib==0.4) (5.9.5)\n",
            "Collecting gputil (from avalanche-lib==0.4)\n",
            "  Downloading GPUtil-1.4.0.tar.gz (5.5 kB)\n",
            "  Preparing metadata (setup.py) ... \u001b[?25l\u001b[?25hdone\n",
            "Requirement already satisfied: scikit-learn in /usr/local/lib/python3.10/dist-packages (from avalanche-lib==0.4) (1.2.2)\n",
            "Requirement already satisfied: matplotlib in /usr/local/lib/python3.10/dist-packages (from avalanche-lib==0.4) (3.7.1)\n",
            "Requirement already satisfied: numpy in /usr/local/lib/python3.10/dist-packages (from avalanche-lib==0.4) (1.23.5)\n",
            "Collecting pytorchcv (from avalanche-lib==0.4)\n",
            "  Downloading pytorchcv-0.0.67-py2.py3-none-any.whl (532 kB)\n",
            "\u001b[2K     \u001b[90m━━━━━━━━━━━━━━━━━━━━━━━━━━━━━━━━━━━━━━━━\u001b[0m \u001b[32m532.4/532.4 kB\u001b[0m \u001b[31m10.1 MB/s\u001b[0m eta \u001b[36m0:00:00\u001b[0m\n",
            "\u001b[?25hCollecting wandb (from avalanche-lib==0.4)\n",
            "  Downloading wandb-0.16.2-py3-none-any.whl (2.2 MB)\n",
            "\u001b[2K     \u001b[90m━━━━━━━━━━━━━━━━━━━━━━━━━━━━━━━━━━━━━━━━\u001b[0m \u001b[32m2.2/2.2 MB\u001b[0m \u001b[31m14.9 MB/s\u001b[0m eta \u001b[36m0:00:00\u001b[0m\n",
            "\u001b[?25hRequirement already satisfied: tensorboard>=1.15 in /usr/local/lib/python3.10/dist-packages (from avalanche-lib==0.4) (2.15.1)\n",
            "Requirement already satisfied: tqdm in /usr/local/lib/python3.10/dist-packages (from avalanche-lib==0.4) (4.66.1)\n",
            "Requirement already satisfied: torch in /usr/local/lib/python3.10/dist-packages (from avalanche-lib==0.4) (2.1.0+cu121)\n",
            "Requirement already satisfied: torchvision in /usr/local/lib/python3.10/dist-packages (from avalanche-lib==0.4) (0.16.0+cu121)\n",
            "Collecting torchmetrics (from avalanche-lib==0.4)\n",
            "  Downloading torchmetrics-1.3.0-py3-none-any.whl (840 kB)\n",
            "\u001b[2K     \u001b[90m━━━━━━━━━━━━━━━━━━━━━━━━━━━━━━━━━━━━━━━━\u001b[0m \u001b[32m840.2/840.2 kB\u001b[0m \u001b[31m22.8 MB/s\u001b[0m eta \u001b[36m0:00:00\u001b[0m\n",
            "\u001b[?25hRequirement already satisfied: gdown in /usr/local/lib/python3.10/dist-packages (from avalanche-lib==0.4) (4.6.6)\n",
            "Collecting quadprog (from avalanche-lib==0.4)\n",
            "  Downloading quadprog-0.1.11-cp310-cp310-manylinux_2_17_x86_64.manylinux2014_x86_64.whl (452 kB)\n",
            "\u001b[2K     \u001b[90m━━━━━━━━━━━━━━━━━━━━━━━━━━━━━━━━━━━━━━━━\u001b[0m \u001b[32m452.8/452.8 kB\u001b[0m \u001b[31m23.6 MB/s\u001b[0m eta \u001b[36m0:00:00\u001b[0m\n",
            "\u001b[?25hCollecting dill (from avalanche-lib==0.4)\n",
            "  Downloading dill-0.3.7-py3-none-any.whl (115 kB)\n",
            "\u001b[2K     \u001b[90m━━━━━━━━━━━━━━━━━━━━━━━━━━━━━━━━━━━━━━━━\u001b[0m \u001b[32m115.3/115.3 kB\u001b[0m \u001b[31m10.0 MB/s\u001b[0m eta \u001b[36m0:00:00\u001b[0m\n",
            "\u001b[?25hRequirement already satisfied: packaging in /usr/local/lib/python3.10/dist-packages (from avalanche-lib==0.4) (23.2)\n",
            "Requirement already satisfied: absl-py>=0.4 in /usr/local/lib/python3.10/dist-packages (from tensorboard>=1.15->avalanche-lib==0.4) (1.4.0)\n",
            "Requirement already satisfied: grpcio>=1.48.2 in /usr/local/lib/python3.10/dist-packages (from tensorboard>=1.15->avalanche-lib==0.4) (1.60.0)\n",
            "Requirement already satisfied: google-auth<3,>=1.6.3 in /usr/local/lib/python3.10/dist-packages (from tensorboard>=1.15->avalanche-lib==0.4) (2.17.3)\n",
            "Requirement already satisfied: google-auth-oauthlib<2,>=0.5 in /usr/local/lib/python3.10/dist-packages (from tensorboard>=1.15->avalanche-lib==0.4) (1.2.0)\n",
            "Requirement already satisfied: markdown>=2.6.8 in /usr/local/lib/python3.10/dist-packages (from tensorboard>=1.15->avalanche-lib==0.4) (3.5.1)\n",
            "Requirement already satisfied: protobuf<4.24,>=3.19.6 in /usr/local/lib/python3.10/dist-packages (from tensorboard>=1.15->avalanche-lib==0.4) (3.20.3)\n",
            "Requirement already satisfied: requests<3,>=2.21.0 in /usr/local/lib/python3.10/dist-packages (from tensorboard>=1.15->avalanche-lib==0.4) (2.31.0)\n",
            "Requirement already satisfied: setuptools>=41.0.0 in /usr/local/lib/python3.10/dist-packages (from tensorboard>=1.15->avalanche-lib==0.4) (67.7.2)\n",
            "Requirement already satisfied: six>1.9 in /usr/local/lib/python3.10/dist-packages (from tensorboard>=1.15->avalanche-lib==0.4) (1.16.0)\n",
            "Requirement already satisfied: tensorboard-data-server<0.8.0,>=0.7.0 in /usr/local/lib/python3.10/dist-packages (from tensorboard>=1.15->avalanche-lib==0.4) (0.7.2)\n",
            "Requirement already satisfied: werkzeug>=1.0.1 in /usr/local/lib/python3.10/dist-packages (from tensorboard>=1.15->avalanche-lib==0.4) (3.0.1)\n",
            "Requirement already satisfied: filelock in /usr/local/lib/python3.10/dist-packages (from gdown->avalanche-lib==0.4) (3.13.1)\n",
            "Requirement already satisfied: beautifulsoup4 in /usr/local/lib/python3.10/dist-packages (from gdown->avalanche-lib==0.4) (4.11.2)\n",
            "Requirement already satisfied: contourpy>=1.0.1 in /usr/local/lib/python3.10/dist-packages (from matplotlib->avalanche-lib==0.4) (1.2.0)\n",
            "Requirement already satisfied: cycler>=0.10 in /usr/local/lib/python3.10/dist-packages (from matplotlib->avalanche-lib==0.4) (0.12.1)\n",
            "Requirement already satisfied: fonttools>=4.22.0 in /usr/local/lib/python3.10/dist-packages (from matplotlib->avalanche-lib==0.4) (4.47.0)\n",
            "Requirement already satisfied: kiwisolver>=1.0.1 in /usr/local/lib/python3.10/dist-packages (from matplotlib->avalanche-lib==0.4) (1.4.5)\n",
            "Requirement already satisfied: pillow>=6.2.0 in /usr/local/lib/python3.10/dist-packages (from matplotlib->avalanche-lib==0.4) (9.4.0)\n",
            "Requirement already satisfied: pyparsing>=2.3.1 in /usr/local/lib/python3.10/dist-packages (from matplotlib->avalanche-lib==0.4) (3.1.1)\n",
            "Requirement already satisfied: python-dateutil>=2.7 in /usr/local/lib/python3.10/dist-packages (from matplotlib->avalanche-lib==0.4) (2.8.2)\n",
            "Requirement already satisfied: scipy>=1.3.2 in /usr/local/lib/python3.10/dist-packages (from scikit-learn->avalanche-lib==0.4) (1.11.4)\n",
            "Requirement already satisfied: joblib>=1.1.1 in /usr/local/lib/python3.10/dist-packages (from scikit-learn->avalanche-lib==0.4) (1.3.2)\n",
            "Requirement already satisfied: threadpoolctl>=2.0.0 in /usr/local/lib/python3.10/dist-packages (from scikit-learn->avalanche-lib==0.4) (3.2.0)\n",
            "Requirement already satisfied: sympy in /usr/local/lib/python3.10/dist-packages (from torch->avalanche-lib==0.4) (1.12)\n",
            "Requirement already satisfied: networkx in /usr/local/lib/python3.10/dist-packages (from torch->avalanche-lib==0.4) (3.2.1)\n",
            "Requirement already satisfied: jinja2 in /usr/local/lib/python3.10/dist-packages (from torch->avalanche-lib==0.4) (3.1.2)\n",
            "Requirement already satisfied: fsspec in /usr/local/lib/python3.10/dist-packages (from torch->avalanche-lib==0.4) (2023.6.0)\n",
            "Requirement already satisfied: triton==2.1.0 in /usr/local/lib/python3.10/dist-packages (from torch->avalanche-lib==0.4) (2.1.0)\n",
            "Collecting lightning-utilities>=0.8.0 (from torchmetrics->avalanche-lib==0.4)\n",
            "  Downloading lightning_utilities-0.10.0-py3-none-any.whl (24 kB)\n",
            "Requirement already satisfied: Click!=8.0.0,>=7.1 in /usr/local/lib/python3.10/dist-packages (from wandb->avalanche-lib==0.4) (8.1.7)\n",
            "Collecting GitPython!=3.1.29,>=1.0.0 (from wandb->avalanche-lib==0.4)\n",
            "  Downloading GitPython-3.1.41-py3-none-any.whl (196 kB)\n",
            "\u001b[2K     \u001b[90m━━━━━━━━━━━━━━━━━━━━━━━━━━━━━━━━━━━━━━━━\u001b[0m \u001b[32m196.4/196.4 kB\u001b[0m \u001b[31m17.2 MB/s\u001b[0m eta \u001b[36m0:00:00\u001b[0m\n",
            "\u001b[?25hCollecting sentry-sdk>=1.0.0 (from wandb->avalanche-lib==0.4)\n",
            "  Downloading sentry_sdk-1.39.2-py2.py3-none-any.whl (254 kB)\n",
            "\u001b[2K     \u001b[90m━━━━━━━━━━━━━━━━━━━━━━━━━━━━━━━━━━━━━━━━\u001b[0m \u001b[32m254.1/254.1 kB\u001b[0m \u001b[31m25.8 MB/s\u001b[0m eta \u001b[36m0:00:00\u001b[0m\n",
            "\u001b[?25hCollecting docker-pycreds>=0.4.0 (from wandb->avalanche-lib==0.4)\n",
            "  Downloading docker_pycreds-0.4.0-py2.py3-none-any.whl (9.0 kB)\n",
            "Requirement already satisfied: PyYAML in /usr/local/lib/python3.10/dist-packages (from wandb->avalanche-lib==0.4) (6.0.1)\n",
            "Collecting setproctitle (from wandb->avalanche-lib==0.4)\n",
            "  Downloading setproctitle-1.3.3-cp310-cp310-manylinux_2_5_x86_64.manylinux1_x86_64.manylinux_2_17_x86_64.manylinux2014_x86_64.whl (30 kB)\n",
            "Requirement already satisfied: appdirs>=1.4.3 in /usr/local/lib/python3.10/dist-packages (from wandb->avalanche-lib==0.4) (1.4.4)\n",
            "Collecting gitdb<5,>=4.0.1 (from GitPython!=3.1.29,>=1.0.0->wandb->avalanche-lib==0.4)\n",
            "  Downloading gitdb-4.0.11-py3-none-any.whl (62 kB)\n",
            "\u001b[2K     \u001b[90m━━━━━━━━━━━━━━━━━━━━━━━━━━━━━━━━━━━━━━━━\u001b[0m \u001b[32m62.7/62.7 kB\u001b[0m \u001b[31m8.2 MB/s\u001b[0m eta \u001b[36m0:00:00\u001b[0m\n",
            "\u001b[?25hRequirement already satisfied: cachetools<6.0,>=2.0.0 in /usr/local/lib/python3.10/dist-packages (from google-auth<3,>=1.6.3->tensorboard>=1.15->avalanche-lib==0.4) (5.3.2)\n",
            "Requirement already satisfied: pyasn1-modules>=0.2.1 in /usr/local/lib/python3.10/dist-packages (from google-auth<3,>=1.6.3->tensorboard>=1.15->avalanche-lib==0.4) (0.3.0)\n",
            "Requirement already satisfied: rsa<5,>=3.1.4 in /usr/local/lib/python3.10/dist-packages (from google-auth<3,>=1.6.3->tensorboard>=1.15->avalanche-lib==0.4) (4.9)\n",
            "Requirement already satisfied: requests-oauthlib>=0.7.0 in /usr/local/lib/python3.10/dist-packages (from google-auth-oauthlib<2,>=0.5->tensorboard>=1.15->avalanche-lib==0.4) (1.3.1)\n",
            "Requirement already satisfied: charset-normalizer<4,>=2 in /usr/local/lib/python3.10/dist-packages (from requests<3,>=2.21.0->tensorboard>=1.15->avalanche-lib==0.4) (3.3.2)\n",
            "Requirement already satisfied: idna<4,>=2.5 in /usr/local/lib/python3.10/dist-packages (from requests<3,>=2.21.0->tensorboard>=1.15->avalanche-lib==0.4) (3.6)\n",
            "Requirement already satisfied: urllib3<3,>=1.21.1 in /usr/local/lib/python3.10/dist-packages (from requests<3,>=2.21.0->tensorboard>=1.15->avalanche-lib==0.4) (2.0.7)\n",
            "Requirement already satisfied: certifi>=2017.4.17 in /usr/local/lib/python3.10/dist-packages (from requests<3,>=2.21.0->tensorboard>=1.15->avalanche-lib==0.4) (2023.11.17)\n",
            "Requirement already satisfied: MarkupSafe>=2.1.1 in /usr/local/lib/python3.10/dist-packages (from werkzeug>=1.0.1->tensorboard>=1.15->avalanche-lib==0.4) (2.1.3)\n",
            "Requirement already satisfied: soupsieve>1.2 in /usr/local/lib/python3.10/dist-packages (from beautifulsoup4->gdown->avalanche-lib==0.4) (2.5)\n",
            "Requirement already satisfied: PySocks!=1.5.7,>=1.5.6 in /usr/local/lib/python3.10/dist-packages (from requests<3,>=2.21.0->tensorboard>=1.15->avalanche-lib==0.4) (1.7.1)\n",
            "Requirement already satisfied: mpmath>=0.19 in /usr/local/lib/python3.10/dist-packages (from sympy->torch->avalanche-lib==0.4) (1.3.0)\n",
            "Collecting smmap<6,>=3.0.1 (from gitdb<5,>=4.0.1->GitPython!=3.1.29,>=1.0.0->wandb->avalanche-lib==0.4)\n",
            "  Downloading smmap-5.0.1-py3-none-any.whl (24 kB)\n",
            "Requirement already satisfied: pyasn1<0.6.0,>=0.4.6 in /usr/local/lib/python3.10/dist-packages (from pyasn1-modules>=0.2.1->google-auth<3,>=1.6.3->tensorboard>=1.15->avalanche-lib==0.4) (0.5.1)\n",
            "Requirement already satisfied: oauthlib>=3.0.0 in /usr/local/lib/python3.10/dist-packages (from requests-oauthlib>=0.7.0->google-auth-oauthlib<2,>=0.5->tensorboard>=1.15->avalanche-lib==0.4) (3.2.2)\n",
            "Building wheels for collected packages: gputil\n",
            "  Building wheel for gputil (setup.py) ... \u001b[?25l\u001b[?25hdone\n",
            "  Created wheel for gputil: filename=GPUtil-1.4.0-py3-none-any.whl size=7393 sha256=130e779868b5aa427f8fe1e0a9619c4f7c2f511f053d326e167125e9ff49c0c0\n",
            "  Stored in directory: /root/.cache/pip/wheels/a9/8a/bd/81082387151853ab8b6b3ef33426e98f5cbfebc3c397a9d4d0\n",
            "Successfully built gputil\n",
            "Installing collected packages: gputil, typing-extensions, smmap, setproctitle, sentry-sdk, quadprog, docker-pycreds, dill, pytorchcv, lightning-utilities, gitdb, torchmetrics, GitPython, wandb, avalanche-lib\n",
            "  Attempting uninstall: typing-extensions\n",
            "    Found existing installation: typing_extensions 4.5.0\n",
            "    Uninstalling typing_extensions-4.5.0:\n",
            "      Successfully uninstalled typing_extensions-4.5.0\n",
            "Successfully installed GitPython-3.1.41 avalanche-lib-0.4.0 dill-0.3.7 docker-pycreds-0.4.0 gitdb-4.0.11 gputil-1.4.0 lightning-utilities-0.10.0 pytorchcv-0.0.67 quadprog-0.1.11 sentry-sdk-1.39.2 setproctitle-1.3.3 smmap-5.0.1 torchmetrics-1.3.0 typing-extensions-4.4.0 wandb-0.16.2\n"
          ]
        }
      ],
      "source": [
        "!pip install avalanche-lib==0.4"
      ]
    },
    {
      "cell_type": "markdown",
      "metadata": {
        "pycharm": {
          "name": "#%% md\n"
        },
        "id": "bvIrzRlGZ839"
      },
      "source": [
        "## 💪 The Training Module\n",
        "\n",
        "The `training` module in _Avalanche_ is designed with modularity in mind. Its main goals are to:\n",
        "\n",
        "1. provide a set of popular **continual learning baselines** that can be easily used to run experimental comparisons;\n",
        "2. provide simple abstractions to **create and run your own strategy** as efficiently and easily as possible starting from a couple of basic building blocks we already prepared for you.\n",
        "\n",
        "At the moment, the `training` module includes three main components:\n",
        "\n",
        "* **Templates**: these are high level abstractions used as a starting point to define the actual strategies. The templates contain already implemented basic utilities and functionalities shared by a group of strategies (e.g. the `BaseSGDTemplate` contains all the implemented methods to deal with strategies based on SGD).\n",
        "* **Strategies**: these are popular baselines already implemented for you which you can use for comparisons or as base classes to define a custom strategy.\n",
        "* **Plugins**: these are classes that allow adding some specific behavior to your own strategy. The plugin system allows defining reusable components which can be easily combined (e.g. a replay strategy, a regularization strategy). They are also used to automatically manage logging and evaluation.\n",
        "\n",
        "Keep in mind that many Avalanche components are independent of Avalanche strategies. If you already have your own strategy which does not use Avalanche, you can use Avalanche's benchmarks, models, data loaders, and metrics without ever looking at Avalanche's strategies!\n",
        "\n",
        "## 📈 How to Use Strategies & Plugins\n",
        "\n",
        "If you want to compare your strategy with other classic continual learning algorithms or baselines, in _Avalanche_ you can instantiate a strategy with a couple of lines of code.\n",
        "\n",
        "### Strategy Instantiation\n",
        "Most strategies require only 3 mandatory arguments:\n",
        "- **model**: this must be a `torch.nn.Module`.\n",
        "- **optimizer**: `torch.optim.Optimizer` already initialized on your `model`.\n",
        "- **loss**: a loss function such as those in `torch.nn.functional`.\n",
        "\n",
        "Additional arguments are optional and allow you to customize training (batch size, number of epochs, ...) or strategy-specific parameters (memory size, regularization strength, ...)."
      ]
    },
    {
      "cell_type": "code",
      "execution_count": 2,
      "metadata": {
        "pycharm": {
          "name": "#%%\n"
        },
        "id": "28UJE1iUZ839"
      },
      "outputs": [],
      "source": [
        "from torch.optim import SGD\n",
        "from torch.nn import CrossEntropyLoss\n",
        "from avalanche.models import SimpleMLP\n",
        "from avalanche.training.supervised import Naive, CWRStar, Replay, GDumb, Cumulative, LwF, GEM, AGEM, EWC  # and many more!\n",
        "\n",
        "model = SimpleMLP(num_classes=10)\n",
        "optimizer = SGD(model.parameters(), lr=0.001, momentum=0.9)\n",
        "criterion = CrossEntropyLoss()\n",
        "cl_strategy = Naive(\n",
        "    model, optimizer, criterion,\n",
        "    train_mb_size=100, train_epochs=4, eval_mb_size=100\n",
        ")"
      ]
    },
    {
      "cell_type": "markdown",
      "metadata": {
        "pycharm": {
          "name": "#%% md\n"
        },
        "id": "vlCPSV4FZ839"
      },
      "source": [
        "### Training & Evaluation\n",
        "\n",
        "Each strategy object offers two main methods: `train` and `eval`. Both of them, accept either a _single experience_(`Experience`) or a _list of them_, for maximum flexibility.\n",
        "\n",
        "We can train the model continually by iterating over the `train_stream` provided by the scenario."
      ]
    },
    {
      "cell_type": "code",
      "execution_count": 3,
      "metadata": {
        "pycharm": {
          "name": "#%%\n"
        },
        "id": "HRck7rmbZ83-",
        "outputId": "18e8e2a4-3717-49a2-d452-e0949b1f62d8",
        "colab": {
          "base_uri": "https://localhost:8080/"
        }
      },
      "outputs": [
        {
          "output_type": "stream",
          "name": "stdout",
          "text": [
            "Downloading http://yann.lecun.com/exdb/mnist/train-images-idx3-ubyte.gz\n",
            "Downloading http://yann.lecun.com/exdb/mnist/train-images-idx3-ubyte.gz to /root/.avalanche/data/mnist/TensorMNIST/raw/train-images-idx3-ubyte.gz\n"
          ]
        },
        {
          "output_type": "stream",
          "name": "stderr",
          "text": [
            "100%|██████████| 9912422/9912422 [00:00<00:00, 131357951.78it/s]\n"
          ]
        },
        {
          "output_type": "stream",
          "name": "stdout",
          "text": [
            "Extracting /root/.avalanche/data/mnist/TensorMNIST/raw/train-images-idx3-ubyte.gz to /root/.avalanche/data/mnist/TensorMNIST/raw\n",
            "\n",
            "Downloading http://yann.lecun.com/exdb/mnist/train-labels-idx1-ubyte.gz\n",
            "Downloading http://yann.lecun.com/exdb/mnist/train-labels-idx1-ubyte.gz to /root/.avalanche/data/mnist/TensorMNIST/raw/train-labels-idx1-ubyte.gz\n"
          ]
        },
        {
          "output_type": "stream",
          "name": "stderr",
          "text": [
            "100%|██████████| 28881/28881 [00:00<00:00, 41343240.21it/s]\n"
          ]
        },
        {
          "output_type": "stream",
          "name": "stdout",
          "text": [
            "Extracting /root/.avalanche/data/mnist/TensorMNIST/raw/train-labels-idx1-ubyte.gz to /root/.avalanche/data/mnist/TensorMNIST/raw\n",
            "\n",
            "Downloading http://yann.lecun.com/exdb/mnist/t10k-images-idx3-ubyte.gz\n",
            "Downloading http://yann.lecun.com/exdb/mnist/t10k-images-idx3-ubyte.gz to /root/.avalanche/data/mnist/TensorMNIST/raw/t10k-images-idx3-ubyte.gz\n"
          ]
        },
        {
          "output_type": "stream",
          "name": "stderr",
          "text": [
            "100%|██████████| 1648877/1648877 [00:00<00:00, 43722484.28it/s]"
          ]
        },
        {
          "output_type": "stream",
          "name": "stdout",
          "text": [
            "Extracting /root/.avalanche/data/mnist/TensorMNIST/raw/t10k-images-idx3-ubyte.gz to /root/.avalanche/data/mnist/TensorMNIST/raw\n"
          ]
        },
        {
          "output_type": "stream",
          "name": "stderr",
          "text": [
            "\n"
          ]
        },
        {
          "output_type": "stream",
          "name": "stdout",
          "text": [
            "\n",
            "Downloading http://yann.lecun.com/exdb/mnist/t10k-labels-idx1-ubyte.gz\n",
            "Downloading http://yann.lecun.com/exdb/mnist/t10k-labels-idx1-ubyte.gz to /root/.avalanche/data/mnist/TensorMNIST/raw/t10k-labels-idx1-ubyte.gz\n"
          ]
        },
        {
          "output_type": "stream",
          "name": "stderr",
          "text": [
            "100%|██████████| 4542/4542 [00:00<00:00, 21096931.08it/s]\n"
          ]
        },
        {
          "output_type": "stream",
          "name": "stdout",
          "text": [
            "Extracting /root/.avalanche/data/mnist/TensorMNIST/raw/t10k-labels-idx1-ubyte.gz to /root/.avalanche/data/mnist/TensorMNIST/raw\n",
            "\n",
            "Starting experiment...\n",
            "Start of experience:  0\n",
            "Current Classes:  [5, 6]\n",
            "-- >> Start of training phase << --\n",
            "100%|██████████| 114/114 [00:02<00:00, 50.70it/s]\n",
            "Epoch 0 ended.\n",
            "\tLoss_Epoch/train_phase/train_stream/Task000 = 0.3927\n",
            "\tTop1_Acc_Epoch/train_phase/train_stream/Task000 = 0.8926\n",
            "100%|██████████| 114/114 [00:02<00:00, 53.02it/s]\n",
            "Epoch 1 ended.\n",
            "\tLoss_Epoch/train_phase/train_stream/Task000 = 0.1022\n",
            "\tTop1_Acc_Epoch/train_phase/train_stream/Task000 = 0.9686\n",
            "100%|██████████| 114/114 [00:02<00:00, 46.25it/s]\n",
            "Epoch 2 ended.\n",
            "\tLoss_Epoch/train_phase/train_stream/Task000 = 0.0859\n",
            "\tTop1_Acc_Epoch/train_phase/train_stream/Task000 = 0.9737\n",
            "100%|██████████| 114/114 [00:02<00:00, 51.09it/s]\n",
            "Epoch 3 ended.\n",
            "\tLoss_Epoch/train_phase/train_stream/Task000 = 0.0762\n",
            "\tTop1_Acc_Epoch/train_phase/train_stream/Task000 = 0.9760\n",
            "-- >> End of training phase << --\n",
            "Training completed\n",
            "Computing accuracy on the whole test set\n",
            "-- >> Start of eval phase << --\n",
            "-- Starting eval on experience 0 (Task 0) from test stream --\n",
            "100%|██████████| 19/19 [00:00<00:00, 63.42it/s]\n",
            "> Eval on experience 0 (Task 0) from test stream ended.\n",
            "\tLoss_Exp/eval_phase/test_stream/Task000/Exp000 = 0.0661\n",
            "\tTop1_Acc_Exp/eval_phase/test_stream/Task000/Exp000 = 0.9784\n",
            "-- Starting eval on experience 1 (Task 0) from test stream --\n",
            "100%|██████████| 22/22 [00:00<00:00, 60.52it/s]\n",
            "> Eval on experience 1 (Task 0) from test stream ended.\n",
            "\tLoss_Exp/eval_phase/test_stream/Task000/Exp001 = 7.8563\n",
            "\tTop1_Acc_Exp/eval_phase/test_stream/Task000/Exp001 = 0.0000\n",
            "-- Starting eval on experience 2 (Task 0) from test stream --\n",
            "100%|██████████| 20/20 [00:00<00:00, 63.24it/s]\n",
            "> Eval on experience 2 (Task 0) from test stream ended.\n",
            "\tLoss_Exp/eval_phase/test_stream/Task000/Exp002 = 10.2738\n",
            "\tTop1_Acc_Exp/eval_phase/test_stream/Task000/Exp002 = 0.0000\n",
            "-- Starting eval on experience 3 (Task 0) from test stream --\n",
            "100%|██████████| 21/21 [00:00<00:00, 63.35it/s]\n",
            "> Eval on experience 3 (Task 0) from test stream ended.\n",
            "\tLoss_Exp/eval_phase/test_stream/Task000/Exp003 = 10.0853\n",
            "\tTop1_Acc_Exp/eval_phase/test_stream/Task000/Exp003 = 0.0000\n",
            "-- Starting eval on experience 4 (Task 0) from test stream --\n",
            "100%|██████████| 21/21 [00:00<00:00, 61.77it/s]\n",
            "> Eval on experience 4 (Task 0) from test stream ended.\n",
            "\tLoss_Exp/eval_phase/test_stream/Task000/Exp004 = 8.3648\n",
            "\tTop1_Acc_Exp/eval_phase/test_stream/Task000/Exp004 = 0.0000\n",
            "-- >> End of eval phase << --\n",
            "\tLoss_Stream/eval_phase/test_stream/Task000 = 7.4397\n",
            "\tTop1_Acc_Stream/eval_phase/test_stream/Task000 = 0.1810\n",
            "Start of experience:  1\n",
            "Current Classes:  [1, 2]\n",
            "-- >> Start of training phase << --\n",
            "100%|██████████| 127/127 [00:02<00:00, 52.36it/s]\n",
            "Epoch 0 ended.\n",
            "\tLoss_Epoch/train_phase/train_stream/Task000 = 0.6213\n",
            "\tTop1_Acc_Epoch/train_phase/train_stream/Task000 = 0.8724\n",
            "100%|██████████| 127/127 [00:02<00:00, 52.95it/s]\n",
            "Epoch 1 ended.\n",
            "\tLoss_Epoch/train_phase/train_stream/Task000 = 0.0648\n",
            "\tTop1_Acc_Epoch/train_phase/train_stream/Task000 = 0.9824\n",
            "100%|██████████| 127/127 [00:02<00:00, 47.78it/s]\n",
            "Epoch 2 ended.\n",
            "\tLoss_Epoch/train_phase/train_stream/Task000 = 0.0523\n",
            "\tTop1_Acc_Epoch/train_phase/train_stream/Task000 = 0.9848\n",
            "100%|██████████| 127/127 [00:02<00:00, 50.76it/s]\n",
            "Epoch 3 ended.\n",
            "\tLoss_Epoch/train_phase/train_stream/Task000 = 0.0446\n",
            "\tTop1_Acc_Epoch/train_phase/train_stream/Task000 = 0.9861\n",
            "-- >> End of training phase << --\n",
            "Training completed\n",
            "Computing accuracy on the whole test set\n",
            "-- >> Start of eval phase << --\n",
            "-- Starting eval on experience 0 (Task 0) from test stream --\n",
            "100%|██████████| 19/19 [00:00<00:00, 63.65it/s]\n",
            "> Eval on experience 0 (Task 0) from test stream ended.\n",
            "\tLoss_Exp/eval_phase/test_stream/Task000/Exp000 = 7.0098\n",
            "\tTop1_Acc_Exp/eval_phase/test_stream/Task000/Exp000 = 0.0000\n",
            "-- Starting eval on experience 1 (Task 0) from test stream --\n",
            "100%|██████████| 22/22 [00:00<00:00, 60.48it/s]\n",
            "> Eval on experience 1 (Task 0) from test stream ended.\n",
            "\tLoss_Exp/eval_phase/test_stream/Task000/Exp001 = 0.0313\n",
            "\tTop1_Acc_Exp/eval_phase/test_stream/Task000/Exp001 = 0.9931\n",
            "-- Starting eval on experience 2 (Task 0) from test stream --\n",
            "100%|██████████| 20/20 [00:00<00:00, 62.55it/s]\n",
            "> Eval on experience 2 (Task 0) from test stream ended.\n",
            "\tLoss_Exp/eval_phase/test_stream/Task000/Exp002 = 10.0672\n",
            "\tTop1_Acc_Exp/eval_phase/test_stream/Task000/Exp002 = 0.0000\n",
            "-- Starting eval on experience 3 (Task 0) from test stream --\n",
            "100%|██████████| 21/21 [00:00<00:00, 60.91it/s]\n",
            "> Eval on experience 3 (Task 0) from test stream ended.\n",
            "\tLoss_Exp/eval_phase/test_stream/Task000/Exp003 = 8.7230\n",
            "\tTop1_Acc_Exp/eval_phase/test_stream/Task000/Exp003 = 0.0000\n",
            "-- Starting eval on experience 4 (Task 0) from test stream --\n",
            "100%|██████████| 21/21 [00:00<00:00, 62.38it/s]\n",
            "> Eval on experience 4 (Task 0) from test stream ended.\n",
            "\tLoss_Exp/eval_phase/test_stream/Task000/Exp004 = 8.1507\n",
            "\tTop1_Acc_Exp/eval_phase/test_stream/Task000/Exp004 = 0.0000\n",
            "-- >> End of eval phase << --\n",
            "\tLoss_Stream/eval_phase/test_stream/Task000 = 6.6702\n",
            "\tTop1_Acc_Stream/eval_phase/test_stream/Task000 = 0.2152\n",
            "Start of experience:  2\n",
            "Current Classes:  [0, 8]\n",
            "-- >> Start of training phase << --\n",
            "100%|██████████| 118/118 [00:02<00:00, 52.65it/s]\n",
            "Epoch 0 ended.\n",
            "\tLoss_Epoch/train_phase/train_stream/Task000 = 0.7713\n",
            "\tTop1_Acc_Epoch/train_phase/train_stream/Task000 = 0.8487\n",
            "100%|██████████| 118/118 [00:02<00:00, 52.59it/s]\n",
            "Epoch 1 ended.\n",
            "\tLoss_Epoch/train_phase/train_stream/Task000 = 0.0607\n",
            "\tTop1_Acc_Epoch/train_phase/train_stream/Task000 = 0.9824\n",
            "100%|██████████| 118/118 [00:02<00:00, 48.54it/s]\n",
            "Epoch 2 ended.\n",
            "\tLoss_Epoch/train_phase/train_stream/Task000 = 0.0462\n",
            "\tTop1_Acc_Epoch/train_phase/train_stream/Task000 = 0.9863\n",
            "100%|██████████| 118/118 [00:02<00:00, 49.70it/s]\n",
            "Epoch 3 ended.\n",
            "\tLoss_Epoch/train_phase/train_stream/Task000 = 0.0411\n",
            "\tTop1_Acc_Epoch/train_phase/train_stream/Task000 = 0.9874\n",
            "-- >> End of training phase << --\n",
            "Training completed\n",
            "Computing accuracy on the whole test set\n",
            "-- >> Start of eval phase << --\n",
            "-- Starting eval on experience 0 (Task 0) from test stream --\n",
            "100%|██████████| 19/19 [00:00<00:00, 66.84it/s]\n",
            "> Eval on experience 0 (Task 0) from test stream ended.\n",
            "\tLoss_Exp/eval_phase/test_stream/Task000/Exp000 = 6.2527\n",
            "\tTop1_Acc_Exp/eval_phase/test_stream/Task000/Exp000 = 0.0000\n",
            "-- Starting eval on experience 1 (Task 0) from test stream --\n",
            "100%|██████████| 22/22 [00:00<00:00, 61.99it/s]\n",
            "> Eval on experience 1 (Task 0) from test stream ended.\n",
            "\tLoss_Exp/eval_phase/test_stream/Task000/Exp001 = 5.9979\n",
            "\tTop1_Acc_Exp/eval_phase/test_stream/Task000/Exp001 = 0.0000\n",
            "-- Starting eval on experience 2 (Task 0) from test stream --\n",
            "100%|██████████| 20/20 [00:00<00:00, 60.71it/s]\n",
            "> Eval on experience 2 (Task 0) from test stream ended.\n",
            "\tLoss_Exp/eval_phase/test_stream/Task000/Exp002 = 0.0280\n",
            "\tTop1_Acc_Exp/eval_phase/test_stream/Task000/Exp002 = 0.9918\n",
            "-- Starting eval on experience 3 (Task 0) from test stream --\n",
            "100%|██████████| 21/21 [00:00<00:00, 63.38it/s]\n",
            "> Eval on experience 3 (Task 0) from test stream ended.\n",
            "\tLoss_Exp/eval_phase/test_stream/Task000/Exp003 = 8.8300\n",
            "\tTop1_Acc_Exp/eval_phase/test_stream/Task000/Exp003 = 0.0000\n",
            "-- Starting eval on experience 4 (Task 0) from test stream --\n",
            "100%|██████████| 21/21 [00:00<00:00, 59.53it/s]\n",
            "> Eval on experience 4 (Task 0) from test stream ended.\n",
            "\tLoss_Exp/eval_phase/test_stream/Task000/Exp004 = 7.5522\n",
            "\tTop1_Acc_Exp/eval_phase/test_stream/Task000/Exp004 = 0.0000\n",
            "-- >> End of eval phase << --\n",
            "\tLoss_Stream/eval_phase/test_stream/Task000 = 5.7627\n",
            "\tTop1_Acc_Stream/eval_phase/test_stream/Task000 = 0.1938\n",
            "Start of experience:  3\n",
            "Current Classes:  [9, 3]\n",
            "-- >> Start of training phase << --\n",
            "100%|██████████| 121/121 [00:03<00:00, 37.54it/s]\n",
            "Epoch 0 ended.\n",
            "\tLoss_Epoch/train_phase/train_stream/Task000 = 0.8478\n",
            "\tTop1_Acc_Epoch/train_phase/train_stream/Task000 = 0.8244\n",
            "100%|██████████| 121/121 [00:02<00:00, 43.26it/s]\n",
            "Epoch 1 ended.\n",
            "\tLoss_Epoch/train_phase/train_stream/Task000 = 0.1160\n",
            "\tTop1_Acc_Epoch/train_phase/train_stream/Task000 = 0.9647\n",
            "100%|██████████| 121/121 [00:02<00:00, 45.88it/s]\n",
            "Epoch 2 ended.\n",
            "\tLoss_Epoch/train_phase/train_stream/Task000 = 0.0945\n",
            "\tTop1_Acc_Epoch/train_phase/train_stream/Task000 = 0.9698\n",
            "100%|██████████| 121/121 [00:02<00:00, 51.64it/s]\n",
            "Epoch 3 ended.\n",
            "\tLoss_Epoch/train_phase/train_stream/Task000 = 0.0838\n",
            "\tTop1_Acc_Epoch/train_phase/train_stream/Task000 = 0.9730\n",
            "-- >> End of training phase << --\n",
            "Training completed\n",
            "Computing accuracy on the whole test set\n",
            "-- >> Start of eval phase << --\n",
            "-- Starting eval on experience 0 (Task 0) from test stream --\n",
            "100%|██████████| 19/19 [00:00<00:00, 60.38it/s]\n",
            "> Eval on experience 0 (Task 0) from test stream ended.\n",
            "\tLoss_Exp/eval_phase/test_stream/Task000/Exp000 = 7.3478\n",
            "\tTop1_Acc_Exp/eval_phase/test_stream/Task000/Exp000 = 0.0000\n",
            "-- Starting eval on experience 1 (Task 0) from test stream --\n",
            "100%|██████████| 22/22 [00:00<00:00, 61.00it/s]\n",
            "> Eval on experience 1 (Task 0) from test stream ended.\n",
            "\tLoss_Exp/eval_phase/test_stream/Task000/Exp001 = 6.4536\n",
            "\tTop1_Acc_Exp/eval_phase/test_stream/Task000/Exp001 = 0.0000\n",
            "-- Starting eval on experience 2 (Task 0) from test stream --\n",
            "100%|██████████| 20/20 [00:00<00:00, 62.24it/s]\n",
            "> Eval on experience 2 (Task 0) from test stream ended.\n",
            "\tLoss_Exp/eval_phase/test_stream/Task000/Exp002 = 7.0043\n",
            "\tTop1_Acc_Exp/eval_phase/test_stream/Task000/Exp002 = 0.0020\n",
            "-- Starting eval on experience 3 (Task 0) from test stream --\n",
            "100%|██████████| 21/21 [00:00<00:00, 63.67it/s]\n",
            "> Eval on experience 3 (Task 0) from test stream ended.\n",
            "\tLoss_Exp/eval_phase/test_stream/Task000/Exp003 = 0.0631\n",
            "\tTop1_Acc_Exp/eval_phase/test_stream/Task000/Exp003 = 0.9797\n",
            "-- Starting eval on experience 4 (Task 0) from test stream --\n",
            "100%|██████████| 21/21 [00:00<00:00, 62.50it/s]\n",
            "> Eval on experience 4 (Task 0) from test stream ended.\n",
            "\tLoss_Exp/eval_phase/test_stream/Task000/Exp004 = 9.2927\n",
            "\tTop1_Acc_Exp/eval_phase/test_stream/Task000/Exp004 = 0.0000\n",
            "-- >> End of eval phase << --\n",
            "\tLoss_Stream/eval_phase/test_stream/Task000 = 6.0070\n",
            "\tTop1_Acc_Stream/eval_phase/test_stream/Task000 = 0.1982\n",
            "Start of experience:  4\n",
            "Current Classes:  [4, 7]\n",
            "-- >> Start of training phase << --\n",
            "100%|██████████| 122/122 [00:02<00:00, 53.36it/s]\n",
            "Epoch 0 ended.\n",
            "\tLoss_Epoch/train_phase/train_stream/Task000 = 0.9754\n",
            "\tTop1_Acc_Epoch/train_phase/train_stream/Task000 = 0.7990\n",
            "100%|██████████| 122/122 [00:02<00:00, 52.30it/s]\n",
            "Epoch 1 ended.\n",
            "\tLoss_Epoch/train_phase/train_stream/Task000 = 0.0981\n",
            "\tTop1_Acc_Epoch/train_phase/train_stream/Task000 = 0.9720\n",
            "100%|██████████| 122/122 [00:02<00:00, 46.86it/s]\n",
            "Epoch 2 ended.\n",
            "\tLoss_Epoch/train_phase/train_stream/Task000 = 0.0716\n",
            "\tTop1_Acc_Epoch/train_phase/train_stream/Task000 = 0.9794\n",
            "100%|██████████| 122/122 [00:02<00:00, 53.09it/s]\n",
            "Epoch 3 ended.\n",
            "\tLoss_Epoch/train_phase/train_stream/Task000 = 0.0618\n",
            "\tTop1_Acc_Epoch/train_phase/train_stream/Task000 = 0.9822\n",
            "-- >> End of training phase << --\n",
            "Training completed\n",
            "Computing accuracy on the whole test set\n",
            "-- >> Start of eval phase << --\n",
            "-- Starting eval on experience 0 (Task 0) from test stream --\n",
            "100%|██████████| 19/19 [00:00<00:00, 59.85it/s]\n",
            "> Eval on experience 0 (Task 0) from test stream ended.\n",
            "\tLoss_Exp/eval_phase/test_stream/Task000/Exp000 = 7.7685\n",
            "\tTop1_Acc_Exp/eval_phase/test_stream/Task000/Exp000 = 0.0000\n",
            "-- Starting eval on experience 1 (Task 0) from test stream --\n",
            "100%|██████████| 22/22 [00:00<00:00, 61.16it/s]\n",
            "> Eval on experience 1 (Task 0) from test stream ended.\n",
            "\tLoss_Exp/eval_phase/test_stream/Task000/Exp001 = 6.0283\n",
            "\tTop1_Acc_Exp/eval_phase/test_stream/Task000/Exp001 = 0.0000\n",
            "-- Starting eval on experience 2 (Task 0) from test stream --\n",
            "100%|██████████| 20/20 [00:00<00:00, 59.86it/s]\n",
            "> Eval on experience 2 (Task 0) from test stream ended.\n",
            "\tLoss_Exp/eval_phase/test_stream/Task000/Exp002 = 6.8888\n",
            "\tTop1_Acc_Exp/eval_phase/test_stream/Task000/Exp002 = 0.0031\n",
            "-- Starting eval on experience 3 (Task 0) from test stream --\n",
            "100%|██████████| 21/21 [00:00<00:00, 59.76it/s]\n",
            "> Eval on experience 3 (Task 0) from test stream ended.\n",
            "\tLoss_Exp/eval_phase/test_stream/Task000/Exp003 = 6.7387\n",
            "\tTop1_Acc_Exp/eval_phase/test_stream/Task000/Exp003 = 0.0505\n",
            "-- Starting eval on experience 4 (Task 0) from test stream --\n",
            "100%|██████████| 21/21 [00:00<00:00, 59.26it/s]\n",
            "> Eval on experience 4 (Task 0) from test stream ended.\n",
            "\tLoss_Exp/eval_phase/test_stream/Task000/Exp004 = 0.0398\n",
            "\tTop1_Acc_Exp/eval_phase/test_stream/Task000/Exp004 = 0.9886\n",
            "-- >> End of eval phase << --\n",
            "\tLoss_Stream/eval_phase/test_stream/Task000 = 5.4581\n",
            "\tTop1_Acc_Stream/eval_phase/test_stream/Task000 = 0.2095\n"
          ]
        }
      ],
      "source": [
        "from avalanche.benchmarks.classic import SplitMNIST\n",
        "\n",
        "# scenario\n",
        "benchmark = SplitMNIST(n_experiences=5, seed=1)\n",
        "\n",
        "# TRAINING LOOP\n",
        "print('Starting experiment...')\n",
        "results = []\n",
        "for experience in benchmark.train_stream:\n",
        "    print(\"Start of experience: \", experience.current_experience)\n",
        "    print(\"Current Classes: \", experience.classes_in_this_experience)\n",
        "\n",
        "    cl_strategy.train(experience)\n",
        "    print('Training completed')\n",
        "\n",
        "    print('Computing accuracy on the whole test set')\n",
        "    results.append(cl_strategy.eval(benchmark.test_stream))"
      ]
    },
    {
      "cell_type": "markdown",
      "metadata": {
        "pycharm": {
          "name": "#%% md\n"
        },
        "id": "Nhzef72_Z83-"
      },
      "source": [
        "### Adding Plugins\n",
        "\n",
        "Most continual learning strategies follow roughly the same training/evaluation loops, i.e. a simple naive strategy (a.k.a. finetuning) augmented with additional behavior to counteract catastrophic forgetting. The plugin systems in Avalanche is designed to easily augment continual learning strategies with custom behavior, without having to rewrite the training loop from scratch. Avalanche strategies accept an optional list of `plugins` that will be executed during the training/evaluation loops.\n",
        "\n",
        "For example, early stopping is implemented as a plugin:"
      ]
    },
    {
      "cell_type": "code",
      "execution_count": 4,
      "metadata": {
        "pycharm": {
          "name": "#%%\n"
        },
        "id": "OuMT81YYZ83-"
      },
      "outputs": [],
      "source": [
        "from avalanche.training.plugins import EarlyStoppingPlugin\n",
        "\n",
        "strategy = Naive(\n",
        "    model, optimizer, criterion,\n",
        "    plugins=[EarlyStoppingPlugin(patience=10, val_stream_name='train')])"
      ]
    },
    {
      "cell_type": "markdown",
      "metadata": {
        "pycharm": {
          "name": "#%% md\n"
        },
        "id": "Mc8cKM8oZ83_"
      },
      "source": [
        "In Avalanche, most continual learning strategies are implemented using plugins, which makes it easy to combine them together. For example, it is extremely easy to create a hybrid strategy that combines replay and EWC together by passing the appropriate `plugins` list to the `SupervisedTemplate`:"
      ]
    },
    {
      "cell_type": "code",
      "execution_count": 5,
      "metadata": {
        "pycharm": {
          "name": "#%%\n"
        },
        "id": "dtqy5wZBZ83_"
      },
      "outputs": [],
      "source": [
        "from avalanche.training.templates import SupervisedTemplate\n",
        "from avalanche.training.plugins import ReplayPlugin, EWCPlugin\n",
        "\n",
        "replay = ReplayPlugin(mem_size=100)\n",
        "ewc = EWCPlugin(ewc_lambda=0.001)\n",
        "strategy = SupervisedTemplate(\n",
        "    model, optimizer, criterion,\n",
        "    plugins=[replay, ewc])"
      ]
    },
    {
      "cell_type": "markdown",
      "metadata": {
        "pycharm": {
          "name": "#%% md\n"
        },
        "id": "sShtM2W5Z83_"
      },
      "source": [
        "Beware that most strategy plugins modify the internal state. As a result, not all the strategy plugins can be combined together. For example, it does not make sense to use multiple replay plugins since they will try to modify the same strategy variables (mini-batches, dataloaders), and therefore they will be in conflict."
      ]
    },
    {
      "cell_type": "markdown",
      "metadata": {
        "pycharm": {
          "name": "#%% md\n"
        },
        "id": "ixyDDcqlZ83_"
      },
      "source": [
        "## 📝 A Look Inside Avalanche Strategies\n",
        "\n",
        "If you arrived at this point you already know how to use Avalanche strategies and are ready to use it. However, before making your own strategies you need to understand a little bit the internal implementation of the training and evaluation loops.\n",
        "\n",
        "In _Avalanche_ you can customize a strategy in 2 ways:\n",
        "\n",
        "1. **Plugins**: Most strategies can be implemented as additional code that runs on top of the basic training and evaluation loops (e.g. the `Naive` strategy). Therefore, the easiest way to define a custom strategy such as a regularization or replay strategy, is to define it as a custom plugin. The advantage of plugins is that they can be combined, as long as they are compatible, i.e. they do not modify the same part of the state. The disadvantage is that in order to do so you need to understand the strategy loop, which can be a bit complex at first.\n",
        "2. **Subclassing**: In _Avalanche_, continual learning strategies inherit from the appropriate template, which provides generic training and evaluation loops. The most high level template is the `BaseTemplate`, from which all the _Avalanche_'s strategies inherit. Most template's methods can be safely overridden (with some caveats that we will see later).\n",
        "\n",
        "Keep in mind that if you already have a working continual learning strategy that does not use _Avalanche_, you can use most Avalanche components such as `benchmarks`, `evaluation`, and `models` without using _Avalanche_'s strategies!\n",
        "\n",
        "### Training and Evaluation Loops\n",
        "\n",
        "As we already mentioned, _Avalanche_ strategies inherit from the appropriate template (e.g. continual supervised learning strategies inherit from the `SupervisedTemplate`). These templates provide:\n",
        "\n",
        "1. Basic _Training_ and _Evaluation_ loops which define a naive (finetuning) strategy.\n",
        "2. _Callback_ points, which are used to call the plugins at a specific moments during the loop's execution.\n",
        "3. A set of variables representing the state of the loops (current model, data, mini-batch, predictions, ...) which allows plugins and child classes to easily manipulate the state of the training loop.\n",
        "\n",
        "The training loop has the following structure:\n",
        "```text\n",
        "train\n",
        "    before_training\n",
        "\n",
        "    before_train_dataset_adaptation\n",
        "    train_dataset_adaptation\n",
        "    after_train_dataset_adaptation\n",
        "    make_train_dataloader\n",
        "    model_adaptation\n",
        "    make_optimizer\n",
        "    before_training_exp  # for each exp\n",
        "        before_training_epoch  # for each epoch\n",
        "            before_training_iteration  # for each iteration\n",
        "                before_forward\n",
        "                after_forward\n",
        "                before_backward\n",
        "                after_backward\n",
        "            after_training_iteration\n",
        "            before_update\n",
        "            after_update\n",
        "        after_training_epoch\n",
        "    after_training_exp\n",
        "    after_training\n",
        "```\n",
        "\n",
        "The evaluation loop is similar:\n",
        "```text\n",
        "eval\n",
        "    before_eval\n",
        "    before_eval_dataset_adaptation\n",
        "    eval_dataset_adaptation\n",
        "    after_eval_dataset_adaptation\n",
        "    make_eval_dataloader\n",
        "    model_adaptation\n",
        "    before_eval_exp  # for each exp\n",
        "        eval_epoch  # we have a single epoch in evaluation mode\n",
        "            before_eval_iteration  # for each iteration\n",
        "                before_eval_forward\n",
        "                after_eval_forward\n",
        "            after_eval_iteration\n",
        "    after_eval_exp\n",
        "    after_eval\n",
        "```\n",
        "\n",
        "Methods starting with `before/after` are the methods responsible for calling the plugins.\n",
        "Notice that before the start of each experience during training we have several phases:\n",
        "- *dataset adaptation*: This is the phase where the training data can be modified by the strategy, for example by adding other samples from a separate buffer.\n",
        "- *dataloader initialization*: Initialize the data loader. Many strategies (e.g. replay) use custom dataloaders to balance the data.\n",
        "- *model adaptation*: Here, the dynamic models (see the `models` tutorial) are updated by calling their `adaptation` method.\n",
        "- *optimizer initialization*: After the model has been updated, the optimizer should also be updated to ensure that the new parameters are optimized.\n",
        "\n",
        "### Strategy State\n",
        "The strategy state is accessible via several attributes. Most of these can be modified by plugins and subclasses:\n",
        "- `self.clock`: keeps track of several event counters.\n",
        "- `self.experience`: the current experience.\n",
        "- `self.adapted_dataset`: the data modified by the dataset adaptation phase.\n",
        "- `self.dataloader`: the current dataloader.\n",
        "- `self.mbatch`: the current mini-batch. For supervised classification problems, mini-batches have the form `<x, y, t>`, where `x` is the input, `y` is the target class, and `t` is the task label.\n",
        "- `self.mb_output`: the current model's output.\n",
        "- `self.loss`: the current loss.\n",
        "- `self.is_training`: `True` if the strategy is in training mode.\n",
        "\n",
        "## How to Write a Plugin\n",
        "Plugins provide a simple solution to define a new strategy by augmenting the behavior of another strategy (typically the `Naive` strategy). This approach reduces the overhead and code duplication, **improving code readability and prototyping speed**.\n",
        "\n",
        "Creating a plugin is straightforward. As with strategies, you must create a class that inherits from the corresponding plugin template (`BasePlugin`, `BaseSGDPlugin`, `SupervisedPlugin`) and implements the callbacks that you need. The exact callback to use depend on the aim of your plugin. You can use the loop shown above to understand what callbacks you need to use. For example, we show below a simple replay plugin that uses `after_training_exp` to update the buffer after each training experience, and the `before_training_exp` to customize the dataloader. Notice that `before_training_exp` is executed after `make_train_dataloader`, which means that the `Naive` strategy already updated the dataloader. If we used another callback, such as `before_train_dataset_adaptation`, our dataloader would have been overwritten by the `Naive` strategy. Plugin methods always receive the `strategy` as an argument, so they can access and modify the strategy's state."
      ]
    },
    {
      "cell_type": "code",
      "execution_count": 6,
      "metadata": {
        "pycharm": {
          "name": "#%%\n"
        },
        "id": "7ldVsrwwZ83_",
        "outputId": "8b687d27-6b93-43ac-b90e-87b70badab26",
        "colab": {
          "base_uri": "https://localhost:8080/"
        }
      },
      "outputs": [
        {
          "output_type": "stream",
          "name": "stdout",
          "text": [
            "-- >> Start of training phase << --\n",
            "100%|██████████| 89/89 [00:01<00:00, 44.61it/s]\n",
            "Epoch 0 ended.\n",
            "\tLoss_Epoch/train_phase/train_stream/Task000 = 0.1751\n",
            "\tTop1_Acc_Epoch/train_phase/train_stream/Task000 = 0.9478\n",
            "100%|██████████| 100/100 [00:02<00:00, 39.05it/s]\n",
            "Epoch 0 ended.\n",
            "\tLoss_Epoch/train_phase/train_stream/Task000 = 0.5911\n",
            "\tTop1_Acc_Epoch/train_phase/train_stream/Task000 = 0.8915\n",
            "100%|██████████| 92/92 [00:02<00:00, 37.44it/s]\n",
            "Epoch 0 ended.\n",
            "\tLoss_Epoch/train_phase/train_stream/Task000 = 0.5489\n",
            "\tTop1_Acc_Epoch/train_phase/train_stream/Task000 = 0.8564\n",
            "100%|██████████| 95/95 [00:02<00:00, 33.47it/s]\n",
            "Epoch 0 ended.\n",
            "\tLoss_Epoch/train_phase/train_stream/Task000 = 0.7076\n",
            "\tTop1_Acc_Epoch/train_phase/train_stream/Task000 = 0.8095\n",
            "100%|██████████| 95/95 [00:02<00:00, 38.14it/s]\n",
            "Epoch 0 ended.\n",
            "\tLoss_Epoch/train_phase/train_stream/Task000 = 0.7410\n",
            "\tTop1_Acc_Epoch/train_phase/train_stream/Task000 = 0.8081\n",
            "-- >> End of training phase << --\n",
            "-- >> Start of eval phase << --\n",
            "-- Starting eval on experience 0 (Task 0) from test stream --\n",
            "100%|██████████| 15/15 [00:00<00:00, 53.46it/s]\n",
            "> Eval on experience 0 (Task 0) from test stream ended.\n",
            "\tLoss_Exp/eval_phase/test_stream/Task000/Exp000 = 0.7227\n",
            "\tTop1_Acc_Exp/eval_phase/test_stream/Task000/Exp000 = 0.7670\n",
            "-- Starting eval on experience 1 (Task 0) from test stream --\n",
            "100%|██████████| 17/17 [00:00<00:00, 51.52it/s]\n",
            "> Eval on experience 1 (Task 0) from test stream ended.\n",
            "\tLoss_Exp/eval_phase/test_stream/Task000/Exp001 = 0.3551\n",
            "\tTop1_Acc_Exp/eval_phase/test_stream/Task000/Exp001 = 0.9077\n",
            "-- Starting eval on experience 2 (Task 0) from test stream --\n",
            "100%|██████████| 16/16 [00:00<00:00, 53.02it/s]\n",
            "> Eval on experience 2 (Task 0) from test stream ended.\n",
            "\tLoss_Exp/eval_phase/test_stream/Task000/Exp002 = 0.6835\n",
            "\tTop1_Acc_Exp/eval_phase/test_stream/Task000/Exp002 = 0.8168\n",
            "-- Starting eval on experience 3 (Task 0) from test stream --\n",
            "100%|██████████| 16/16 [00:00<00:00, 54.93it/s]\n",
            "> Eval on experience 3 (Task 0) from test stream ended.\n",
            "\tLoss_Exp/eval_phase/test_stream/Task000/Exp003 = 1.1686\n",
            "\tTop1_Acc_Exp/eval_phase/test_stream/Task000/Exp003 = 0.4933\n",
            "-- Starting eval on experience 4 (Task 0) from test stream --\n",
            "100%|██████████| 16/16 [00:00<00:00, 54.34it/s]\n",
            "> Eval on experience 4 (Task 0) from test stream ended.\n",
            "\tLoss_Exp/eval_phase/test_stream/Task000/Exp004 = 0.0778\n",
            "\tTop1_Acc_Exp/eval_phase/test_stream/Task000/Exp004 = 0.9786\n",
            "-- >> End of eval phase << --\n",
            "\tLoss_Stream/eval_phase/test_stream/Task000 = 0.5958\n",
            "\tTop1_Acc_Stream/eval_phase/test_stream/Task000 = 0.7945\n"
          ]
        },
        {
          "output_type": "execute_result",
          "data": {
            "text/plain": [
              "{'Top1_Acc_Epoch/train_phase/train_stream/Task000': 0.8081422245720706,\n",
              " 'Loss_Epoch/train_phase/train_stream/Task000': 0.7410415130876107,\n",
              " 'Top1_Acc_Exp/eval_phase/test_stream/Task000/Exp000': 0.7670270270270271,\n",
              " 'Loss_Exp/eval_phase/test_stream/Task000/Exp000': 0.7227041492591033,\n",
              " 'Top1_Acc_Exp/eval_phase/test_stream/Task000/Exp001': 0.9077065066912783,\n",
              " 'Loss_Exp/eval_phase/test_stream/Task000/Exp001': 0.35510920158002474,\n",
              " 'Top1_Acc_Exp/eval_phase/test_stream/Task000/Exp002': 0.8167860798362334,\n",
              " 'Loss_Exp/eval_phase/test_stream/Task000/Exp002': 0.6835261336856635,\n",
              " 'Top1_Acc_Exp/eval_phase/test_stream/Task000/Exp003': 0.4933135215453195,\n",
              " 'Loss_Exp/eval_phase/test_stream/Task000/Exp003': 1.1685963427595363,\n",
              " 'Top1_Acc_Exp/eval_phase/test_stream/Task000/Exp004': 0.9786069651741294,\n",
              " 'Loss_Exp/eval_phase/test_stream/Task000/Exp004': 0.07781347763858995,\n",
              " 'Top1_Acc_Stream/eval_phase/test_stream/Task000': 0.7945,\n",
              " 'Loss_Stream/eval_phase/test_stream/Task000': 0.5957935487260111}"
            ]
          },
          "metadata": {},
          "execution_count": 6
        }
      ],
      "source": [
        "from avalanche.benchmarks.utils.data_loader import ReplayDataLoader\n",
        "from avalanche.core import SupervisedPlugin\n",
        "from avalanche.training.storage_policy import ReservoirSamplingBuffer\n",
        "\n",
        "\n",
        "class ReplayP(SupervisedPlugin):\n",
        "\n",
        "    def __init__(self, mem_size):\n",
        "        \"\"\" A simple replay plugin with reservoir sampling. \"\"\"\n",
        "        super().__init__()\n",
        "        self.buffer = ReservoirSamplingBuffer(max_size=mem_size)\n",
        "\n",
        "    def before_training_exp(self, strategy: \"SupervisedTemplate\",\n",
        "                            num_workers: int = 0, shuffle: bool = True,\n",
        "                            **kwargs):\n",
        "        \"\"\" Use a custom dataloader to combine samples from the current data and memory buffer. \"\"\"\n",
        "        if len(self.buffer.buffer) == 0:\n",
        "            # first experience. We don't use the buffer, no need to change\n",
        "            # the dataloader.\n",
        "            return\n",
        "        strategy.dataloader = ReplayDataLoader(\n",
        "            strategy.adapted_dataset,\n",
        "            self.buffer.buffer,\n",
        "            oversample_small_tasks=True,\n",
        "            num_workers=num_workers,\n",
        "            batch_size=strategy.train_mb_size,\n",
        "            shuffle=shuffle)\n",
        "\n",
        "    def after_training_exp(self, strategy: \"SupervisedTemplate\", **kwargs):\n",
        "        \"\"\" Update the buffer. \"\"\"\n",
        "        self.buffer.update(strategy, **kwargs)\n",
        "\n",
        "\n",
        "benchmark = SplitMNIST(n_experiences=5, seed=1)\n",
        "model = SimpleMLP(num_classes=10)\n",
        "optimizer = SGD(model.parameters(), lr=0.01, momentum=0.9)\n",
        "criterion = CrossEntropyLoss()\n",
        "strategy = Naive(model=model, optimizer=optimizer, criterion=criterion, train_mb_size=128,\n",
        "                 plugins=[ReplayP(mem_size=2000)])\n",
        "strategy.train(benchmark.train_stream)\n",
        "strategy.eval(benchmark.test_stream)"
      ]
    },
    {
      "cell_type": "markdown",
      "metadata": {
        "id": "e2MCENKlZ83_"
      },
      "source": [
        "The animation below shows the execution and callbacks steps of a Naive strategy that is extended with the EWC plugin:\n",
        "\n",
        "<img align='center' style='max-width: 800px' src='https://github.com/ContinualAI/avalanche/blob/master/.gitbook/assets/ewc_template_animation.gif?raw=1'>\n"
      ]
    },
    {
      "cell_type": "markdown",
      "metadata": {
        "pycharm": {
          "name": "#%% md\n"
        },
        "id": "PE8_rm3cZ84A"
      },
      "source": [
        "Check base plugin's documentation for a complete list of the available callbacks."
      ]
    },
    {
      "cell_type": "markdown",
      "metadata": {
        "pycharm": {
          "name": "#%% md\n"
        },
        "id": "6bxLcAk3Z84A"
      },
      "source": [
        "## How to Write a Custom Strategy\n",
        "\n",
        "You can always define a custom strategy by overriding the corresponding template methods.\n",
        "However, There is an important caveat to keep in mind. If you override a method, you must remember to call all the callback's handlers (the methods starting with `before/after`) at the appropriate points. For example, `train` calls `before_training` and `after_training` before and after the training loops, respectively. The easiest way to avoid mistakes is to start from the template's method that you want to override and modify it based on your own needs without removing the callbacks handling.\n",
        "\n",
        "Notice that the `EvaluationPlugin` (see `evaluation` tutorial) uses the strategy callbacks.\n",
        "\n",
        "As an example, the `SupervisedTemplate`, for continual supervised strategies, provides the global state of the loop in the strategy's attributes, which you can safely use when you override a method. For instance, the `Cumulative` strategy trains a model continually on the union of all the experiences encountered so far. To achieve this, the cumulative strategy overrides `adapt_train_dataset` and updates `self.adapted_dataset' by concatenating all the previous experiences with the current one."
      ]
    },
    {
      "cell_type": "code",
      "execution_count": 7,
      "metadata": {
        "pycharm": {
          "name": "#%%\n"
        },
        "id": "5eKzOebnZ84A",
        "outputId": "844c65eb-8f09-413a-fe71-8df9caa00ed9",
        "colab": {
          "base_uri": "https://localhost:8080/"
        }
      },
      "outputs": [
        {
          "output_type": "stream",
          "name": "stdout",
          "text": [
            "-- >> Start of training phase << --\n",
            "100%|██████████| 89/89 [00:01<00:00, 45.46it/s]\n",
            "Epoch 0 ended.\n",
            "\tLoss_Epoch/train_phase/train_stream/Task000 = 0.1389\n",
            "\tTop1_Acc_Epoch/train_phase/train_stream/Task000 = 0.9608\n",
            "100%|██████████| 188/188 [00:04<00:00, 42.29it/s]\n",
            "Epoch 0 ended.\n",
            "\tLoss_Epoch/train_phase/train_stream/Task000 = 0.1352\n",
            "\tTop1_Acc_Epoch/train_phase/train_stream/Task000 = 0.9643\n",
            "100%|██████████| 280/280 [00:06<00:00, 45.75it/s]\n",
            "Epoch 0 ended.\n",
            "\tLoss_Epoch/train_phase/train_stream/Task000 = 0.1962\n",
            "\tTop1_Acc_Epoch/train_phase/train_stream/Task000 = 0.9446\n",
            "100%|██████████| 375/375 [00:08<00:00, 43.54it/s]\n",
            "Epoch 0 ended.\n",
            "\tLoss_Epoch/train_phase/train_stream/Task000 = 0.2429\n",
            "\tTop1_Acc_Epoch/train_phase/train_stream/Task000 = 0.9307\n",
            "100%|██████████| 469/469 [00:10<00:00, 43.83it/s]\n",
            "Epoch 0 ended.\n",
            "\tLoss_Epoch/train_phase/train_stream/Task000 = 0.2452\n",
            "\tTop1_Acc_Epoch/train_phase/train_stream/Task000 = 0.9289\n",
            "-- >> End of training phase << --\n"
          ]
        },
        {
          "output_type": "execute_result",
          "data": {
            "text/plain": [
              "{'Top1_Acc_Epoch/train_phase/train_stream/Task000': 0.9289166666666666,\n",
              " 'Loss_Epoch/train_phase/train_stream/Task000': 0.24515948289235434}"
            ]
          },
          "metadata": {},
          "execution_count": 7
        }
      ],
      "source": [
        "from avalanche.benchmarks.utils import AvalancheConcatDataset\n",
        "from avalanche.training.templates import SupervisedTemplate\n",
        "\n",
        "\n",
        "class Cumulative(SupervisedTemplate):\n",
        "    def __init__(self, *args, **kwargs):\n",
        "        super().__init__(*args, **kwargs)\n",
        "        self.dataset = None  # cumulative dataset\n",
        "\n",
        "    def train_dataset_adaptation(self, **kwargs):\n",
        "        super().train_dataset_adaptation(**kwargs)\n",
        "        curr_data = self.experience.dataset\n",
        "        if self.dataset is None:\n",
        "            self.dataset = curr_data\n",
        "        else:\n",
        "            self.dataset = AvalancheConcatDataset([self.dataset, curr_data])\n",
        "        self.adapted_dataset = self.dataset.train()\n",
        "\n",
        "strategy = Cumulative(model=model, optimizer=optimizer, criterion=criterion, train_mb_size=128)\n",
        "strategy.train(benchmark.train_stream)"
      ]
    },
    {
      "cell_type": "markdown",
      "metadata": {
        "pycharm": {
          "name": "#%% md\n"
        },
        "id": "EpssKRj_Z84A"
      },
      "source": [
        "Easy, isn't it? :-\\)\n",
        "\n",
        "In general, we recommend to _implement a Strategy via plugins_, if possible. This approach is the easiest to use and requires minimal knowledge of the strategy templates. It also allows other people to re-use your plugin and facilitates interoperability among different strategies.\n",
        "\n",
        "For example, replay strategies can be implemented as a custom strategy or as plugins. However, creating a plugin allows using the replay in conjunction with other strategies or plugins, making it possible to combine different approaches to build the ultimate continual learning algorithm!"
      ]
    },
    {
      "cell_type": "markdown",
      "metadata": {
        "pycharm": {
          "name": "#%% md\n"
        },
        "id": "4aQKdxpdZ84A"
      },
      "source": [
        "This completes the \"_Training_\" chapter for the \"_From Zero to Hero_\" series. We hope you enjoyed it!\n",
        "\n",
        "## 🤝 Run it on Google Colab\n",
        "\n",
        "You can run _this chapter_ and play with it on Google Colaboratory: [![Open In Colab](https://colab.research.google.com/assets/colab-badge.svg)](https://colab.research.google.com/github/ContinualAI/avalanche/blob/master/notebooks/from-zero-to-hero-tutorial/04_training.ipynb)"
      ]
    }
  ],
  "metadata": {
    "kernelspec": {
      "display_name": "Python 3",
      "language": "python",
      "name": "python3"
    },
    "language_info": {
      "codemirror_mode": {
        "name": "ipython",
        "version": 3
      },
      "file_extension": ".py",
      "mimetype": "text/x-python",
      "name": "python",
      "nbconvert_exporter": "python",
      "pygments_lexer": "ipython3",
      "version": "3.9.16"
    },
    "colab": {
      "provenance": []
    }
  },
  "nbformat": 4,
  "nbformat_minor": 0
}