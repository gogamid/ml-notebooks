{
  "nbformat": 4,
  "nbformat_minor": 0,
  "metadata": {
    "accelerator": "GPU",
    "colab": {
      "name": "permuted_and_split_mnist.ipynb",
      "provenance": [],
      "gpuType": "T4",
      "include_colab_link": true
    },
    "kernelspec": {
      "display_name": "Python 3",
      "name": "python3"
    },
    "language_info": {
      "codemirror_mode": {
        "name": "ipython",
        "version": 3
      },
      "file_extension": ".py",
      "mimetype": "text/x-python",
      "name": "python",
      "nbconvert_exporter": "python",
      "pygments_lexer": "ipython3",
      "version": "3.7.1"
    }
  },
  "cells": [
    {
      "cell_type": "markdown",
      "metadata": {
        "id": "view-in-github",
        "colab_type": "text"
      },
      "source": [
        "<a href=\"https://colab.research.google.com/github/gogamid/ml-notebooks/blob/main/continualai/permuted_and_split_mnist.ipynb\" target=\"_parent\"><img src=\"https://colab.research.google.com/assets/colab-badge.svg\" alt=\"Open In Colab\"/></a>"
      ]
    },
    {
      "cell_type": "markdown",
      "metadata": {
        "id": "fp9hbokQIxWW"
      },
      "source": [
        "# Permuted and Split MNIST: a Deep Continual Learning Example in PyTorch\n",
        "\n",
        "In this brief demo we will showcase two common *Continual Learning* benchmark often used to introduce the problem and start prototyping possible computational strategies to solve it. We will use bare Python, Numpy and *PyTorch*. In order to construct these benchmarks we will start from the the standard MNIST dataset (LeCun, 1998)!\n",
        "\n",
        "This notebook is part of the **[Continual AI Colab](https://github.com/ContinualAI/colab)**, a repository meant for tutorials and demo running on Google Colaboratory. [Continual AI](https://www.continualai.org/) is an open research community on the topic of Continual Learning and AI! Join us today [on slack](https://continualai.herokuapp.com/)! :-D\n",
        "\n",
        "This notebook has been also used for the [Continual Learning course](https://course.continualai.org) offered at the *University of Pisa* in conjunction with *ContinualAI* and the *AIDA Doctoral Academy*.\n",
        "\n",
        "We will start with learning over the standard *MNIST* benchmark, then we will move in the actual continual learning setting  with the *Permuted MNIST* and *Split MNIST*  benchmarks. Let's have some fun! :-)\n",
        "\n",
        "\n",
        "---\n",
        "**Connecting a local runtime**\n",
        "\n",
        "In case resources are not enough for you (no GPU for example), you can always connect another [local runtime](https://research.google.com/colaboratory/local-runtimes.html) or to a [runtime on a Google Compute Engine instance](https://research.google.com/colaboratory/local-runtimes.html).\n",
        "\n",
        "This notebook has been designed to run fast enough on simple CPUs so you shouldn't find any trouble here, using a free *hosted account*.\n",
        "\n",
        "---\n",
        "\n",
        "\n",
        "**Requisites to run it locally, outside colab (not recommended)**\n",
        "\n",
        "*   Python 3.x\n",
        "*   Jupyter\n",
        "*   PyTorch >= 1.8\n",
        "*   NumPy\n",
        "*   Matplotlib\n",
        "---\n",
        "\n"
      ]
    },
    {
      "cell_type": "markdown",
      "metadata": {
        "id": "z6RUp96FLuMd"
      },
      "source": [
        "# Google Colaboratory\n",
        "\n",
        "First of all, take a moment to look around and discover Google Colab if you haven't before! You can run the commands below to understand how much resources you're using and are still available. Then consider also that you can also connect your Google Drive for additional space or for easily loading your own files.\n",
        "\n",
        "You can always reset the entire VM with \"*Runtime > Reset all runtime*\" in case of difficulty. Make also sure you're using the GPU or TPU in the same  tab (\"*Runtime > Change runtime type*\")."
      ]
    },
    {
      "cell_type": "code",
      "metadata": {
        "colab": {
          "base_uri": "https://localhost:8080/"
        },
        "id": "pPViRmMBqbJ2",
        "outputId": "56e1f134-7cdf-480c-96d8-1ca34abcb143"
      },
      "source": [
        "!free -m\n",
        "!df -h\n",
        "!nvidia-smi"
      ],
      "execution_count": 1,
      "outputs": [
        {
          "output_type": "stream",
          "name": "stdout",
          "text": [
            "               total        used        free      shared  buff/cache   available\n",
            "Mem:           12978        1129        6173          19        5676       11526\n",
            "Swap:              0           0           0\n",
            "Filesystem      Size  Used Avail Use% Mounted on\n",
            "overlay          79G   27G   52G  35% /\n",
            "tmpfs            64M     0   64M   0% /dev\n",
            "shm             5.7G     0  5.7G   0% /dev/shm\n",
            "/dev/root       2.0G  1.1G  849M  57% /usr/sbin/docker-init\n",
            "tmpfs           6.4G   19M  6.4G   1% /var/colab\n",
            "/dev/sda1        75G   56G   20G  75% /opt/bin/.nvidia\n",
            "tmpfs           6.4G     0  6.4G   0% /proc/acpi\n",
            "tmpfs           6.4G     0  6.4G   0% /proc/scsi\n",
            "tmpfs           6.4G     0  6.4G   0% /sys/firmware\n",
            "Mon Jan  8 17:14:30 2024       \n",
            "+---------------------------------------------------------------------------------------+\n",
            "| NVIDIA-SMI 535.104.05             Driver Version: 535.104.05   CUDA Version: 12.2     |\n",
            "|-----------------------------------------+----------------------+----------------------+\n",
            "| GPU  Name                 Persistence-M | Bus-Id        Disp.A | Volatile Uncorr. ECC |\n",
            "| Fan  Temp   Perf          Pwr:Usage/Cap |         Memory-Usage | GPU-Util  Compute M. |\n",
            "|                                         |                      |               MIG M. |\n",
            "|=========================================+======================+======================|\n",
            "|   0  Tesla T4                       Off | 00000000:00:04.0 Off |                    0 |\n",
            "| N/A   62C    P8              10W /  70W |      0MiB / 15360MiB |      0%      Default |\n",
            "|                                         |                      |                  N/A |\n",
            "+-----------------------------------------+----------------------+----------------------+\n",
            "                                                                                         \n",
            "+---------------------------------------------------------------------------------------+\n",
            "| Processes:                                                                            |\n",
            "|  GPU   GI   CI        PID   Type   Process name                            GPU Memory |\n",
            "|        ID   ID                                                             Usage      |\n",
            "|=======================================================================================|\n",
            "|  No running processes found                                                           |\n",
            "+---------------------------------------------------------------------------------------+\n"
          ]
        }
      ]
    },
    {
      "cell_type": "markdown",
      "metadata": {
        "id": "jt_PxOYPmxp_"
      },
      "source": [
        "**Questions to explore:**\n",
        "\n",
        "*   How to connect your Google Drive with Google Colab?\n",
        "*   How to import a new notebook and save it to your GDrive?\n",
        "*   How to use files which are contained in your GDrive?\n",
        "\n",
        "Some tips here: https://medium.com/deep-learning-turkey/google-colab-free-gpu-tutorial-e113627b9f5d\n"
      ]
    },
    {
      "cell_type": "markdown",
      "metadata": {
        "id": "i74kZQufNv5d"
      },
      "source": [
        "Ok, if you are on Colab PyTorch is already installed! Let's import it and see if it can find the GPU:"
      ]
    },
    {
      "cell_type": "code",
      "metadata": {
        "colab": {
          "base_uri": "https://localhost:8080/"
        },
        "id": "hv7FUJ2Wrd_l",
        "outputId": "30168a3f-ff05-467a-caba-845307b8ae2d"
      },
      "source": [
        "import torch\n",
        "torch.cuda.is_available()"
      ],
      "execution_count": 2,
      "outputs": [
        {
          "output_type": "execute_result",
          "data": {
            "text/plain": [
              "True"
            ]
          },
          "metadata": {},
          "execution_count": 2
        }
      ]
    },
    {
      "cell_type": "markdown",
      "metadata": {
        "id": "JuSqVkPnN7iT"
      },
      "source": [
        "That's great, let us import then a few libraries, which we'll be using during this tutorial!"
      ]
    },
    {
      "cell_type": "code",
      "metadata": {
        "id": "w7AxhUWe68vT"
      },
      "source": [
        "import torch\n",
        "import torch.nn as nn\n",
        "import torchvision.datasets as datasets\n",
        "import torchvision.transforms as transforms\n",
        "import torch.optim as optim\n",
        "import torch.nn.functional as F\n",
        "import numpy as np\n",
        "import matplotlib.pyplot as plt\n",
        "import tracemalloc"
      ],
      "execution_count": 3,
      "outputs": []
    },
    {
      "cell_type": "markdown",
      "metadata": {
        "id": "rv89m9nBPXSh"
      },
      "source": [
        "# MNIST: Digits recognition with PyTorch\n",
        "\n",
        "All right, let's start then making sure we all know the basics! Let's recognize the ten handwritten digits learning from 60.000, 28x28 grayscale images.\n",
        "For simplicity let's import a loading script we have already developed inside the **Continual AI Colab** repository:"
      ]
    },
    {
      "cell_type": "code",
      "metadata": {
        "colab": {
          "base_uri": "https://localhost:8080/"
        },
        "id": "yKWbcnh474X3",
        "outputId": "2711b8d3-7a8b-4a69-871a-6814ffbefd62"
      },
      "source": [
        "!git clone https://github.com/ContinualAI/colab.git continualai/colab"
      ],
      "execution_count": 4,
      "outputs": [
        {
          "output_type": "stream",
          "name": "stdout",
          "text": [
            "fatal: destination path 'continualai/colab' already exists and is not an empty directory.\n"
          ]
        }
      ]
    },
    {
      "cell_type": "code",
      "metadata": {
        "colab": {
          "base_uri": "https://localhost:8080/"
        },
        "id": "x3BFVukM_y8i",
        "outputId": "183ef89e-e4a7-4868-c98a-c90faf0d8212"
      },
      "source": [
        "from continualai.colab.scripts import mnist\n",
        "mnist.init()"
      ],
      "execution_count": 5,
      "outputs": [
        {
          "output_type": "stream",
          "name": "stdout",
          "text": [
            "Files already downloaded!\n"
          ]
        }
      ]
    },
    {
      "cell_type": "code",
      "metadata": {
        "id": "6jIk6-G6AhWi",
        "colab": {
          "base_uri": "https://localhost:8080/"
        },
        "outputId": "d1d25ec3-85d8-4880-d8a1-02dbab492742"
      },
      "source": [
        "x_train, t_train, x_test, t_test = mnist.load()\n",
        "\n",
        "print(\"x_train dim and type: \", x_train.shape, x_train.dtype)\n",
        "print(\"t_train dim and type: \", t_train.shape, t_train.dtype)\n",
        "print(\"x_test dim and type: \", x_test.shape, x_test.dtype)\n",
        "print(\"t_test dim and type: \", t_test.shape, t_test.dtype)"
      ],
      "execution_count": 6,
      "outputs": [
        {
          "output_type": "stream",
          "name": "stdout",
          "text": [
            "x_train dim and type:  (60000, 1, 28, 28) float32\n",
            "t_train dim and type:  (60000,) uint8\n",
            "x_test dim and type:  (10000, 1, 28, 28) float32\n",
            "t_test dim and type:  (10000,) uint8\n"
          ]
        }
      ]
    },
    {
      "cell_type": "markdown",
      "metadata": {
        "id": "XEWG2PmbVvb7"
      },
      "source": [
        "Let's take a look at the actual images!"
      ]
    },
    {
      "cell_type": "code",
      "metadata": {
        "id": "RyIuYAw8AuO6",
        "colab": {
          "base_uri": "https://localhost:8080/",
          "height": 406
        },
        "outputId": "9b40463d-df7b-432b-eb32-d363a50a1c62"
      },
      "source": [
        "f, axarr = plt.subplots(2,2)\n",
        "axarr[0,0].imshow(x_train[1, 0], cmap=\"gray\")\n",
        "axarr[0,1].imshow(x_train[2, 0], cmap=\"gray\")\n",
        "axarr[1,0].imshow(x_train[3, 0], cmap=\"gray\")\n",
        "axarr[1,1].imshow(x_train[4, 0], cmap=\"gray\")\n",
        "np.vectorize(lambda ax:ax.axis('off'))(axarr);"
      ],
      "execution_count": 7,
      "outputs": [
        {
          "output_type": "display_data",
          "data": {
            "text/plain": [
              "<Figure size 640x480 with 4 Axes>"
            ],
            "image/png": "[encoded data removed]"
          },
          "metadata": {}
        }
      ]
    },
    {
      "cell_type": "markdown",
      "metadata": {
        "id": "baEsU4PGXsgS"
      },
      "source": [
        "Good! Let's now set up a few general setting before using torch..."
      ]
    },
    {
      "cell_type": "code",
      "metadata": {
        "id": "ztZAPQNXZ4ll"
      },
      "source": [
        "# switch to False to use CPU\n",
        "use_cuda = True\n",
        "\n",
        "use_cuda = use_cuda and torch.cuda.is_available()\n",
        "device = torch.device(\"cuda\" if use_cuda else \"cpu\");\n",
        "torch.manual_seed(1);"
      ],
      "execution_count": 8,
      "outputs": []
    },
    {
      "cell_type": "markdown",
      "metadata": {
        "id": "0Ek0mErIac6n"
      },
      "source": [
        "... and define our first conv-net! We will use 3 layers of convolutions and two fully connected layers:"
      ]
    },
    {
      "cell_type": "code",
      "metadata": {
        "id": "ONMdybG4Be0z"
      },
      "source": [
        "class Net(nn.Module):\n",
        "    def __init__(self):\n",
        "        super(Net, self).__init__()\n",
        "        self.conv1 = nn.Conv2d(1, 10, kernel_size=5)\n",
        "        self.conv2 = nn.Conv2d(10, 20, kernel_size=5)\n",
        "        self.conv2_drop = nn.Dropout2d()\n",
        "        self.fc1 = nn.Linear(320, 50)\n",
        "        self.fc2 = nn.Linear(50, 10)\n",
        "\n",
        "    def forward(self, x):\n",
        "        x = F.relu(F.max_pool2d(self.conv1(x), 2))\n",
        "        x = F.relu(F.max_pool2d(self.conv2_drop(self.conv2(x)), 2))\n",
        "        x = x.view(-1, 320)\n",
        "        x = F.relu(self.fc1(x))\n",
        "        x = F.dropout(x, training=self.training)\n",
        "        x = self.fc2(x)\n",
        "        return x"
      ],
      "execution_count": 9,
      "outputs": []
    },
    {
      "cell_type": "markdown",
      "metadata": {
        "id": "p9S6a-MlYAsu"
      },
      "source": [
        "Then we can write the *train* and *test* functions. Note that for simplicity here we are not using PyTorch [Data Loaders](https://pytorch.org/tutorials/beginner/data_loading_tutorial.html) but this is not recommended for efficiency."
      ]
    },
    {
      "cell_type": "code",
      "metadata": {
        "id": "HGJJfXhJB-zk"
      },
      "source": [
        "def train(model, device, x_train, t_train, optimizer, epoch):\n",
        "    model.train()\n",
        "    for start in range(0, len(t_train)-1, 256):\n",
        "      end = start + 256\n",
        "      x, y = torch.from_numpy(x_train[start:end]), torch.from_numpy(t_train[start:end]).long()\n",
        "      x, y = x.to(device), y.to(device)\n",
        "\n",
        "      optimizer.zero_grad()\n",
        "\n",
        "      output = model(x)\n",
        "      loss = F.cross_entropy(output, y)\n",
        "      loss.backward()\n",
        "      optimizer.step()\n",
        "      #print(loss.item())\n",
        "    print('Train Epoch: {} \\tLoss: {:.6f}'.format(epoch, loss.item()))\n",
        "\n",
        "def test(model, device, x_test, t_test):\n",
        "    model.eval()\n",
        "    test_loss = 0\n",
        "    correct = 0\n",
        "    for start in range(0, len(t_test)-1, 256):\n",
        "      end = start + 256\n",
        "      with torch.no_grad():\n",
        "        x, y = torch.from_numpy(x_test[start:end]), torch.from_numpy(t_test[start:end]).long()\n",
        "        x, y = x.to(device), y.to(device)\n",
        "        output = model(x)\n",
        "        test_loss += F.cross_entropy(output, y).item() # sum up batch loss\n",
        "        pred = output.max(1, keepdim=True)[1] # get the index of the max logit\n",
        "        correct += pred.eq(y.view_as(pred)).sum().item()\n",
        "\n",
        "    test_loss /= len(t_test)\n",
        "    print('Test set: Average loss: {:.4f}, Accuracy: {}/{} ({:.0f}%)\\n'.format(\n",
        "        test_loss, correct, len(t_test),\n",
        "        100. * correct / len(t_test)))\n",
        "    return 100. * correct / len(t_test)"
      ],
      "execution_count": 10,
      "outputs": []
    },
    {
      "cell_type": "markdown",
      "metadata": {
        "id": "IxIISdDPaqb9"
      },
      "source": [
        "Then we are ready to instantiate our model and start the training!"
      ]
    },
    {
      "cell_type": "code",
      "metadata": {
        "id": "1cJURe0JCFh8"
      },
      "source": [
        "model = Net().to(device)\n",
        "optimizer = optim.SGD(model.parameters(), lr=0.01, momentum=0.9)"
      ],
      "execution_count": 11,
      "outputs": []
    },
    {
      "cell_type": "code",
      "metadata": {
        "id": "BlhVt8vylpUv",
        "colab": {
          "base_uri": "https://localhost:8080/"
        },
        "outputId": "edd8ff95-62c3-464e-d570-a0c830f3a369"
      },
      "source": [
        "for epoch in range(1, 3):\n",
        "  train(model, device, x_train, t_train, optimizer, epoch)\n",
        "  test(model, device, x_test, t_test)"
      ],
      "execution_count": 12,
      "outputs": [
        {
          "output_type": "stream",
          "name": "stdout",
          "text": [
            "Train Epoch: 1 \tLoss: 0.765125\n",
            "Test set: Average loss: 0.0013, Accuracy: 9018/10000 (90%)\n",
            "\n",
            "Train Epoch: 2 \tLoss: 0.504060\n",
            "Test set: Average loss: 0.0007, Accuracy: 9419/10000 (94%)\n",
            "\n"
          ]
        }
      ]
    },
    {
      "cell_type": "markdown",
      "metadata": {
        "id": "7qwh4T5Va86-"
      },
      "source": [
        "Wow! 94% accuracy in such a short time.\n",
        "\n",
        "**Questions to explore:**\n",
        "\n",
        "*   Can you find a better parametrization to improve the final accuracy?\n",
        "*   Can you change the network architecture to improve the final accuracy?\n",
        "*   Can you achieve the same performances with a smaller architecture?\n",
        "*   What's the difference in accuracy if you change convolutions with fully connected layers?\n",
        "\n",
        "Some tips here: http://rodrigob.github.io/are_we_there_yet/build/classification_datasets_results.html#4d4e495354"
      ]
    },
    {
      "cell_type": "markdown",
      "metadata": {
        "id": "2dn-5gOGq08g"
      },
      "source": [
        "# Permuted MNIST\n",
        "\n",
        "But what if now we want we the same model being able to solve a new task we encounter over time like a permuted version of the same MNIST? Let's define our custom function to permute it!"
      ]
    },
    {
      "cell_type": "code",
      "metadata": {
        "id": "6Xq_4UvjgXPQ"
      },
      "source": [
        "def permute_mnist(mnist, seed):\n",
        "    \"\"\" Given the training set, permute pixels of each img the same way. \"\"\"\n",
        "\n",
        "    np.random.seed(seed)\n",
        "    print(\"starting permutation...\")\n",
        "    h = w = 28\n",
        "    perm_inds = list(range(h*w))\n",
        "    np.random.shuffle(perm_inds)\n",
        "    # print(perm_inds)\n",
        "    perm_mnist = []\n",
        "    for set in mnist:\n",
        "        num_img = set.shape[0]\n",
        "        flat_set = set.reshape(num_img, w * h)\n",
        "        perm_mnist.append(flat_set[:, perm_inds].reshape(num_img, 1, w, h))\n",
        "    print(\"done.\")\n",
        "    return perm_mnist"
      ],
      "execution_count": 13,
      "outputs": []
    },
    {
      "cell_type": "code",
      "metadata": {
        "id": "4xG5LFwLgkpu",
        "colab": {
          "base_uri": "https://localhost:8080/"
        },
        "outputId": "561924bf-7c34-414c-8288-3db51ba533ba"
      },
      "source": [
        "x_train2, x_test2 = permute_mnist([x_train, x_test], 0)"
      ],
      "execution_count": 14,
      "outputs": [
        {
          "output_type": "stream",
          "name": "stdout",
          "text": [
            "starting permutation...\n",
            "done.\n"
          ]
        }
      ]
    },
    {
      "cell_type": "code",
      "metadata": {
        "id": "LYBa_Gedh_do",
        "colab": {
          "base_uri": "https://localhost:8080/",
          "height": 262
        },
        "outputId": "24c89922-ce2a-4df3-89eb-c0baa1e884a6"
      },
      "source": [
        "f, axarr = plt.subplots(1,2)\n",
        "axarr[0].imshow(x_train[1, 0], cmap=\"gray\")\n",
        "axarr[1].imshow(x_train2[2, 0], cmap=\"gray\")\n",
        "np.vectorize(lambda ax:ax.axis('off'))(axarr);"
      ],
      "execution_count": 15,
      "outputs": [
        {
          "output_type": "display_data",
          "data": {
            "text/plain": [
              "<Figure size 640x480 with 2 Axes>"
            ],
            "image/png": "[encoded data removed]"
          },
          "metadata": {}
        }
      ]
    },
    {
      "cell_type": "markdown",
      "metadata": {
        "id": "46wHcbNAchH-"
      },
      "source": [
        "Amazing. Now let's see how our pre-trained model is working on both the original and the permuted MNIST dataset:"
      ]
    },
    {
      "cell_type": "code",
      "metadata": {
        "id": "Sxusb8s3itli",
        "colab": {
          "base_uri": "https://localhost:8080/"
        },
        "outputId": "9d496f8e-3021-4852-9ed3-759c23867b69"
      },
      "source": [
        "print(\"Testing on the first task:\")\n",
        "test(model, device, x_test, t_test)\n",
        "\n",
        "print(\"Testing on the second task:\")\n",
        "test(model, device, x_test2, t_test);"
      ],
      "execution_count": 16,
      "outputs": [
        {
          "output_type": "stream",
          "name": "stdout",
          "text": [
            "Testing on the first task:\n",
            "Test set: Average loss: 0.0007, Accuracy: 9419/10000 (94%)\n",
            "\n",
            "Testing on the second task:\n",
            "Test set: Average loss: 0.0108, Accuracy: 1027/10000 (10%)\n",
            "\n"
          ]
        }
      ]
    },
    {
      "cell_type": "markdown",
      "metadata": {
        "id": "0pHMg4G_dHFY"
      },
      "source": [
        "Mmmh... that's pretty bad, our model cannot generalize to this apparently very different new task! Well, we can just finetune our model using the new permuted training set!"
      ]
    },
    {
      "cell_type": "code",
      "metadata": {
        "id": "J5PtR8Gqib00",
        "colab": {
          "base_uri": "https://localhost:8080/"
        },
        "outputId": "279f4833-3301-41b5-9111-17e04b3df0c1"
      },
      "source": [
        "for epoch in range(1, 3):\n",
        "  train(model, device, x_train2, t_train, optimizer, epoch)\n",
        "  test(model, device, x_test2, t_test)"
      ],
      "execution_count": 17,
      "outputs": [
        {
          "output_type": "stream",
          "name": "stdout",
          "text": [
            "Train Epoch: 1 \tLoss: 1.499578\n",
            "Test set: Average loss: 0.0032, Accuracy: 7390/10000 (74%)\n",
            "\n",
            "Train Epoch: 2 \tLoss: 1.145040\n",
            "Test set: Average loss: 0.0022, Accuracy: 8265/10000 (83%)\n",
            "\n"
          ]
        }
      ]
    },
    {
      "cell_type": "code",
      "metadata": {
        "id": "ML7Evzb9jPAZ",
        "colab": {
          "base_uri": "https://localhost:8080/"
        },
        "outputId": "b4f58b39-a455-4da3-9fda-d2155a3e87c0"
      },
      "source": [
        "print(\"Testing on the first task:\")\n",
        "test(model, device, x_test, t_test)\n",
        "\n",
        "print(\"Testing on the second task:\")\n",
        "test(model, device, x_test2, t_test);"
      ],
      "execution_count": 18,
      "outputs": [
        {
          "output_type": "stream",
          "name": "stdout",
          "text": [
            "Testing on the first task:\n",
            "Test set: Average loss: 0.0206, Accuracy: 2469/10000 (25%)\n",
            "\n",
            "Testing on the second task:\n",
            "Test set: Average loss: 0.0022, Accuracy: 8265/10000 (83%)\n",
            "\n"
          ]
        }
      ]
    },
    {
      "cell_type": "markdown",
      "metadata": {
        "id": "0UZ6FBuHdm7N"
      },
      "source": [
        "This is very annoying! Now we are not able to solve the original MNIST task anymore! :-( This is the phenomenon known in literature as **Catastrophic Forgetting**! In the following section we well compare three basic baselines for continual learning (and trying to not forget!)\n",
        "\n",
        "**Questions to explore:**\n",
        "\n",
        "*   When the permuted MNIST benchmark has been firstly introduced?\n",
        "*   Can simple Dropout and Regularization techniques reduce forgetting?\n",
        "*   In the permuted MNIST task, do convolutions still help increasing the accuracy?\n",
        "\n",
        "Some tips here: https://papers.nips.cc/paper/5059-compete-to-compute"
      ]
    },
    {
      "cell_type": "markdown",
      "source": [
        "1. 2013\n",
        "2. apparrantly yes\n",
        "3. yes"
      ],
      "metadata": {
        "id": "Jx4Zjx0K6KnQ"
      }
    },
    {
      "cell_type": "markdown",
      "metadata": {
        "id": "9rUgLpUakTy6"
      },
      "source": [
        "## Naive Continual Learning by Finetuning\n",
        "\n",
        "Let us now try to learn continuously with just finetuning and see what we get.\n",
        "We will build a 3-tasks Permuted MNIST benchmark. Finally we will plot our accuracy results at the end of every task. Let's start by defining our 3 tasks with the function we have already introduced before:\n",
        "\n"
      ]
    },
    {
      "cell_type": "code",
      "metadata": {
        "id": "Yu0T_V24joGY",
        "colab": {
          "base_uri": "https://localhost:8080/"
        },
        "outputId": "ab3d3080-8d2d-4773-91a0-2a1943eda89c"
      },
      "source": [
        "# task 1\n",
        "task_1 = [(x_train, t_train), (x_test, t_test)]\n",
        "\n",
        "# task 2\n",
        "x_train2, x_test2 = permute_mnist([x_train, x_test], 1)\n",
        "task_2 = [(x_train2, t_train), (x_test2, t_test)]\n",
        "\n",
        "# task 3\n",
        "x_train3, x_test3 = permute_mnist([x_train, x_test], 2)\n",
        "task_3 = [(x_train3, t_train), (x_test3, t_test)]\n",
        "\n",
        "# task list\n",
        "tasks = [task_3, task_1, task_2]"
      ],
      "execution_count": 19,
      "outputs": [
        {
          "output_type": "stream",
          "name": "stdout",
          "text": [
            "starting permutation...\n",
            "done.\n",
            "starting permutation...\n",
            "done.\n"
          ]
        }
      ]
    },
    {
      "cell_type": "code",
      "metadata": {
        "id": "gzFEA5F8pI_O"
      },
      "source": [
        "model = Net().to(device)\n",
        "optimizer = optim.SGD(model.parameters(), lr=0.01, momentum=0.9)"
      ],
      "execution_count": 20,
      "outputs": []
    },
    {
      "cell_type": "code",
      "metadata": {
        "id": "dLU6KdIbnLMN",
        "colab": {
          "base_uri": "https://localhost:8080/"
        },
        "outputId": "431d2a68-2ae2-451d-f49f-c88c72d5f6eb"
      },
      "source": [
        "naive_accs = []\n",
        "naive_mems = []\n",
        "\n",
        "for id, task in enumerate(tasks):\n",
        "  avg_acc = 0\n",
        "  print(\"Training on task: \", id)\n",
        "\n",
        "  (x_train, t_train), _ = task\n",
        "\n",
        "  for epoch in range(1, 2):\n",
        "    tracemalloc.start()\n",
        "    train(model, device, x_train, t_train, optimizer, epoch)\n",
        "    _, mmem = tracemalloc.get_traced_memory()\n",
        "    print(\"Memory: \", mmem)\n",
        "    naive_mems.append(mmem)\n",
        "    tracemalloc.stop()\n",
        "\n",
        "  for id_test, task in enumerate(tasks):\n",
        "    print(\"Testing on task: \", id_test)\n",
        "    _, (x_test, t_test) = task\n",
        "    acc = test(model, device, x_test, t_test)\n",
        "    avg_acc = avg_acc + acc\n",
        "\n",
        "  naive_accs.append(avg_acc / 3)\n",
        "  print(\"Avg acc: \", avg_acc / 3)\n",
        "\n",
        ""
      ],
      "execution_count": 21,
      "outputs": [
        {
          "output_type": "stream",
          "name": "stdout",
          "text": [
            "Training on task:  0\n",
            "Train Epoch: 1 \tLoss: 2.127612\n",
            "Memory:  133911\n",
            "Testing on task:  0\n",
            "Test set: Average loss: 0.0075, Accuracy: 4128/10000 (41%)\n",
            "\n",
            "Testing on task:  1\n",
            "Test set: Average loss: 0.0106, Accuracy: 856/10000 (9%)\n",
            "\n",
            "Testing on task:  2\n",
            "Test set: Average loss: 0.0085, Accuracy: 2237/10000 (22%)\n",
            "\n",
            "Avg acc:  24.070000000000004\n",
            "Training on task:  1\n",
            "Train Epoch: 1 \tLoss: 0.719922\n",
            "Memory:  103276\n",
            "Testing on task:  0\n",
            "Test set: Average loss: 0.0089, Accuracy: 2165/10000 (22%)\n",
            "\n",
            "Testing on task:  1\n",
            "Test set: Average loss: 0.0010, Accuracy: 9230/10000 (92%)\n",
            "\n",
            "Testing on task:  2\n",
            "Test set: Average loss: 0.0115, Accuracy: 803/10000 (8%)\n",
            "\n",
            "Avg acc:  40.66\n",
            "Training on task:  2\n",
            "Train Epoch: 1 \tLoss: 1.754132\n",
            "Memory:  108938\n",
            "Testing on task:  0\n",
            "Test set: Average loss: 0.0099, Accuracy: 1170/10000 (12%)\n",
            "\n",
            "Testing on task:  1\n",
            "Test set: Average loss: 0.0090, Accuracy: 3220/10000 (32%)\n",
            "\n",
            "Testing on task:  2\n",
            "Test set: Average loss: 0.0056, Accuracy: 6080/10000 (61%)\n",
            "\n",
            "Avg acc:  34.9\n"
          ]
        }
      ]
    },
    {
      "cell_type": "markdown",
      "metadata": {
        "id": "ANJfdFD3s0oT"
      },
      "source": [
        "**Questions to explore:**\n",
        "\n",
        "*   Does the order of the tasks effect the final results?\n",
        "\n",
        "Some tips here: http://proceedings.mlr.press/v78/lomonaco17a/lomonaco17a.pdf"
      ]
    },
    {
      "cell_type": "markdown",
      "metadata": {
        "id": "lCK0EYT-pJa8"
      },
      "source": [
        "## Cumulative Strategy\n",
        "\n",
        "Another simple CL idea is to carry on *all* or *part* of the previously encountered examples (of the previous tasks), shuffling them with the data of the current task. Using *all* the past data is near to the optimal performance we can desire at the end of the task sequence but at the expense of much bigger memory usage.\n",
        "\n",
        "Let's start by defining a function to shuffle our data:\n",
        "\n"
      ]
    },
    {
      "cell_type": "code",
      "metadata": {
        "id": "FdWpT2jhfu3o",
        "colab": {
          "base_uri": "https://localhost:8080/"
        },
        "outputId": "ff8f795c-0577-4ba0-b7cc-0345e9266a08"
      },
      "source": [
        "def shuffle_in_unison(dataset, seed, in_place=False):\n",
        "    \"\"\" Shuffle two (or more) list in unison. \"\"\"\n",
        "\n",
        "    np.random.seed(seed)\n",
        "    rng_state = np.random.get_state()\n",
        "    new_dataset = []\n",
        "    for x in dataset:\n",
        "        if in_place:\n",
        "            np.random.shuffle(x)\n",
        "        else:\n",
        "            new_dataset.append(np.random.permutation(x))\n",
        "        np.random.set_state(rng_state)\n",
        "\n",
        "    if not in_place:\n",
        "        return new_dataset\n",
        "# Our lists\n",
        "a = [1, 2, 3, 4, 5]\n",
        "b = ['a', 'b', 'c', 'd', 'e']\n",
        "\n",
        "# Shuffle\n",
        "shuffled_lists = shuffle_in_unison([a, b], seed=0)\n",
        "\n",
        "# Print shuffled lists\n",
        "print(shuffled_lists)"
      ],
      "execution_count": 22,
      "outputs": [
        {
          "output_type": "stream",
          "name": "stdout",
          "text": [
            "[array([3, 1, 2, 4, 5]), array(['c', 'a', 'b', 'd', 'e'], dtype='<U1')]\n"
          ]
        }
      ]
    },
    {
      "cell_type": "markdown",
      "metadata": {
        "id": "94hg1UrtqFmT"
      },
      "source": [
        "Now we can reset the model and optimizer and run our training over the tasks sequence:"
      ]
    },
    {
      "cell_type": "code",
      "metadata": {
        "id": "62TY0Ajgbsgk"
      },
      "source": [
        "model = Net().to(device)\n",
        "optimizer = optim.SGD(model.parameters(), lr=0.01, momentum=0.9)"
      ],
      "execution_count": 23,
      "outputs": []
    },
    {
      "cell_type": "code",
      "metadata": {
        "id": "y_No-qvDbuZi",
        "colab": {
          "base_uri": "https://localhost:8080/"
        },
        "outputId": "d7958fa4-f843-4868-db07-5d95b51d47e2"
      },
      "source": [
        "cumul_accs = []\n",
        "cumul_mems = []\n",
        "for id, task in enumerate(tasks):\n",
        "  avg_acc = 0\n",
        "  print(\"Training on task: \", id)\n",
        "\n",
        "  (x_train, t_train), _ = task\n",
        "\n",
        "  # for previous task\n",
        "  for i in range(id):\n",
        "    (past_x_train, past_t_train), _ = tasks[i]\n",
        "    x_train = np.concatenate((x_train, past_x_train))\n",
        "    t_train = np.concatenate((t_train, past_t_train))\n",
        "\n",
        "  x_train, t_train = shuffle_in_unison([x_train, t_train], 0)\n",
        "\n",
        "  for epoch in range(1, 2):\n",
        "    tracemalloc.start()\n",
        "    train(model, device, x_train, t_train, optimizer, epoch)\n",
        "    _, mmem = tracemalloc.get_traced_memory()\n",
        "    print(\"Memory: \", mmem)\n",
        "    cumul_mems.append(mmem)\n",
        "    tracemalloc.stop()\n",
        "\n",
        "  for id_test, task in enumerate(tasks):\n",
        "    print(\"Testing on task: \", id_test)\n",
        "    _, (x_test, t_test) = task\n",
        "    acc = test(model, device, x_test, t_test)\n",
        "    avg_acc = avg_acc + acc\n",
        "\n",
        "  print(\"Avg acc: \", avg_acc / 3)\n",
        "  cumul_accs.append(avg_acc/3)\n",
        "\n"
      ],
      "execution_count": 24,
      "outputs": [
        {
          "output_type": "stream",
          "name": "stdout",
          "text": [
            "Training on task:  0\n",
            "Train Epoch: 1 \tLoss: 1.820203\n",
            "Memory:  108318\n",
            "Testing on task:  0\n",
            "Test set: Average loss: 0.0071, Accuracy: 4918/10000 (49%)\n",
            "\n",
            "Testing on task:  1\n",
            "Test set: Average loss: 0.0118, Accuracy: 1155/10000 (12%)\n",
            "\n",
            "Testing on task:  2\n",
            "Test set: Average loss: 0.0084, Accuracy: 2391/10000 (24%)\n",
            "\n",
            "Avg acc:  28.213333333333335\n",
            "Training on task:  1\n",
            "Train Epoch: 1 \tLoss: 0.796315\n",
            "Memory:  89490\n",
            "Testing on task:  0\n",
            "Test set: Average loss: 0.0029, Accuracy: 7828/10000 (78%)\n",
            "\n",
            "Testing on task:  1\n",
            "Test set: Average loss: 0.0012, Accuracy: 9144/10000 (91%)\n",
            "\n",
            "Testing on task:  2\n",
            "Test set: Average loss: 0.0117, Accuracy: 987/10000 (10%)\n",
            "\n",
            "Avg acc:  59.86333333333334\n",
            "Training on task:  2\n",
            "Train Epoch: 1 \tLoss: 0.636458\n",
            "Memory:  112005\n",
            "Testing on task:  0\n",
            "Test set: Average loss: 0.0021, Accuracy: 8488/10000 (85%)\n",
            "\n",
            "Testing on task:  1\n",
            "Test set: Average loss: 0.0009, Accuracy: 9339/10000 (93%)\n",
            "\n",
            "Testing on task:  2\n",
            "Test set: Average loss: 0.0023, Accuracy: 8382/10000 (84%)\n",
            "\n",
            "Avg acc:  87.36333333333333\n"
          ]
        }
      ]
    },
    {
      "cell_type": "markdown",
      "metadata": {
        "id": "jCna5k0DtN-X"
      },
      "source": [
        "**Questions to explore:**\n",
        "\n",
        "*   Can you find a way to reduce the number of examples of the previous tasks to maintain in memory?\n",
        "*   Can you find a good trade-off between memory overhead and final accuracy?\n",
        "*   Why is shuffling needed here?\n",
        "\n",
        "Some tips here: https://arxiv.org/abs/1809.05922"
      ]
    },
    {
      "cell_type": "markdown",
      "metadata": {
        "id": "RrbnV6OqW66y"
      },
      "source": [
        "## JointTraining Strategy\n",
        "\n",
        "While not a proper continual learning strategy, a commonly used baseline for continual learning is what's called \"JointTraining\" or \"offline strategy\", that is a multi-task training setting where all the data are seen at once hence simulating a static setting. This is often intended as a performance upper-bound for a continual learning problem.\n",
        "\n"
      ]
    },
    {
      "cell_type": "code",
      "metadata": {
        "id": "gq_bYiYQbHzq"
      },
      "source": [
        "model = Net().to(device)\n",
        "optimizer = optim.SGD(model.parameters(), lr=0.01, momentum=0.9)"
      ],
      "execution_count": 25,
      "outputs": []
    },
    {
      "cell_type": "code",
      "metadata": {
        "colab": {
          "base_uri": "https://localhost:8080/"
        },
        "id": "T7iwZCidbIqs",
        "outputId": "442d8504-0f20-4d97-e93e-556994e8dca9"
      },
      "source": [
        "import sys\n",
        "offline_accs = []\n",
        "offline_mems = []\n",
        "\n",
        "\n",
        "print(\"Training on all tasks together...\")\n",
        "avg_acc = 0\n",
        "(x_train, t_train), _ = tasks[0]\n",
        "\n",
        "for i in range(1, len(tasks)):\n",
        "    (past_x_train, past_t_train), _ = tasks[i]\n",
        "    x_train = np.concatenate((x_train, past_x_train))\n",
        "    t_train = np.concatenate((t_train, past_t_train))\n",
        "\n",
        "x_train, t_train = shuffle_in_unison([x_train, t_train], 0)\n",
        "\n",
        "for epoch in range(1, 4):\n",
        "    tracemalloc.start()\n",
        "    train(model, device, x_train, t_train, optimizer, epoch)\n",
        "    _, mmem = tracemalloc.get_traced_memory()\n",
        "    print(\"Memory: \", mmem)\n",
        "    offline_mems.append(mmem)\n",
        "    tracemalloc.stop()\n",
        "\n",
        "\n",
        "for id_test, task in enumerate(tasks):\n",
        "    print(\"Testing on task: \", id_test)\n",
        "    _, (x_test, t_test) = task\n",
        "    acc = test(model, device, x_test, t_test)\n",
        "    avg_acc = avg_acc + acc\n",
        "\n",
        "print(\"Avg acc: \", avg_acc / 3)\n",
        "for i in range(len(tasks)):\n",
        "    offline_accs.append(avg_acc/3)\n",
        "\n",
        "print(offline_mems)"
      ],
      "execution_count": 26,
      "outputs": [
        {
          "output_type": "stream",
          "name": "stdout",
          "text": [
            "Training on all tasks together...\n",
            "Train Epoch: 1 \tLoss: 1.066931\n",
            "Memory:  97386\n",
            "Train Epoch: 2 \tLoss: 0.633470\n",
            "Memory:  115110\n",
            "Train Epoch: 3 \tLoss: 0.777397\n",
            "Memory:  86721\n",
            "Testing on task:  0\n",
            "Test set: Average loss: 0.0019, Accuracy: 8584/10000 (86%)\n",
            "\n",
            "Testing on task:  1\n",
            "Test set: Average loss: 0.0007, Accuracy: 9530/10000 (95%)\n",
            "\n",
            "Testing on task:  2\n",
            "Test set: Average loss: 0.0018, Accuracy: 8741/10000 (87%)\n",
            "\n",
            "Avg acc:  89.51666666666665\n",
            "[97386, 115110, 86721]\n"
          ]
        }
      ]
    },
    {
      "cell_type": "markdown",
      "metadata": {
        "id": "5B9b4cCgy0k_"
      },
      "source": [
        "**Questions to explore:**\n",
        "\n",
        "- Is the *JointTraining* strategy really an upper-bound for continual learning?\n",
        "- Can curriculum learning improve our final performace?\n",
        "\n",
        "Some tips here: https://arxiv.org/pdf/1904.03626.pdf"
      ]
    },
    {
      "cell_type": "markdown",
      "source": [
        "1. not always, sometimes CL perfoms better\n",
        "2. yes, first train on simpler examples then expose to more complex ones."
      ],
      "metadata": {
        "id": "nIROJC9UhJys"
      }
    },
    {
      "cell_type": "markdown",
      "metadata": {
        "id": "o3SM7U5fwTqV"
      },
      "source": [
        "## Plot Results\n",
        "\n",
        "To conclude, let's summerize our results in a nice plot! :-)"
      ]
    },
    {
      "cell_type": "code",
      "metadata": {
        "id": "sIQEVVpDwPP5",
        "colab": {
          "base_uri": "https://localhost:8080/",
          "height": 478
        },
        "outputId": "4b24da77-99c8-43e8-fc3d-6d6d597380ba"
      },
      "source": [
        "plt.plot([1, 2, 3], naive_accs, '-o', label=\"Naive\")\n",
        "plt.plot([1, 2, 3], cumul_accs, '-o', label=\"Cumulative\")\n",
        "plt.plot([1, 2, 3], offline_accs, '-o', label=\"JointTraining\")\n",
        "plt.xlabel('Tasks Encountered', fontsize=14)\n",
        "plt.ylabel('Average Accuracy', fontsize=14)\n",
        "plt.title('CL Baselines Comparison on Permuted MNIST', fontsize=14);\n",
        "plt.xticks([1, 2, 3])\n",
        "plt.legend(prop={'size': 16});"
      ],
      "execution_count": 27,
      "outputs": [
        {
          "output_type": "display_data",
          "data": {
            "text/plain": [
              "<Figure size 640x480 with 1 Axes>"
            ],
            "image/png": "[encoded data removed]"
          },
          "metadata": {}
        }
      ]
    },
    {
      "cell_type": "code",
      "source": [
        "plt.plot([1, 2, 3], naive_mems, '-o', label=\"Naive\")\n",
        "plt.plot([1, 2, 3], cumul_mems, '-o', label=\"Cumulative\")\n",
        "plt.plot([1, 2, 3], offline_mems, '-o', label=\"JointTraining\")\n",
        "plt.xlabel('Tasks Encountered', fontsize=14)\n",
        "plt.ylabel('Memory Usage', fontsize=14)\n",
        "plt.title('CL Baselines Comparison on Permuted MNIST', fontsize=14);\n",
        "plt.xticks([1, 2, 3])\n",
        "plt.legend(prop={'size': 16});"
      ],
      "metadata": {
        "colab": {
          "base_uri": "https://localhost:8080/",
          "height": 478
        },
        "id": "k3mAFyrN0uxG",
        "outputId": "71997345-cdec-4770-f54b-8ec94599e3c1"
      },
      "execution_count": 28,
      "outputs": [
        {
          "output_type": "display_data",
          "data": {
            "text/plain": [
              "<Figure size 640x480 with 1 Axes>"
            ],
            "image/png": "[encoded data removed]"
          },
          "metadata": {}
        }
      ]
    },
    {
      "cell_type": "markdown",
      "metadata": {
        "id": "9x1D3O7iunxS"
      },
      "source": [
        "**Questions to explore:**\n",
        "\n",
        "*   What's the difference in terms of memory utilization among the three methods?\n",
        "*   Can you plot a similar graph highlighting the memory increase over time?\n",
        "\n",
        "Some tips here: https://stackoverflow.com/questions/449560/how-do-i-determine-the-size-of-an-object-in-python/30316760"
      ]
    },
    {
      "cell_type": "markdown",
      "source": [
        "1. Naive low, only current task is trained.\n",
        "Cumulative, JointTraining - high, many tasks in the memory\n",
        "2. below"
      ],
      "metadata": {
        "id": "BVb4HOZ3i7IK"
      }
    },
    {
      "cell_type": "code",
      "source": [],
      "metadata": {
        "id": "wcwsSHDvjUiV"
      },
      "execution_count": 28,
      "outputs": []
    },
    {
      "cell_type": "markdown",
      "metadata": {
        "id": "5_wUBAosdjUe"
      },
      "source": [
        "# Split MNIST\n",
        "\n",
        "Split MNIST is just a split in different batches of the original MNIST data. You can do this definining a simple function such as the following:"
      ]
    },
    {
      "cell_type": "code",
      "metadata": {
        "id": "FiL1p163d5CJ"
      },
      "source": [
        "def split_mnist(train_x, train_y, test_x, test_y, n_splits=5):\n",
        "    \"\"\" Given the training set, split the tensors by the class label. \"\"\"\n",
        "    n_classes = 10\n",
        "    if n_classes % n_splits != 0:\n",
        "        print(\"n_classes should be a multiple of the number of splits!\")\n",
        "        raise NotImplemented\n",
        "    class_for_split = n_classes // n_splits\n",
        "    mnist_train_test = [[],[]]  # train and test\n",
        "    for id, data_set in enumerate([(train_x, train_y), (test_x, test_y)]):\n",
        "        for i in range(n_splits):\n",
        "            start = i * class_for_split\n",
        "            end = (i + 1) * class_for_split\n",
        "            split_idxs = np.where(np.logical_and(data_set[1] >= start, data_set[1] < end))[0]\n",
        "            mnist_train_test[id].append((data_set[0][split_idxs], data_set[1][split_idxs]))\n",
        "    return mnist_train_test"
      ],
      "execution_count": 29,
      "outputs": []
    },
    {
      "cell_type": "code",
      "metadata": {
        "id": "89m-P1b_iBF9"
      },
      "source": [
        "train_x, train_y, test_x, test_y = mnist.load()\n",
        "splitmnist = split_mnist(train_x, train_y, test_x, test_y, n_splits=5)"
      ],
      "execution_count": 30,
      "outputs": []
    },
    {
      "cell_type": "code",
      "metadata": {
        "colab": {
          "base_uri": "https://localhost:8080/"
        },
        "id": "9i8D6_dioCYf",
        "outputId": "4f1fc8ae-7c34-44d5-dd24-92d232e8a45a"
      },
      "source": [
        "experiences = []\n",
        "for i in range(5):\n",
        "    train_split_x, train_split_y = splitmnist[0][i]\n",
        "    test_split_x, test_split_y = splitmnist[1][i]\n",
        "    print(\"train & test splits for task {}: \".format(i))\n",
        "    print(train_split_x.shape)\n",
        "    print(train_split_y.shape)\n",
        "    print(min(train_split_y), max(train_split_y))\n",
        "\n",
        "    exp = [(train_split_x, train_split_y), (test_split_x, test_split_y)]\n",
        "    experiences.append(exp)\n",
        "\n"
      ],
      "execution_count": 31,
      "outputs": [
        {
          "output_type": "stream",
          "name": "stdout",
          "text": [
            "train & test splits for task 0: \n",
            "(12665, 1, 28, 28)\n",
            "(12665,)\n",
            "0 1\n",
            "train & test splits for task 1: \n",
            "(12089, 1, 28, 28)\n",
            "(12089,)\n",
            "2 3\n",
            "train & test splits for task 2: \n",
            "(11263, 1, 28, 28)\n",
            "(11263,)\n",
            "4 5\n",
            "train & test splits for task 3: \n",
            "(12183, 1, 28, 28)\n",
            "(12183,)\n",
            "6 7\n",
            "train & test splits for task 4: \n",
            "(11800, 1, 28, 28)\n",
            "(11800,)\n",
            "8 9\n"
          ]
        }
      ]
    },
    {
      "cell_type": "markdown",
      "metadata": {
        "id": "1UBJxBqExQJy"
      },
      "source": [
        "**Exercises / Questions to explore**:\n",
        "\n",
        "- Plot a few sample data belonging to each experience.\n",
        "- Is **SplitMNIST** harder than **PermutedMNIST**?\n",
        "- Is it more realistic? Why?\n",
        "- Compute the results of the introduced baselines. What can you deduce from the plots?\n",
        "\n",
        "Some tips here: https://arxiv.org/pdf/1904.07734.pdf"
      ]
    },
    {
      "cell_type": "code",
      "source": [
        "f, axarr = plt.subplots(5,5)\n",
        "for i, exp in enumerate(experiences):\n",
        "  train_d, test_d = exp\n",
        "  train_x, train_y = train_d\n",
        "  for j in range(5):\n",
        "    axarr[i,j].imshow(train_x[j, 0], cmap=\"gray\")\n",
        "np.vectorize(lambda ax:ax.axis('off'))(axarr);"
      ],
      "metadata": {
        "id": "tx0mY-yC22-x",
        "outputId": "6a95a3b8-e4b4-4ce1-f8ee-21d686f18604",
        "colab": {
          "base_uri": "https://localhost:8080/",
          "height": 406
        }
      },
      "execution_count": 32,
      "outputs": [
        {
          "output_type": "display_data",
          "data": {
            "text/plain": [
              "<Figure size 640x480 with 25 Axes>"
            ],
            "image/png": "[encoded data removed]"
          },
          "metadata": {}
        }
      ]
    },
    {
      "cell_type": "markdown",
      "source": [
        "In conclusion, while SplitMNIST might be harder and more realistic in terms of the challenges faced in real-world applications, both tasks are useful for evaluating different aspects of continual learning1. It’s also worth noting that the difficulty of these tasks can also depend on the specific continual learning method being used2.\n"
      ],
      "metadata": {
        "id": "60m7E60f9IWS"
      }
    },
    {
      "cell_type": "markdown",
      "source": [
        "### Naive Strategy/ Finetuning\n",
        "Train Each task and test all tasks -> catastrophic forgetting"
      ],
      "metadata": {
        "id": "Q7gpXtTs9cpZ"
      }
    },
    {
      "cell_type": "code",
      "source": [
        "model = Net().to(device)\n",
        "optimizer = optim.SGD(model.parameters(), lr=0.01, momentum=0.9)"
      ],
      "metadata": {
        "id": "NIp0TDcx44jI"
      },
      "execution_count": 33,
      "outputs": []
    },
    {
      "cell_type": "code",
      "source": [
        "naive_accs = []\n",
        "naive_mems = []\n",
        "n = len(experiences)\n",
        "tasks = experiences\n",
        "\n",
        "for id, task in enumerate(tasks):\n",
        "  avg_acc = 0\n",
        "  print(\"Training on task: \", id)\n",
        "\n",
        "  (x_train, t_train), _ = task\n",
        "\n",
        "  for epoch in range(1, 2):\n",
        "    tracemalloc.start()\n",
        "    train(model, device, x_train, t_train, optimizer, epoch)\n",
        "    _, mmem = tracemalloc.get_traced_memory()\n",
        "    print(\"Memory: \", mmem)\n",
        "    naive_mems.append(mmem)\n",
        "    tracemalloc.stop()\n",
        "\n",
        "  for id_test, task in enumerate(tasks):\n",
        "    print(\"Testing on task: \", id_test)\n",
        "    _, (x_test, t_test) = task\n",
        "    acc = test(model, device, x_test, t_test)\n",
        "    avg_acc = avg_acc + acc\n",
        "\n",
        "  naive_accs.append(avg_acc / n)\n",
        "  print(\"Avg acc: \", avg_acc / n)\n",
        "\n",
        ""
      ],
      "metadata": {
        "id": "s8F2tP3I-bOH",
        "outputId": "d6e87c0d-9ef6-492f-db6f-87072e3263dc",
        "colab": {
          "base_uri": "https://localhost:8080/"
        }
      },
      "execution_count": 34,
      "outputs": [
        {
          "output_type": "stream",
          "name": "stdout",
          "text": [
            "Training on task:  0\n",
            "Train Epoch: 1 \tLoss: 0.016145\n",
            "Memory:  86721\n",
            "Testing on task:  0\n",
            "Test set: Average loss: 0.0000, Accuracy: 2111/2115 (100%)\n",
            "\n",
            "Testing on task:  1\n",
            "Test set: Average loss: 0.1063, Accuracy: 0/2042 (0%)\n",
            "\n",
            "Testing on task:  2\n",
            "Test set: Average loss: 0.1220, Accuracy: 0/1874 (0%)\n",
            "\n",
            "Testing on task:  3\n",
            "Test set: Average loss: 0.1186, Accuracy: 0/1986 (0%)\n",
            "\n",
            "Testing on task:  4\n",
            "Test set: Average loss: 0.1169, Accuracy: 0/1983 (0%)\n",
            "\n",
            "Avg acc:  19.962174940898343\n",
            "Training on task:  1\n",
            "Train Epoch: 1 \tLoss: 0.714241\n",
            "Memory:  86721\n",
            "Testing on task:  0\n",
            "Test set: Average loss: 0.0537, Accuracy: 0/2115 (0%)\n",
            "\n",
            "Testing on task:  1\n",
            "Test set: Average loss: 0.0027, Accuracy: 1010/2042 (49%)\n",
            "\n",
            "Testing on task:  2\n",
            "Test set: Average loss: 0.0457, Accuracy: 0/1874 (0%)\n",
            "\n",
            "Testing on task:  3\n",
            "Test set: Average loss: 0.0415, Accuracy: 0/1986 (0%)\n",
            "\n",
            "Testing on task:  4\n",
            "Test set: Average loss: 0.0428, Accuracy: 0/1983 (0%)\n",
            "\n",
            "Avg acc:  9.892262487757101\n",
            "Training on task:  2\n",
            "Train Epoch: 1 \tLoss: 0.970830\n",
            "Memory:  86721\n",
            "Testing on task:  0\n",
            "Test set: Average loss: 0.0172, Accuracy: 0/2115 (0%)\n",
            "\n",
            "Testing on task:  1\n",
            "Test set: Average loss: 0.0117, Accuracy: 0/2042 (0%)\n",
            "\n",
            "Testing on task:  2\n",
            "Test set: Average loss: 0.0040, Accuracy: 982/1874 (52%)\n",
            "\n",
            "Testing on task:  3\n",
            "Test set: Average loss: 0.0159, Accuracy: 0/1986 (0%)\n",
            "\n",
            "Testing on task:  4\n",
            "Test set: Average loss: 0.0162, Accuracy: 0/1983 (0%)\n",
            "\n",
            "Avg acc:  10.48025613660619\n",
            "Training on task:  3\n",
            "Train Epoch: 1 \tLoss: 1.144695\n",
            "Memory:  86721\n",
            "Testing on task:  0\n",
            "Test set: Average loss: 0.0147, Accuracy: 0/2115 (0%)\n",
            "\n",
            "Testing on task:  1\n",
            "Test set: Average loss: 0.0134, Accuracy: 0/2042 (0%)\n",
            "\n",
            "Testing on task:  2\n",
            "Test set: Average loss: 0.0112, Accuracy: 0/1874 (0%)\n",
            "\n",
            "Testing on task:  3\n",
            "Test set: Average loss: 0.0044, Accuracy: 1028/1986 (52%)\n",
            "\n",
            "Testing on task:  4\n",
            "Test set: Average loss: 0.0147, Accuracy: 0/1983 (0%)\n",
            "\n",
            "Avg acc:  10.352467270896273\n",
            "Training on task:  4\n",
            "Train Epoch: 1 \tLoss: 1.322138\n",
            "Memory:  86721\n",
            "Testing on task:  0\n",
            "Test set: Average loss: 0.0144, Accuracy: 0/2115 (0%)\n",
            "\n",
            "Testing on task:  1\n",
            "Test set: Average loss: 0.0131, Accuracy: 0/2042 (0%)\n",
            "\n",
            "Testing on task:  2\n",
            "Test set: Average loss: 0.0127, Accuracy: 0/1874 (0%)\n",
            "\n",
            "Testing on task:  3\n",
            "Test set: Average loss: 0.0090, Accuracy: 0/1986 (0%)\n",
            "\n",
            "Testing on task:  4\n",
            "Test set: Average loss: 0.0052, Accuracy: 1009/1983 (51%)\n",
            "\n",
            "Avg acc:  10.176500252143217\n"
          ]
        }
      ]
    },
    {
      "cell_type": "markdown",
      "source": [
        "### Cumulative Strategy\n",
        "Train each task with mix of previous tasks\n",
        "results are better on the cost of memory because all the previous tasks should be also trained together"
      ],
      "metadata": {
        "id": "IbZKS7PqFu4q"
      }
    },
    {
      "cell_type": "code",
      "source": [
        "model = Net().to(device)\n",
        "optimizer = optim.SGD(model.parameters(), lr=0.01, momentum=0.9)"
      ],
      "metadata": {
        "id": "ttLvn7KBFqXR"
      },
      "execution_count": 38,
      "outputs": []
    },
    {
      "cell_type": "code",
      "source": [
        "cumul_accs = []\n",
        "cumul_mems = []\n",
        "for id, task in enumerate(tasks):\n",
        "  avg_acc = 0\n",
        "  print(\"Training on task: \", id)\n",
        "\n",
        "  (x_train, t_train), _ = task\n",
        "\n",
        "  # for previous task\n",
        "  for i in range(id):\n",
        "    (past_x_train, past_t_train), _ = tasks[i]\n",
        "    x_train = np.concatenate((x_train, past_x_train))\n",
        "    t_train = np.concatenate((t_train, past_t_train))\n",
        "\n",
        "  x_train, t_train = shuffle_in_unison([x_train, t_train], 0)\n",
        "\n",
        "  for epoch in range(1, 2):\n",
        "    tracemalloc.start()\n",
        "    train(model, device, x_train, t_train, optimizer, epoch)\n",
        "    _, mmem = tracemalloc.get_traced_memory()\n",
        "    print(\"Memory: \", mmem)\n",
        "    cumul_mems.append(mmem)\n",
        "    tracemalloc.stop()\n",
        "\n",
        "  for id_test, task in enumerate(tasks):\n",
        "    print(\"Testing on task: \", id_test)\n",
        "    _, (x_test, t_test) = task\n",
        "    acc = test(model, device, x_test, t_test)\n",
        "    avg_acc = avg_acc + acc\n",
        "\n",
        "  print(\"Avg acc: \", avg_acc / n)\n",
        "  cumul_accs.append(avg_acc/ n)\n"
      ],
      "metadata": {
        "id": "nBTQpX2YF-eh",
        "outputId": "440cbc11-a182-409c-cc9a-b8303c0cec24",
        "colab": {
          "base_uri": "https://localhost:8080/"
        }
      },
      "execution_count": 39,
      "outputs": [
        {
          "output_type": "stream",
          "name": "stdout",
          "text": [
            "Training on task:  0\n",
            "Train Epoch: 1 \tLoss: 0.021547\n",
            "Memory:  74421\n",
            "Testing on task:  0\n",
            "Test set: Average loss: 0.0001, Accuracy: 2108/2115 (100%)\n",
            "\n",
            "Testing on task:  1\n",
            "Test set: Average loss: 0.1004, Accuracy: 0/2042 (0%)\n",
            "\n",
            "Testing on task:  2\n",
            "Test set: Average loss: 0.1107, Accuracy: 0/1874 (0%)\n",
            "\n",
            "Testing on task:  3\n",
            "Test set: Average loss: 0.1093, Accuracy: 0/1986 (0%)\n",
            "\n",
            "Testing on task:  4\n",
            "Test set: Average loss: 0.1084, Accuracy: 0/1983 (0%)\n",
            "\n",
            "Avg acc:  19.933806146572103\n",
            "Training on task:  1\n",
            "Train Epoch: 1 \tLoss: 0.430893\n",
            "Memory:  17537\n",
            "Testing on task:  0\n",
            "Test set: Average loss: 0.0005, Accuracy: 2068/2115 (98%)\n",
            "\n",
            "Testing on task:  1\n",
            "Test set: Average loss: 0.0018, Accuracy: 1801/2042 (88%)\n",
            "\n",
            "Testing on task:  2\n",
            "Test set: Average loss: 0.0499, Accuracy: 0/1874 (0%)\n",
            "\n",
            "Testing on task:  3\n",
            "Test set: Average loss: 0.0507, Accuracy: 0/1986 (0%)\n",
            "\n",
            "Testing on task:  4\n",
            "Test set: Average loss: 0.0461, Accuracy: 0/1983 (0%)\n",
            "\n",
            "Avg acc:  37.195124605506585\n",
            "Training on task:  2\n",
            "Train Epoch: 1 \tLoss: 0.454589\n",
            "Memory:  72989\n",
            "Testing on task:  0\n",
            "Test set: Average loss: 0.0003, Accuracy: 2084/2115 (99%)\n",
            "\n",
            "Testing on task:  1\n",
            "Test set: Average loss: 0.0007, Accuracy: 1931/2042 (95%)\n",
            "\n",
            "Testing on task:  2\n",
            "Test set: Average loss: 0.0013, Accuracy: 1699/1874 (91%)\n",
            "\n",
            "Testing on task:  3\n",
            "Test set: Average loss: 0.0333, Accuracy: 0/1986 (0%)\n",
            "\n",
            "Testing on task:  4\n",
            "Test set: Average loss: 0.0374, Accuracy: 0/1983 (0%)\n",
            "\n",
            "Avg acc:  56.75202359676986\n",
            "Training on task:  3\n",
            "Train Epoch: 1 \tLoss: 0.418079\n",
            "Memory:  58231\n",
            "Testing on task:  0\n",
            "Test set: Average loss: 0.0003, Accuracy: 2090/2115 (99%)\n",
            "\n",
            "Testing on task:  1\n",
            "Test set: Average loss: 0.0008, Accuracy: 1901/2042 (93%)\n",
            "\n",
            "Testing on task:  2\n",
            "Test set: Average loss: 0.0008, Accuracy: 1783/1874 (95%)\n",
            "\n",
            "Testing on task:  3\n",
            "Test set: Average loss: 0.0007, Accuracy: 1885/1986 (95%)\n",
            "\n",
            "Testing on task:  4\n",
            "Test set: Average loss: 0.0311, Accuracy: 0/1983 (0%)\n",
            "\n",
            "Avg acc:  76.39428988937087\n",
            "Training on task:  4\n",
            "Train Epoch: 1 \tLoss: 0.461483\n",
            "Memory:  73919\n",
            "Testing on task:  0\n",
            "Test set: Average loss: 0.0003, Accuracy: 2072/2115 (98%)\n",
            "\n",
            "Testing on task:  1\n",
            "Test set: Average loss: 0.0007, Accuracy: 1928/2042 (94%)\n",
            "\n",
            "Testing on task:  2\n",
            "Test set: Average loss: 0.0012, Accuracy: 1736/1874 (93%)\n",
            "\n",
            "Testing on task:  3\n",
            "Test set: Average loss: 0.0008, Accuracy: 1870/1986 (94%)\n",
            "\n",
            "Testing on task:  4\n",
            "Test set: Average loss: 0.0017, Accuracy: 1795/1983 (91%)\n",
            "\n",
            "Avg acc:  93.93974849431902\n"
          ]
        }
      ]
    },
    {
      "cell_type": "markdown",
      "source": [
        "### Joint or Offline Strategy\n",
        "Basically gather all and train"
      ],
      "metadata": {
        "id": "BrdLTK9lHLzS"
      }
    },
    {
      "cell_type": "code",
      "source": [
        "model = Net().to(device)\n",
        "optimizer = optim.SGD(model.parameters(), lr=0.01, momentum=0.9)"
      ],
      "metadata": {
        "id": "LhRJ57SOHKZK"
      },
      "execution_count": 50,
      "outputs": []
    },
    {
      "cell_type": "code",
      "source": [
        "offline_accs = []\n",
        "offline_mems = []\n",
        "\n",
        "\n",
        "print(\"Training on all tasks together...\")\n",
        "avg_acc = 0\n",
        "(x_train, t_train), _ = tasks[0]\n",
        "\n",
        "for i in range(1, len(tasks)):\n",
        "    (past_x_train, past_t_train), _ = tasks[i]\n",
        "    x_train = np.concatenate((x_train, past_x_train))\n",
        "    t_train = np.concatenate((t_train, past_t_train))\n",
        "\n",
        "x_train, t_train = shuffle_in_unison([x_train, t_train], 0)\n",
        "\n",
        "for epoch in range(1, 6):\n",
        "    tracemalloc.start()\n",
        "    train(model, device, x_train, t_train, optimizer, epoch)\n",
        "    _, mmem = tracemalloc.get_traced_memory()\n",
        "    print(\"Memory: \", mmem)\n",
        "    offline_mems.append(mmem)\n",
        "    tracemalloc.stop()\n",
        "\n",
        "\n",
        "for id_test, task in enumerate(tasks):\n",
        "    print(\"Testing on task: \", id_test)\n",
        "    _, (x_test, t_test) = task\n",
        "    acc = test(model, device, x_test, t_test)\n",
        "    avg_acc = avg_acc + acc\n",
        "\n",
        "print(\"Avg acc: \", avg_acc / n)\n",
        "for i in range(len(tasks)):\n",
        "    offline_accs.append(avg_acc/n)\n",
        "\n",
        "print(offline_mems)"
      ],
      "metadata": {
        "id": "lISCAXNwI0-d",
        "outputId": "8b098308-8072-4bcf-db92-8db83c5fdef0",
        "colab": {
          "base_uri": "https://localhost:8080/"
        }
      },
      "execution_count": 51,
      "outputs": [
        {
          "output_type": "stream",
          "name": "stdout",
          "text": [
            "Training on all tasks together...\n",
            "Train Epoch: 1 \tLoss: 0.469857\n",
            "Memory:  89684\n",
            "Train Epoch: 2 \tLoss: 0.259996\n",
            "Memory:  20372\n",
            "Train Epoch: 3 \tLoss: 0.245508\n",
            "Memory:  70965\n",
            "Train Epoch: 4 \tLoss: 0.142656\n",
            "Memory:  73446\n",
            "Train Epoch: 5 \tLoss: 0.251010\n",
            "Memory:  75167\n",
            "Testing on task:  0\n",
            "Test set: Average loss: 0.0001, Accuracy: 2093/2115 (99%)\n",
            "\n",
            "Testing on task:  1\n",
            "Test set: Average loss: 0.0004, Accuracy: 1976/2042 (97%)\n",
            "\n",
            "Testing on task:  2\n",
            "Test set: Average loss: 0.0004, Accuracy: 1824/1874 (97%)\n",
            "\n",
            "Testing on task:  3\n",
            "Test set: Average loss: 0.0004, Accuracy: 1918/1986 (97%)\n",
            "\n",
            "Testing on task:  4\n",
            "Test set: Average loss: 0.0006, Accuracy: 1887/1983 (95%)\n",
            "\n",
            "Avg acc:  96.95889566242266\n",
            "[89684, 20372, 70965, 73446, 75167]\n"
          ]
        }
      ]
    },
    {
      "cell_type": "code",
      "source": [
        "\n",
        "plt.plot([1, 2, 3,4,5], naive_accs, '-o', label=\"Naive\")\n",
        "plt.plot([1, 2, 3,4, 5], cumul_accs, '-o', label=\"Cumulative\")\n",
        "plt.plot([1, 2, 3,4,5 ], offline_accs, '-o', label=\"JointTraining\")\n",
        "plt.xlabel('Tasks Encountered', fontsize=14)\n",
        "plt.ylabel('Average Accuracy', fontsize=14)\n",
        "plt.title('CL Baselines Comparison on Split MNIST', fontsize=14);\n",
        "plt.xticks([1, 2, 3,4, 5 ])\n",
        "plt.legend(prop={'size': 16});"
      ],
      "metadata": {
        "id": "nrUFGgroJXld",
        "outputId": "2e2d35cb-8000-41c0-fd85-eefdb413dc0c",
        "colab": {
          "base_uri": "https://localhost:8080/",
          "height": 478
        }
      },
      "execution_count": 55,
      "outputs": [
        {
          "output_type": "display_data",
          "data": {
            "text/plain": [
              "<Figure size 640x480 with 1 Axes>"
            ],
            "image/png": "[encoded data removed]"
          },
          "metadata": {}
        }
      ]
    },
    {
      "cell_type": "code",
      "source": [
        "plt.plot([1, 2, 3,4,5], naive_mems, '-o', label=\"Naive\")\n",
        "plt.plot([1, 2, 3,4,5], cumul_mems, '-o', label=\"Cumulative\")\n",
        "plt.plot([1, 2, 3,4,5], offline_mems, '-o', label=\"JointTraining\")\n",
        "plt.xlabel('Tasks Encountered', fontsize=14)\n",
        "plt.ylabel('Memory Usage', fontsize=14)\n",
        "plt.title('CL Baselines Comparison on Split MNIST', fontsize=14);\n",
        "plt.xticks([1, 2, 3,4,5 ])\n",
        "plt.legend(prop={'size': 16});"
      ],
      "metadata": {
        "id": "nwv9mUXaKPX7",
        "outputId": "5914dcba-baf4-4443-9a07-5d61df3a892c",
        "colab": {
          "base_uri": "https://localhost:8080/",
          "height": 478
        }
      },
      "execution_count": 56,
      "outputs": [
        {
          "output_type": "display_data",
          "data": {
            "text/plain": [
              "<Figure size 640x480 with 1 Axes>"
            ],
            "image/png": "[encoded data removed]"
          },
          "metadata": {}
        }
      ]
    },
    {
      "cell_type": "markdown",
      "metadata": {
        "id": "OS9gHzZM7HQr"
      },
      "source": [
        "**Copyright (c) 2021. Continual AI. All rights reserved.**\n",
        "\n",
        "See the accompanying LICENSE file in the GitHub repository for terms.\n",
        "\n",
        "*Date: 15-11-2021                                                             \n",
        "Author: Vincenzo Lomonaco                                                    \n",
        "E-mail: contact@continualai.org                                           \n",
        "Website: continualai.org*                                               "
      ]
    }
  ]
}